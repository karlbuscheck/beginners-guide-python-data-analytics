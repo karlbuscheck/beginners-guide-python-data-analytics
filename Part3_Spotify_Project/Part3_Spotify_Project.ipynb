{
 "cells": [
  {
   "cell_type": "markdown",
   "metadata": {
    "id": "DP7D-k6UZSoi"
   },
   "source": [
    "# Part 3: Spotify Project"
   ]
  },
  {
   "cell_type": "markdown",
   "metadata": {},
   "source": [
    "## Table of Contents\n",
    "- Dataset Description\n",
    "- Data Cleaning and Preparation\n",
    "- Business Insight: Do Podcasts Need Video to Reach the Spotify Top 10?\n",
    "- ML Insight: No Shortcuts to the Top — Predicting Chart Staying Power"
   ]
  },
  {
   "cell_type": "markdown",
   "metadata": {
    "id": "yHNhHbg-XD24"
   },
   "source": [
    "## Dateset Description"
   ]
  },
  {
   "cell_type": "markdown",
   "metadata": {
    "id": "PfcWTev3jVNZ"
   },
   "source": [
    "This data set came from Kaggle and provides a daily ranking of the top 200 podcast episodes on Spotify from 22 different countries. The data set covers two months of rankings from the fall (2024-09-01 to 2024-10-23). The original CSV file included 29 columns, with details like rank, region, episode duration and whether or not an episode included explicit content or a video component.\n",
    "\n",
    "It offers a massive repository of near real-time data that enables exploration and discovery of actionable, real-world findings and managerial insights about the world of podcasting -- where ad revenue is projected to surpass [$5 billion](https://backlinko.com/podcast-stats) in 2027."
   ]
  },
  {
   "cell_type": "code",
   "execution_count": 20,
   "metadata": {
    "id": "wrlr9C2gZSom"
   },
   "outputs": [],
   "source": [
    "# Begin with the imports\n",
    "import pandas as pd\n",
    "import numpy as np\n",
    "import seaborn as sns\n",
    "import matplotlib.pyplot as plt\n",
    "\n",
    "\n",
    "# Print all the outputs in a cell\n",
    "from IPython.core.interactiveshell import InteractiveShell\n",
    "InteractiveShell.ast_node_interactivity = 'all'\n",
    "\n",
    "# Ignore all the warnings\n",
    "import warnings\n",
    "warnings.filterwarnings('ignore')"
   ]
  },
  {
   "cell_type": "code",
   "execution_count": 8,
   "metadata": {
    "id": "FvDEGHnsbCLE"
   },
   "outputs": [],
   "source": [
    "df = pd.read_csv('top_podcasts.csv', index_col=0)"
   ]
  },
  {
   "cell_type": "code",
   "execution_count": 9,
   "metadata": {
    "colab": {
     "base_uri": "https://localhost:8080/",
     "height": 651
    },
    "executionInfo": {
     "elapsed": 52,
     "status": "ok",
     "timestamp": 1741750921702,
     "user": {
      "displayName": "Carlson Thai",
      "userId": "09141101884345333781"
     },
     "user_tz": 420
    },
    "id": "GEibAomzZSoo",
    "outputId": "2e096c68-fc83-47fb-8040-a6ca08cbcf12"
   },
   "outputs": [
    {
     "data": {
      "text/html": [
       "<div>\n",
       "<style scoped>\n",
       "    .dataframe tbody tr th:only-of-type {\n",
       "        vertical-align: middle;\n",
       "    }\n",
       "\n",
       "    .dataframe tbody tr th {\n",
       "        vertical-align: top;\n",
       "    }\n",
       "\n",
       "    .dataframe thead th {\n",
       "        text-align: right;\n",
       "    }\n",
       "</style>\n",
       "<table border=\"1\" class=\"dataframe\">\n",
       "  <thead>\n",
       "    <tr style=\"text-align: right;\">\n",
       "      <th></th>\n",
       "      <th>rank</th>\n",
       "      <th>region</th>\n",
       "      <th>chartRankMove</th>\n",
       "      <th>episodeUri</th>\n",
       "      <th>showUri</th>\n",
       "      <th>episodeName</th>\n",
       "      <th>description</th>\n",
       "      <th>show.name</th>\n",
       "      <th>show.description</th>\n",
       "      <th>show.publisher</th>\n",
       "      <th>...</th>\n",
       "      <th>show.copyrights</th>\n",
       "      <th>show.explicit</th>\n",
       "      <th>show.href</th>\n",
       "      <th>show.html_description</th>\n",
       "      <th>show.is_externally_hosted</th>\n",
       "      <th>show.languages</th>\n",
       "      <th>show.media_type</th>\n",
       "      <th>show.total_episodes</th>\n",
       "      <th>show.type</th>\n",
       "      <th>show.uri</th>\n",
       "    </tr>\n",
       "    <tr>\n",
       "      <th>date</th>\n",
       "      <th></th>\n",
       "      <th></th>\n",
       "      <th></th>\n",
       "      <th></th>\n",
       "      <th></th>\n",
       "      <th></th>\n",
       "      <th></th>\n",
       "      <th></th>\n",
       "      <th></th>\n",
       "      <th></th>\n",
       "      <th></th>\n",
       "      <th></th>\n",
       "      <th></th>\n",
       "      <th></th>\n",
       "      <th></th>\n",
       "      <th></th>\n",
       "      <th></th>\n",
       "      <th></th>\n",
       "      <th></th>\n",
       "      <th></th>\n",
       "      <th></th>\n",
       "    </tr>\n",
       "  </thead>\n",
       "  <tbody>\n",
       "    <tr>\n",
       "      <th>2024-09-02</th>\n",
       "      <td>1</td>\n",
       "      <td>us</td>\n",
       "      <td>UNCHANGED</td>\n",
       "      <td>37kBZRr3nqjltQXt8KuiDJ</td>\n",
       "      <td>4rOoJ6Egrf8K2IrywzwOMk</td>\n",
       "      <td>#2197 - Mike Baker</td>\n",
       "      <td>Mike Baker is a former CIA covert operations o...</td>\n",
       "      <td>The Joe Rogan Experience</td>\n",
       "      <td>The official podcast of comedian Joe Rogan.</td>\n",
       "      <td>Joe Rogan</td>\n",
       "      <td>...</td>\n",
       "      <td>[]</td>\n",
       "      <td>True</td>\n",
       "      <td>https://api.spotify.com/v1/shows/4rOoJ6Egrf8K2...</td>\n",
       "      <td>&lt;p&gt;The official podcast of comedian Joe Rogan....</td>\n",
       "      <td>False</td>\n",
       "      <td>['en']</td>\n",
       "      <td>mixed</td>\n",
       "      <td>2366</td>\n",
       "      <td>show</td>\n",
       "      <td>spotify:show:4rOoJ6Egrf8K2IrywzwOMk</td>\n",
       "    </tr>\n",
       "    <tr>\n",
       "      <th>2024-09-02</th>\n",
       "      <td>2</td>\n",
       "      <td>us</td>\n",
       "      <td>UNCHANGED</td>\n",
       "      <td>293KKxbEKt2zrem6XFCxYG</td>\n",
       "      <td>4rOoJ6Egrf8K2IrywzwOMk</td>\n",
       "      <td>#2195 - Andrew Huberman</td>\n",
       "      <td>Andrew Huberman, PhD, is a neuroscientist and ...</td>\n",
       "      <td>The Joe Rogan Experience</td>\n",
       "      <td>The official podcast of comedian Joe Rogan.</td>\n",
       "      <td>Joe Rogan</td>\n",
       "      <td>...</td>\n",
       "      <td>[]</td>\n",
       "      <td>True</td>\n",
       "      <td>https://api.spotify.com/v1/shows/4rOoJ6Egrf8K2...</td>\n",
       "      <td>&lt;p&gt;The official podcast of comedian Joe Rogan....</td>\n",
       "      <td>False</td>\n",
       "      <td>['en']</td>\n",
       "      <td>mixed</td>\n",
       "      <td>2366</td>\n",
       "      <td>show</td>\n",
       "      <td>spotify:show:4rOoJ6Egrf8K2IrywzwOMk</td>\n",
       "    </tr>\n",
       "    <tr>\n",
       "      <th>2024-09-02</th>\n",
       "      <td>3</td>\n",
       "      <td>us</td>\n",
       "      <td>UNCHANGED</td>\n",
       "      <td>53z4LvgoGjjVkdiJkCGhZX</td>\n",
       "      <td>4rOoJ6Egrf8K2IrywzwOMk</td>\n",
       "      <td>#2196 - Greg Fitzsimmons</td>\n",
       "      <td>Greg Fitzsimmons is a comedian, actor, and wri...</td>\n",
       "      <td>The Joe Rogan Experience</td>\n",
       "      <td>The official podcast of comedian Joe Rogan.</td>\n",
       "      <td>Joe Rogan</td>\n",
       "      <td>...</td>\n",
       "      <td>[]</td>\n",
       "      <td>True</td>\n",
       "      <td>https://api.spotify.com/v1/shows/4rOoJ6Egrf8K2...</td>\n",
       "      <td>&lt;p&gt;The official podcast of comedian Joe Rogan....</td>\n",
       "      <td>False</td>\n",
       "      <td>['en']</td>\n",
       "      <td>mixed</td>\n",
       "      <td>2366</td>\n",
       "      <td>show</td>\n",
       "      <td>spotify:show:4rOoJ6Egrf8K2IrywzwOMk</td>\n",
       "    </tr>\n",
       "    <tr>\n",
       "      <th>2024-09-02</th>\n",
       "      <td>4</td>\n",
       "      <td>us</td>\n",
       "      <td>UP</td>\n",
       "      <td>5rrRkpfKZUUR85WxMYCX9k</td>\n",
       "      <td>0KvuZJgXfOGanBRuq6B9dm</td>\n",
       "      <td>The Worst Creature To Run Into During The Ice Age</td>\n",
       "      <td>The Ice Age was no doubt one of earth’s most q...</td>\n",
       "      <td>ExtinctZoo</td>\n",
       "      <td>Your one stop shop for all things dinosaurs, p...</td>\n",
       "      <td>ExtinctZoo</td>\n",
       "      <td>...</td>\n",
       "      <td>[]</td>\n",
       "      <td>False</td>\n",
       "      <td>https://api.spotify.com/v1/shows/0KvuZJgXfOGan...</td>\n",
       "      <td>Your one stop shop for all things dinosaurs, p...</td>\n",
       "      <td>False</td>\n",
       "      <td>['en']</td>\n",
       "      <td>mixed</td>\n",
       "      <td>30</td>\n",
       "      <td>show</td>\n",
       "      <td>spotify:show:0KvuZJgXfOGanBRuq6B9dm</td>\n",
       "    </tr>\n",
       "    <tr>\n",
       "      <th>2024-09-02</th>\n",
       "      <td>5</td>\n",
       "      <td>us</td>\n",
       "      <td>DOWN</td>\n",
       "      <td>2Qd2dJDDAocbTjGvXwHOfm</td>\n",
       "      <td>5L2ON33kXa2b7laBpCAgOI</td>\n",
       "      <td>Jeffrey Sachs: Trump’s Plan to Stop WWIII, CIA...</td>\n",
       "      <td>Professor Jeffrey Sachs’s provides a full and ...</td>\n",
       "      <td>The Tucker Carlson Show</td>\n",
       "      <td>The Tucker Carlson Show is your beacon of free...</td>\n",
       "      <td>Tucker Carlson Network</td>\n",
       "      <td>...</td>\n",
       "      <td>[]</td>\n",
       "      <td>False</td>\n",
       "      <td>https://api.spotify.com/v1/shows/5L2ON33kXa2b7...</td>\n",
       "      <td>&lt;p&gt;The Tucker Carlson Show is your beacon of f...</td>\n",
       "      <td>False</td>\n",
       "      <td>['en']</td>\n",
       "      <td>audio</td>\n",
       "      <td>115</td>\n",
       "      <td>show</td>\n",
       "      <td>spotify:show:5L2ON33kXa2b7laBpCAgOI</td>\n",
       "    </tr>\n",
       "  </tbody>\n",
       "</table>\n",
       "<p>5 rows × 28 columns</p>\n",
       "</div>"
      ],
      "text/plain": [
       "            rank region chartRankMove              episodeUri  \\\n",
       "date                                                            \n",
       "2024-09-02     1     us     UNCHANGED  37kBZRr3nqjltQXt8KuiDJ   \n",
       "2024-09-02     2     us     UNCHANGED  293KKxbEKt2zrem6XFCxYG   \n",
       "2024-09-02     3     us     UNCHANGED  53z4LvgoGjjVkdiJkCGhZX   \n",
       "2024-09-02     4     us            UP  5rrRkpfKZUUR85WxMYCX9k   \n",
       "2024-09-02     5     us          DOWN  2Qd2dJDDAocbTjGvXwHOfm   \n",
       "\n",
       "                           showUri  \\\n",
       "date                                 \n",
       "2024-09-02  4rOoJ6Egrf8K2IrywzwOMk   \n",
       "2024-09-02  4rOoJ6Egrf8K2IrywzwOMk   \n",
       "2024-09-02  4rOoJ6Egrf8K2IrywzwOMk   \n",
       "2024-09-02  0KvuZJgXfOGanBRuq6B9dm   \n",
       "2024-09-02  5L2ON33kXa2b7laBpCAgOI   \n",
       "\n",
       "                                                  episodeName  \\\n",
       "date                                                            \n",
       "2024-09-02                                 #2197 - Mike Baker   \n",
       "2024-09-02                            #2195 - Andrew Huberman   \n",
       "2024-09-02                           #2196 - Greg Fitzsimmons   \n",
       "2024-09-02  The Worst Creature To Run Into During The Ice Age   \n",
       "2024-09-02  Jeffrey Sachs: Trump’s Plan to Stop WWIII, CIA...   \n",
       "\n",
       "                                                  description  \\\n",
       "date                                                            \n",
       "2024-09-02  Mike Baker is a former CIA covert operations o...   \n",
       "2024-09-02  Andrew Huberman, PhD, is a neuroscientist and ...   \n",
       "2024-09-02  Greg Fitzsimmons is a comedian, actor, and wri...   \n",
       "2024-09-02  The Ice Age was no doubt one of earth’s most q...   \n",
       "2024-09-02  Professor Jeffrey Sachs’s provides a full and ...   \n",
       "\n",
       "                           show.name  \\\n",
       "date                                   \n",
       "2024-09-02  The Joe Rogan Experience   \n",
       "2024-09-02  The Joe Rogan Experience   \n",
       "2024-09-02  The Joe Rogan Experience   \n",
       "2024-09-02                ExtinctZoo   \n",
       "2024-09-02   The Tucker Carlson Show   \n",
       "\n",
       "                                             show.description  \\\n",
       "date                                                            \n",
       "2024-09-02        The official podcast of comedian Joe Rogan.   \n",
       "2024-09-02        The official podcast of comedian Joe Rogan.   \n",
       "2024-09-02        The official podcast of comedian Joe Rogan.   \n",
       "2024-09-02  Your one stop shop for all things dinosaurs, p...   \n",
       "2024-09-02  The Tucker Carlson Show is your beacon of free...   \n",
       "\n",
       "                    show.publisher  ...  show.copyrights  show.explicit  \\\n",
       "date                                ...                                   \n",
       "2024-09-02               Joe Rogan  ...               []           True   \n",
       "2024-09-02               Joe Rogan  ...               []           True   \n",
       "2024-09-02               Joe Rogan  ...               []           True   \n",
       "2024-09-02              ExtinctZoo  ...               []          False   \n",
       "2024-09-02  Tucker Carlson Network  ...               []          False   \n",
       "\n",
       "                                                    show.href  \\\n",
       "date                                                            \n",
       "2024-09-02  https://api.spotify.com/v1/shows/4rOoJ6Egrf8K2...   \n",
       "2024-09-02  https://api.spotify.com/v1/shows/4rOoJ6Egrf8K2...   \n",
       "2024-09-02  https://api.spotify.com/v1/shows/4rOoJ6Egrf8K2...   \n",
       "2024-09-02  https://api.spotify.com/v1/shows/0KvuZJgXfOGan...   \n",
       "2024-09-02  https://api.spotify.com/v1/shows/5L2ON33kXa2b7...   \n",
       "\n",
       "                                        show.html_description  \\\n",
       "date                                                            \n",
       "2024-09-02  <p>The official podcast of comedian Joe Rogan....   \n",
       "2024-09-02  <p>The official podcast of comedian Joe Rogan....   \n",
       "2024-09-02  <p>The official podcast of comedian Joe Rogan....   \n",
       "2024-09-02  Your one stop shop for all things dinosaurs, p...   \n",
       "2024-09-02  <p>The Tucker Carlson Show is your beacon of f...   \n",
       "\n",
       "           show.is_externally_hosted show.languages show.media_type  \\\n",
       "date                                                                  \n",
       "2024-09-02                     False         ['en']           mixed   \n",
       "2024-09-02                     False         ['en']           mixed   \n",
       "2024-09-02                     False         ['en']           mixed   \n",
       "2024-09-02                     False         ['en']           mixed   \n",
       "2024-09-02                     False         ['en']           audio   \n",
       "\n",
       "           show.total_episodes show.type                             show.uri  \n",
       "date                                                                           \n",
       "2024-09-02                2366      show  spotify:show:4rOoJ6Egrf8K2IrywzwOMk  \n",
       "2024-09-02                2366      show  spotify:show:4rOoJ6Egrf8K2IrywzwOMk  \n",
       "2024-09-02                2366      show  spotify:show:4rOoJ6Egrf8K2IrywzwOMk  \n",
       "2024-09-02                  30      show  spotify:show:0KvuZJgXfOGanBRuq6B9dm  \n",
       "2024-09-02                 115      show  spotify:show:5L2ON33kXa2b7laBpCAgOI  \n",
       "\n",
       "[5 rows x 28 columns]"
      ]
     },
     "execution_count": 9,
     "metadata": {},
     "output_type": "execute_result"
    }
   ],
   "source": [
    "# Check to make sure the dataset loaded properly with .head()\n",
    "df.head()"
   ]
  },
  {
   "cell_type": "markdown",
   "metadata": {
    "id": "GOhle2EEZE7y"
   },
   "source": [
    "### What does the Spotify data set contain?"
   ]
  },
  {
   "cell_type": "markdown",
   "metadata": {
    "id": "FraD7Rd_k52B"
   },
   "source": [
    "##### To begin, let's check the 'shape' of the DataFrame can obtain both number of rows and columns."
   ]
  },
  {
   "cell_type": "code",
   "execution_count": 12,
   "metadata": {
    "colab": {
     "base_uri": "https://localhost:8080/"
    },
    "executionInfo": {
     "elapsed": 10,
     "status": "ok",
     "timestamp": 1741750921713,
     "user": {
      "displayName": "Carlson Thai",
      "userId": "09141101884345333781"
     },
     "user_tz": 420
    },
    "id": "GLLsTcDXZfBu",
    "outputId": "624987ff-023b-4750-8e51-76fc885bed08"
   },
   "outputs": [
    {
     "data": {
      "text/plain": [
       "(228800, 28)"
      ]
     },
     "execution_count": 12,
     "metadata": {},
     "output_type": "execute_result"
    }
   ],
   "source": [
    "# Check the number of rows and columns with .shape\n",
    "df.shape"
   ]
  },
  {
   "cell_type": "markdown",
   "metadata": {
    "id": "-jek3OtBcoE6"
   },
   "source": [
    "So, the dataset has 228,800 rows and 28 columns or **over 6.4 million entries.**"
   ]
  },
  {
   "cell_type": "markdown",
   "metadata": {
    "id": "-1VYbrn3jrch"
   },
   "source": [
    "##### Now to check how many of those might be null:"
   ]
  },
  {
   "cell_type": "code",
   "execution_count": 15,
   "metadata": {
    "colab": {
     "base_uri": "https://localhost:8080/",
     "height": 962
    },
    "executionInfo": {
     "elapsed": 430,
     "status": "ok",
     "timestamp": 1741750922144,
     "user": {
      "displayName": "Carlson Thai",
      "userId": "09141101884345333781"
     },
     "user_tz": 420
    },
    "id": "YK4m3Qeyc5Dc",
    "outputId": "a4119bc3-7f13-4c1f-9483-cc9703ac1a4c"
   },
   "outputs": [
    {
     "data": {
      "text/plain": [
       "rank                            0\n",
       "region                          0\n",
       "chartRankMove                   0\n",
       "episodeUri                      0\n",
       "showUri                         0\n",
       "episodeName                     0\n",
       "description                  2621\n",
       "show.name                       0\n",
       "show.description                0\n",
       "show.publisher                  0\n",
       "duration_ms                     0\n",
       "explicit                        0\n",
       "is_externally_hosted            0\n",
       "is_playable                     0\n",
       "language                        0\n",
       "languages                       0\n",
       "release_date                    0\n",
       "release_date_precision          0\n",
       "show.copyrights                 0\n",
       "show.explicit                   0\n",
       "show.href                       0\n",
       "show.html_description          28\n",
       "show.is_externally_hosted       0\n",
       "show.languages                  0\n",
       "show.media_type                 0\n",
       "show.total_episodes             0\n",
       "show.type                       0\n",
       "show.uri                        0\n",
       "dtype: int64"
      ]
     },
     "execution_count": 15,
     "metadata": {},
     "output_type": "execute_result"
    }
   ],
   "source": [
    "# Check for null values with .isna() and .sum()\n",
    "df.isna().sum()"
   ]
  },
  {
   "cell_type": "markdown",
   "metadata": {
    "id": "fIkPJTnvl4d5"
   },
   "source": [
    "From these results, we that there are two columns with null values:\n",
    "- 'description' having a null value of **2,621**\n",
    "- 'show.html_description' having a null value of **28**"
   ]
  },
  {
   "cell_type": "markdown",
   "metadata": {
    "id": "afNzSixpdpLZ"
   },
   "source": [
    "Now to handle the missing data..."
   ]
  },
  {
   "cell_type": "markdown",
   "metadata": {
    "id": "skYQZxtpXH0N"
   },
   "source": [
    "## Data Cleaning and Preparation"
   ]
  },
  {
   "cell_type": "code",
   "execution_count": 19,
   "metadata": {
    "colab": {
     "base_uri": "https://localhost:8080/",
     "height": 651
    },
    "executionInfo": {
     "elapsed": 636,
     "status": "ok",
     "timestamp": 1741750922782,
     "user": {
      "displayName": "Carlson Thai",
      "userId": "09141101884345333781"
     },
     "user_tz": 420
    },
    "id": "SMQTritTdWdk",
    "outputId": "ccb36e64-1ebd-4006-ca75-edb5a92baa69"
   },
   "outputs": [
    {
     "data": {
      "text/html": [
       "<div>\n",
       "<style scoped>\n",
       "    .dataframe tbody tr th:only-of-type {\n",
       "        vertical-align: middle;\n",
       "    }\n",
       "\n",
       "    .dataframe tbody tr th {\n",
       "        vertical-align: top;\n",
       "    }\n",
       "\n",
       "    .dataframe thead th {\n",
       "        text-align: right;\n",
       "    }\n",
       "</style>\n",
       "<table border=\"1\" class=\"dataframe\">\n",
       "  <thead>\n",
       "    <tr style=\"text-align: right;\">\n",
       "      <th></th>\n",
       "      <th>rank</th>\n",
       "      <th>region</th>\n",
       "      <th>chartRankMove</th>\n",
       "      <th>episodeUri</th>\n",
       "      <th>showUri</th>\n",
       "      <th>episodeName</th>\n",
       "      <th>description</th>\n",
       "      <th>show.name</th>\n",
       "      <th>show.description</th>\n",
       "      <th>show.publisher</th>\n",
       "      <th>...</th>\n",
       "      <th>show.copyrights</th>\n",
       "      <th>show.explicit</th>\n",
       "      <th>show.href</th>\n",
       "      <th>show.html_description</th>\n",
       "      <th>show.is_externally_hosted</th>\n",
       "      <th>show.languages</th>\n",
       "      <th>show.media_type</th>\n",
       "      <th>show.total_episodes</th>\n",
       "      <th>show.type</th>\n",
       "      <th>show.uri</th>\n",
       "    </tr>\n",
       "    <tr>\n",
       "      <th>date</th>\n",
       "      <th></th>\n",
       "      <th></th>\n",
       "      <th></th>\n",
       "      <th></th>\n",
       "      <th></th>\n",
       "      <th></th>\n",
       "      <th></th>\n",
       "      <th></th>\n",
       "      <th></th>\n",
       "      <th></th>\n",
       "      <th></th>\n",
       "      <th></th>\n",
       "      <th></th>\n",
       "      <th></th>\n",
       "      <th></th>\n",
       "      <th></th>\n",
       "      <th></th>\n",
       "      <th></th>\n",
       "      <th></th>\n",
       "      <th></th>\n",
       "      <th></th>\n",
       "    </tr>\n",
       "  </thead>\n",
       "  <tbody>\n",
       "    <tr>\n",
       "      <th>2024-09-02</th>\n",
       "      <td>1</td>\n",
       "      <td>us</td>\n",
       "      <td>UNCHANGED</td>\n",
       "      <td>37kBZRr3nqjltQXt8KuiDJ</td>\n",
       "      <td>4rOoJ6Egrf8K2IrywzwOMk</td>\n",
       "      <td>#2197 - Mike Baker</td>\n",
       "      <td>Mike Baker is a former CIA covert operations o...</td>\n",
       "      <td>The Joe Rogan Experience</td>\n",
       "      <td>The official podcast of comedian Joe Rogan.</td>\n",
       "      <td>Joe Rogan</td>\n",
       "      <td>...</td>\n",
       "      <td>[]</td>\n",
       "      <td>True</td>\n",
       "      <td>https://api.spotify.com/v1/shows/4rOoJ6Egrf8K2...</td>\n",
       "      <td>&lt;p&gt;The official podcast of comedian Joe Rogan....</td>\n",
       "      <td>False</td>\n",
       "      <td>['en']</td>\n",
       "      <td>mixed</td>\n",
       "      <td>2366</td>\n",
       "      <td>show</td>\n",
       "      <td>spotify:show:4rOoJ6Egrf8K2IrywzwOMk</td>\n",
       "    </tr>\n",
       "    <tr>\n",
       "      <th>2024-09-02</th>\n",
       "      <td>2</td>\n",
       "      <td>us</td>\n",
       "      <td>UNCHANGED</td>\n",
       "      <td>293KKxbEKt2zrem6XFCxYG</td>\n",
       "      <td>4rOoJ6Egrf8K2IrywzwOMk</td>\n",
       "      <td>#2195 - Andrew Huberman</td>\n",
       "      <td>Andrew Huberman, PhD, is a neuroscientist and ...</td>\n",
       "      <td>The Joe Rogan Experience</td>\n",
       "      <td>The official podcast of comedian Joe Rogan.</td>\n",
       "      <td>Joe Rogan</td>\n",
       "      <td>...</td>\n",
       "      <td>[]</td>\n",
       "      <td>True</td>\n",
       "      <td>https://api.spotify.com/v1/shows/4rOoJ6Egrf8K2...</td>\n",
       "      <td>&lt;p&gt;The official podcast of comedian Joe Rogan....</td>\n",
       "      <td>False</td>\n",
       "      <td>['en']</td>\n",
       "      <td>mixed</td>\n",
       "      <td>2366</td>\n",
       "      <td>show</td>\n",
       "      <td>spotify:show:4rOoJ6Egrf8K2IrywzwOMk</td>\n",
       "    </tr>\n",
       "    <tr>\n",
       "      <th>2024-09-02</th>\n",
       "      <td>3</td>\n",
       "      <td>us</td>\n",
       "      <td>UNCHANGED</td>\n",
       "      <td>53z4LvgoGjjVkdiJkCGhZX</td>\n",
       "      <td>4rOoJ6Egrf8K2IrywzwOMk</td>\n",
       "      <td>#2196 - Greg Fitzsimmons</td>\n",
       "      <td>Greg Fitzsimmons is a comedian, actor, and wri...</td>\n",
       "      <td>The Joe Rogan Experience</td>\n",
       "      <td>The official podcast of comedian Joe Rogan.</td>\n",
       "      <td>Joe Rogan</td>\n",
       "      <td>...</td>\n",
       "      <td>[]</td>\n",
       "      <td>True</td>\n",
       "      <td>https://api.spotify.com/v1/shows/4rOoJ6Egrf8K2...</td>\n",
       "      <td>&lt;p&gt;The official podcast of comedian Joe Rogan....</td>\n",
       "      <td>False</td>\n",
       "      <td>['en']</td>\n",
       "      <td>mixed</td>\n",
       "      <td>2366</td>\n",
       "      <td>show</td>\n",
       "      <td>spotify:show:4rOoJ6Egrf8K2IrywzwOMk</td>\n",
       "    </tr>\n",
       "    <tr>\n",
       "      <th>2024-09-02</th>\n",
       "      <td>4</td>\n",
       "      <td>us</td>\n",
       "      <td>UP</td>\n",
       "      <td>5rrRkpfKZUUR85WxMYCX9k</td>\n",
       "      <td>0KvuZJgXfOGanBRuq6B9dm</td>\n",
       "      <td>The Worst Creature To Run Into During The Ice Age</td>\n",
       "      <td>The Ice Age was no doubt one of earth’s most q...</td>\n",
       "      <td>ExtinctZoo</td>\n",
       "      <td>Your one stop shop for all things dinosaurs, p...</td>\n",
       "      <td>ExtinctZoo</td>\n",
       "      <td>...</td>\n",
       "      <td>[]</td>\n",
       "      <td>False</td>\n",
       "      <td>https://api.spotify.com/v1/shows/0KvuZJgXfOGan...</td>\n",
       "      <td>Your one stop shop for all things dinosaurs, p...</td>\n",
       "      <td>False</td>\n",
       "      <td>['en']</td>\n",
       "      <td>mixed</td>\n",
       "      <td>30</td>\n",
       "      <td>show</td>\n",
       "      <td>spotify:show:0KvuZJgXfOGanBRuq6B9dm</td>\n",
       "    </tr>\n",
       "    <tr>\n",
       "      <th>2024-09-02</th>\n",
       "      <td>5</td>\n",
       "      <td>us</td>\n",
       "      <td>DOWN</td>\n",
       "      <td>2Qd2dJDDAocbTjGvXwHOfm</td>\n",
       "      <td>5L2ON33kXa2b7laBpCAgOI</td>\n",
       "      <td>Jeffrey Sachs: Trump’s Plan to Stop WWIII, CIA...</td>\n",
       "      <td>Professor Jeffrey Sachs’s provides a full and ...</td>\n",
       "      <td>The Tucker Carlson Show</td>\n",
       "      <td>The Tucker Carlson Show is your beacon of free...</td>\n",
       "      <td>Tucker Carlson Network</td>\n",
       "      <td>...</td>\n",
       "      <td>[]</td>\n",
       "      <td>False</td>\n",
       "      <td>https://api.spotify.com/v1/shows/5L2ON33kXa2b7...</td>\n",
       "      <td>&lt;p&gt;The Tucker Carlson Show is your beacon of f...</td>\n",
       "      <td>False</td>\n",
       "      <td>['en']</td>\n",
       "      <td>audio</td>\n",
       "      <td>115</td>\n",
       "      <td>show</td>\n",
       "      <td>spotify:show:5L2ON33kXa2b7laBpCAgOI</td>\n",
       "    </tr>\n",
       "  </tbody>\n",
       "</table>\n",
       "<p>5 rows × 28 columns</p>\n",
       "</div>"
      ],
      "text/plain": [
       "            rank region chartRankMove              episodeUri  \\\n",
       "date                                                            \n",
       "2024-09-02     1     us     UNCHANGED  37kBZRr3nqjltQXt8KuiDJ   \n",
       "2024-09-02     2     us     UNCHANGED  293KKxbEKt2zrem6XFCxYG   \n",
       "2024-09-02     3     us     UNCHANGED  53z4LvgoGjjVkdiJkCGhZX   \n",
       "2024-09-02     4     us            UP  5rrRkpfKZUUR85WxMYCX9k   \n",
       "2024-09-02     5     us          DOWN  2Qd2dJDDAocbTjGvXwHOfm   \n",
       "\n",
       "                           showUri  \\\n",
       "date                                 \n",
       "2024-09-02  4rOoJ6Egrf8K2IrywzwOMk   \n",
       "2024-09-02  4rOoJ6Egrf8K2IrywzwOMk   \n",
       "2024-09-02  4rOoJ6Egrf8K2IrywzwOMk   \n",
       "2024-09-02  0KvuZJgXfOGanBRuq6B9dm   \n",
       "2024-09-02  5L2ON33kXa2b7laBpCAgOI   \n",
       "\n",
       "                                                  episodeName  \\\n",
       "date                                                            \n",
       "2024-09-02                                 #2197 - Mike Baker   \n",
       "2024-09-02                            #2195 - Andrew Huberman   \n",
       "2024-09-02                           #2196 - Greg Fitzsimmons   \n",
       "2024-09-02  The Worst Creature To Run Into During The Ice Age   \n",
       "2024-09-02  Jeffrey Sachs: Trump’s Plan to Stop WWIII, CIA...   \n",
       "\n",
       "                                                  description  \\\n",
       "date                                                            \n",
       "2024-09-02  Mike Baker is a former CIA covert operations o...   \n",
       "2024-09-02  Andrew Huberman, PhD, is a neuroscientist and ...   \n",
       "2024-09-02  Greg Fitzsimmons is a comedian, actor, and wri...   \n",
       "2024-09-02  The Ice Age was no doubt one of earth’s most q...   \n",
       "2024-09-02  Professor Jeffrey Sachs’s provides a full and ...   \n",
       "\n",
       "                           show.name  \\\n",
       "date                                   \n",
       "2024-09-02  The Joe Rogan Experience   \n",
       "2024-09-02  The Joe Rogan Experience   \n",
       "2024-09-02  The Joe Rogan Experience   \n",
       "2024-09-02                ExtinctZoo   \n",
       "2024-09-02   The Tucker Carlson Show   \n",
       "\n",
       "                                             show.description  \\\n",
       "date                                                            \n",
       "2024-09-02        The official podcast of comedian Joe Rogan.   \n",
       "2024-09-02        The official podcast of comedian Joe Rogan.   \n",
       "2024-09-02        The official podcast of comedian Joe Rogan.   \n",
       "2024-09-02  Your one stop shop for all things dinosaurs, p...   \n",
       "2024-09-02  The Tucker Carlson Show is your beacon of free...   \n",
       "\n",
       "                    show.publisher  ...  show.copyrights  show.explicit  \\\n",
       "date                                ...                                   \n",
       "2024-09-02               Joe Rogan  ...               []           True   \n",
       "2024-09-02               Joe Rogan  ...               []           True   \n",
       "2024-09-02               Joe Rogan  ...               []           True   \n",
       "2024-09-02              ExtinctZoo  ...               []          False   \n",
       "2024-09-02  Tucker Carlson Network  ...               []          False   \n",
       "\n",
       "                                                    show.href  \\\n",
       "date                                                            \n",
       "2024-09-02  https://api.spotify.com/v1/shows/4rOoJ6Egrf8K2...   \n",
       "2024-09-02  https://api.spotify.com/v1/shows/4rOoJ6Egrf8K2...   \n",
       "2024-09-02  https://api.spotify.com/v1/shows/4rOoJ6Egrf8K2...   \n",
       "2024-09-02  https://api.spotify.com/v1/shows/0KvuZJgXfOGan...   \n",
       "2024-09-02  https://api.spotify.com/v1/shows/5L2ON33kXa2b7...   \n",
       "\n",
       "                                        show.html_description  \\\n",
       "date                                                            \n",
       "2024-09-02  <p>The official podcast of comedian Joe Rogan....   \n",
       "2024-09-02  <p>The official podcast of comedian Joe Rogan....   \n",
       "2024-09-02  <p>The official podcast of comedian Joe Rogan....   \n",
       "2024-09-02  Your one stop shop for all things dinosaurs, p...   \n",
       "2024-09-02  <p>The Tucker Carlson Show is your beacon of f...   \n",
       "\n",
       "           show.is_externally_hosted show.languages show.media_type  \\\n",
       "date                                                                  \n",
       "2024-09-02                     False         ['en']           mixed   \n",
       "2024-09-02                     False         ['en']           mixed   \n",
       "2024-09-02                     False         ['en']           mixed   \n",
       "2024-09-02                     False         ['en']           mixed   \n",
       "2024-09-02                     False         ['en']           audio   \n",
       "\n",
       "           show.total_episodes show.type                             show.uri  \n",
       "date                                                                           \n",
       "2024-09-02                2366      show  spotify:show:4rOoJ6Egrf8K2IrywzwOMk  \n",
       "2024-09-02                2366      show  spotify:show:4rOoJ6Egrf8K2IrywzwOMk  \n",
       "2024-09-02                2366      show  spotify:show:4rOoJ6Egrf8K2IrywzwOMk  \n",
       "2024-09-02                  30      show  spotify:show:0KvuZJgXfOGanBRuq6B9dm  \n",
       "2024-09-02                 115      show  spotify:show:5L2ON33kXa2b7laBpCAgOI  \n",
       "\n",
       "[5 rows x 28 columns]"
      ]
     },
     "execution_count": 19,
     "metadata": {},
     "output_type": "execute_result"
    }
   ],
   "source": [
    "# Replace the NaN values with 'Unknown' by using .fillna()\n",
    "# Note: For now, we won't use in_place=True to make the change permanent\n",
    "# instead created a placeholder DataFrame, 'df_unknown'\n",
    "df_unknown = df.fillna(value='Unknown')\n",
    "df_unknown.head()"
   ]
  },
  {
   "cell_type": "code",
   "execution_count": 20,
   "metadata": {
    "id": "uTbx0kmZZrFK"
   },
   "outputs": [],
   "source": [
    "# Now make the change permanent with inplace=True\n",
    "df.fillna(value='Unknown', inplace=True)"
   ]
  },
  {
   "cell_type": "markdown",
   "metadata": {
    "id": "kygxhKDFljaC"
   },
   "source": [
    "Confirm that the NaN values are now 'Unknown'."
   ]
  },
  {
   "cell_type": "code",
   "execution_count": 22,
   "metadata": {
    "colab": {
     "base_uri": "https://localhost:8080/"
    },
    "executionInfo": {
     "elapsed": 326,
     "status": "ok",
     "timestamp": 1741750923655,
     "user": {
      "displayName": "Carlson Thai",
      "userId": "09141101884345333781"
     },
     "user_tz": 420
    },
    "id": "a5-aVkW1fxmn",
    "outputId": "d544b1f4-1a66-4059-bc79-26b7fd66beb5"
   },
   "outputs": [
    {
     "data": {
      "text/plain": [
       "0"
      ]
     },
     "execution_count": 22,
     "metadata": {},
     "output_type": "execute_result"
    }
   ],
   "source": [
    "# Use .isna().sum().sum() to confirm the change\n",
    "df.isna().sum().sum()"
   ]
  },
  {
   "cell_type": "markdown",
   "metadata": {
    "id": "qsFuVgp5ndAz"
   },
   "source": [
    "Also check True/False for NaN values."
   ]
  },
  {
   "cell_type": "code",
   "execution_count": 24,
   "metadata": {
    "colab": {
     "base_uri": "https://localhost:8080/"
    },
    "executionInfo": {
     "elapsed": 379,
     "status": "ok",
     "timestamp": 1741750924047,
     "user": {
      "displayName": "Carlson Thai",
      "userId": "09141101884345333781"
     },
     "user_tz": 420
    },
    "id": "9xlOfpEnm8t8",
    "outputId": "3dadc821-bca6-4270-dfc4-5d0ce8a77331"
   },
   "outputs": [
    {
     "data": {
      "text/plain": [
       "False"
      ]
     },
     "execution_count": 24,
     "metadata": {},
     "output_type": "execute_result"
    }
   ],
   "source": [
    "# Use .isna().any().any()\n",
    "df.isna().any().any()"
   ]
  },
  {
   "cell_type": "markdown",
   "metadata": {
    "id": "RMWLJdfQjl4y"
   },
   "source": [
    "Make sure all the columns are visible."
   ]
  },
  {
   "cell_type": "code",
   "execution_count": 26,
   "metadata": {
    "id": "OWIgBMGg-s1Z"
   },
   "outputs": [],
   "source": [
    "# Display all columns\n",
    "pd.set_option('display.max_columns', None)"
   ]
  },
  {
   "cell_type": "code",
   "execution_count": 27,
   "metadata": {
    "colab": {
     "base_uri": "https://localhost:8080/",
     "height": 622
    },
    "executionInfo": {
     "elapsed": 60,
     "status": "ok",
     "timestamp": 1741750924106,
     "user": {
      "displayName": "Carlson Thai",
      "userId": "09141101884345333781"
     },
     "user_tz": 420
    },
    "id": "lHE0Ia9YcHLI",
    "outputId": "a2402f05-7b2f-481c-8cdc-d83c89d0d41a"
   },
   "outputs": [
    {
     "data": {
      "text/html": [
       "<div>\n",
       "<style scoped>\n",
       "    .dataframe tbody tr th:only-of-type {\n",
       "        vertical-align: middle;\n",
       "    }\n",
       "\n",
       "    .dataframe tbody tr th {\n",
       "        vertical-align: top;\n",
       "    }\n",
       "\n",
       "    .dataframe thead th {\n",
       "        text-align: right;\n",
       "    }\n",
       "</style>\n",
       "<table border=\"1\" class=\"dataframe\">\n",
       "  <thead>\n",
       "    <tr style=\"text-align: right;\">\n",
       "      <th></th>\n",
       "      <th>rank</th>\n",
       "      <th>region</th>\n",
       "      <th>chartRankMove</th>\n",
       "      <th>episodeUri</th>\n",
       "      <th>showUri</th>\n",
       "      <th>episodeName</th>\n",
       "      <th>description</th>\n",
       "      <th>show.name</th>\n",
       "      <th>show.description</th>\n",
       "      <th>show.publisher</th>\n",
       "      <th>duration_ms</th>\n",
       "      <th>explicit</th>\n",
       "      <th>is_externally_hosted</th>\n",
       "      <th>is_playable</th>\n",
       "      <th>language</th>\n",
       "      <th>languages</th>\n",
       "      <th>release_date</th>\n",
       "      <th>release_date_precision</th>\n",
       "      <th>show.copyrights</th>\n",
       "      <th>show.explicit</th>\n",
       "      <th>show.href</th>\n",
       "      <th>show.html_description</th>\n",
       "      <th>show.is_externally_hosted</th>\n",
       "      <th>show.languages</th>\n",
       "      <th>show.media_type</th>\n",
       "      <th>show.total_episodes</th>\n",
       "      <th>show.type</th>\n",
       "      <th>show.uri</th>\n",
       "    </tr>\n",
       "    <tr>\n",
       "      <th>date</th>\n",
       "      <th></th>\n",
       "      <th></th>\n",
       "      <th></th>\n",
       "      <th></th>\n",
       "      <th></th>\n",
       "      <th></th>\n",
       "      <th></th>\n",
       "      <th></th>\n",
       "      <th></th>\n",
       "      <th></th>\n",
       "      <th></th>\n",
       "      <th></th>\n",
       "      <th></th>\n",
       "      <th></th>\n",
       "      <th></th>\n",
       "      <th></th>\n",
       "      <th></th>\n",
       "      <th></th>\n",
       "      <th></th>\n",
       "      <th></th>\n",
       "      <th></th>\n",
       "      <th></th>\n",
       "      <th></th>\n",
       "      <th></th>\n",
       "      <th></th>\n",
       "      <th></th>\n",
       "      <th></th>\n",
       "      <th></th>\n",
       "    </tr>\n",
       "  </thead>\n",
       "  <tbody>\n",
       "    <tr>\n",
       "      <th>2024-09-02</th>\n",
       "      <td>1</td>\n",
       "      <td>us</td>\n",
       "      <td>UNCHANGED</td>\n",
       "      <td>37kBZRr3nqjltQXt8KuiDJ</td>\n",
       "      <td>4rOoJ6Egrf8K2IrywzwOMk</td>\n",
       "      <td>#2197 - Mike Baker</td>\n",
       "      <td>Mike Baker is a former CIA covert operations o...</td>\n",
       "      <td>The Joe Rogan Experience</td>\n",
       "      <td>The official podcast of comedian Joe Rogan.</td>\n",
       "      <td>Joe Rogan</td>\n",
       "      <td>9872105</td>\n",
       "      <td>True</td>\n",
       "      <td>False</td>\n",
       "      <td>True</td>\n",
       "      <td>en</td>\n",
       "      <td>['en']</td>\n",
       "      <td>2024-08-29</td>\n",
       "      <td>day</td>\n",
       "      <td>[]</td>\n",
       "      <td>True</td>\n",
       "      <td>https://api.spotify.com/v1/shows/4rOoJ6Egrf8K2...</td>\n",
       "      <td>&lt;p&gt;The official podcast of comedian Joe Rogan....</td>\n",
       "      <td>False</td>\n",
       "      <td>['en']</td>\n",
       "      <td>mixed</td>\n",
       "      <td>2366</td>\n",
       "      <td>show</td>\n",
       "      <td>spotify:show:4rOoJ6Egrf8K2IrywzwOMk</td>\n",
       "    </tr>\n",
       "    <tr>\n",
       "      <th>2024-09-02</th>\n",
       "      <td>2</td>\n",
       "      <td>us</td>\n",
       "      <td>UNCHANGED</td>\n",
       "      <td>293KKxbEKt2zrem6XFCxYG</td>\n",
       "      <td>4rOoJ6Egrf8K2IrywzwOMk</td>\n",
       "      <td>#2195 - Andrew Huberman</td>\n",
       "      <td>Andrew Huberman, PhD, is a neuroscientist and ...</td>\n",
       "      <td>The Joe Rogan Experience</td>\n",
       "      <td>The official podcast of comedian Joe Rogan.</td>\n",
       "      <td>Joe Rogan</td>\n",
       "      <td>11250345</td>\n",
       "      <td>True</td>\n",
       "      <td>False</td>\n",
       "      <td>True</td>\n",
       "      <td>en</td>\n",
       "      <td>['en']</td>\n",
       "      <td>2024-08-27</td>\n",
       "      <td>day</td>\n",
       "      <td>[]</td>\n",
       "      <td>True</td>\n",
       "      <td>https://api.spotify.com/v1/shows/4rOoJ6Egrf8K2...</td>\n",
       "      <td>&lt;p&gt;The official podcast of comedian Joe Rogan....</td>\n",
       "      <td>False</td>\n",
       "      <td>['en']</td>\n",
       "      <td>mixed</td>\n",
       "      <td>2366</td>\n",
       "      <td>show</td>\n",
       "      <td>spotify:show:4rOoJ6Egrf8K2IrywzwOMk</td>\n",
       "    </tr>\n",
       "    <tr>\n",
       "      <th>2024-09-02</th>\n",
       "      <td>3</td>\n",
       "      <td>us</td>\n",
       "      <td>UNCHANGED</td>\n",
       "      <td>53z4LvgoGjjVkdiJkCGhZX</td>\n",
       "      <td>4rOoJ6Egrf8K2IrywzwOMk</td>\n",
       "      <td>#2196 - Greg Fitzsimmons</td>\n",
       "      <td>Greg Fitzsimmons is a comedian, actor, and wri...</td>\n",
       "      <td>The Joe Rogan Experience</td>\n",
       "      <td>The official podcast of comedian Joe Rogan.</td>\n",
       "      <td>Joe Rogan</td>\n",
       "      <td>10840020</td>\n",
       "      <td>True</td>\n",
       "      <td>False</td>\n",
       "      <td>True</td>\n",
       "      <td>en</td>\n",
       "      <td>['en']</td>\n",
       "      <td>2024-08-28</td>\n",
       "      <td>day</td>\n",
       "      <td>[]</td>\n",
       "      <td>True</td>\n",
       "      <td>https://api.spotify.com/v1/shows/4rOoJ6Egrf8K2...</td>\n",
       "      <td>&lt;p&gt;The official podcast of comedian Joe Rogan....</td>\n",
       "      <td>False</td>\n",
       "      <td>['en']</td>\n",
       "      <td>mixed</td>\n",
       "      <td>2366</td>\n",
       "      <td>show</td>\n",
       "      <td>spotify:show:4rOoJ6Egrf8K2IrywzwOMk</td>\n",
       "    </tr>\n",
       "    <tr>\n",
       "      <th>2024-09-02</th>\n",
       "      <td>4</td>\n",
       "      <td>us</td>\n",
       "      <td>UP</td>\n",
       "      <td>5rrRkpfKZUUR85WxMYCX9k</td>\n",
       "      <td>0KvuZJgXfOGanBRuq6B9dm</td>\n",
       "      <td>The Worst Creature To Run Into During The Ice Age</td>\n",
       "      <td>The Ice Age was no doubt one of earth’s most q...</td>\n",
       "      <td>ExtinctZoo</td>\n",
       "      <td>Your one stop shop for all things dinosaurs, p...</td>\n",
       "      <td>ExtinctZoo</td>\n",
       "      <td>1073386</td>\n",
       "      <td>False</td>\n",
       "      <td>False</td>\n",
       "      <td>True</td>\n",
       "      <td>en</td>\n",
       "      <td>['en']</td>\n",
       "      <td>2024-08-31</td>\n",
       "      <td>day</td>\n",
       "      <td>[]</td>\n",
       "      <td>False</td>\n",
       "      <td>https://api.spotify.com/v1/shows/0KvuZJgXfOGan...</td>\n",
       "      <td>Your one stop shop for all things dinosaurs, p...</td>\n",
       "      <td>False</td>\n",
       "      <td>['en']</td>\n",
       "      <td>mixed</td>\n",
       "      <td>30</td>\n",
       "      <td>show</td>\n",
       "      <td>spotify:show:0KvuZJgXfOGanBRuq6B9dm</td>\n",
       "    </tr>\n",
       "    <tr>\n",
       "      <th>2024-09-02</th>\n",
       "      <td>5</td>\n",
       "      <td>us</td>\n",
       "      <td>DOWN</td>\n",
       "      <td>2Qd2dJDDAocbTjGvXwHOfm</td>\n",
       "      <td>5L2ON33kXa2b7laBpCAgOI</td>\n",
       "      <td>Jeffrey Sachs: Trump’s Plan to Stop WWIII, CIA...</td>\n",
       "      <td>Professor Jeffrey Sachs’s provides a full and ...</td>\n",
       "      <td>The Tucker Carlson Show</td>\n",
       "      <td>The Tucker Carlson Show is your beacon of free...</td>\n",
       "      <td>Tucker Carlson Network</td>\n",
       "      <td>8896992</td>\n",
       "      <td>False</td>\n",
       "      <td>False</td>\n",
       "      <td>True</td>\n",
       "      <td>en</td>\n",
       "      <td>['en']</td>\n",
       "      <td>2024-08-30</td>\n",
       "      <td>day</td>\n",
       "      <td>[]</td>\n",
       "      <td>False</td>\n",
       "      <td>https://api.spotify.com/v1/shows/5L2ON33kXa2b7...</td>\n",
       "      <td>&lt;p&gt;The Tucker Carlson Show is your beacon of f...</td>\n",
       "      <td>False</td>\n",
       "      <td>['en']</td>\n",
       "      <td>audio</td>\n",
       "      <td>115</td>\n",
       "      <td>show</td>\n",
       "      <td>spotify:show:5L2ON33kXa2b7laBpCAgOI</td>\n",
       "    </tr>\n",
       "  </tbody>\n",
       "</table>\n",
       "</div>"
      ],
      "text/plain": [
       "            rank region chartRankMove              episodeUri  \\\n",
       "date                                                            \n",
       "2024-09-02     1     us     UNCHANGED  37kBZRr3nqjltQXt8KuiDJ   \n",
       "2024-09-02     2     us     UNCHANGED  293KKxbEKt2zrem6XFCxYG   \n",
       "2024-09-02     3     us     UNCHANGED  53z4LvgoGjjVkdiJkCGhZX   \n",
       "2024-09-02     4     us            UP  5rrRkpfKZUUR85WxMYCX9k   \n",
       "2024-09-02     5     us          DOWN  2Qd2dJDDAocbTjGvXwHOfm   \n",
       "\n",
       "                           showUri  \\\n",
       "date                                 \n",
       "2024-09-02  4rOoJ6Egrf8K2IrywzwOMk   \n",
       "2024-09-02  4rOoJ6Egrf8K2IrywzwOMk   \n",
       "2024-09-02  4rOoJ6Egrf8K2IrywzwOMk   \n",
       "2024-09-02  0KvuZJgXfOGanBRuq6B9dm   \n",
       "2024-09-02  5L2ON33kXa2b7laBpCAgOI   \n",
       "\n",
       "                                                  episodeName  \\\n",
       "date                                                            \n",
       "2024-09-02                                 #2197 - Mike Baker   \n",
       "2024-09-02                            #2195 - Andrew Huberman   \n",
       "2024-09-02                           #2196 - Greg Fitzsimmons   \n",
       "2024-09-02  The Worst Creature To Run Into During The Ice Age   \n",
       "2024-09-02  Jeffrey Sachs: Trump’s Plan to Stop WWIII, CIA...   \n",
       "\n",
       "                                                  description  \\\n",
       "date                                                            \n",
       "2024-09-02  Mike Baker is a former CIA covert operations o...   \n",
       "2024-09-02  Andrew Huberman, PhD, is a neuroscientist and ...   \n",
       "2024-09-02  Greg Fitzsimmons is a comedian, actor, and wri...   \n",
       "2024-09-02  The Ice Age was no doubt one of earth’s most q...   \n",
       "2024-09-02  Professor Jeffrey Sachs’s provides a full and ...   \n",
       "\n",
       "                           show.name  \\\n",
       "date                                   \n",
       "2024-09-02  The Joe Rogan Experience   \n",
       "2024-09-02  The Joe Rogan Experience   \n",
       "2024-09-02  The Joe Rogan Experience   \n",
       "2024-09-02                ExtinctZoo   \n",
       "2024-09-02   The Tucker Carlson Show   \n",
       "\n",
       "                                             show.description  \\\n",
       "date                                                            \n",
       "2024-09-02        The official podcast of comedian Joe Rogan.   \n",
       "2024-09-02        The official podcast of comedian Joe Rogan.   \n",
       "2024-09-02        The official podcast of comedian Joe Rogan.   \n",
       "2024-09-02  Your one stop shop for all things dinosaurs, p...   \n",
       "2024-09-02  The Tucker Carlson Show is your beacon of free...   \n",
       "\n",
       "                    show.publisher  duration_ms  explicit  \\\n",
       "date                                                        \n",
       "2024-09-02               Joe Rogan      9872105      True   \n",
       "2024-09-02               Joe Rogan     11250345      True   \n",
       "2024-09-02               Joe Rogan     10840020      True   \n",
       "2024-09-02              ExtinctZoo      1073386     False   \n",
       "2024-09-02  Tucker Carlson Network      8896992     False   \n",
       "\n",
       "            is_externally_hosted  is_playable language languages release_date  \\\n",
       "date                                                                            \n",
       "2024-09-02                 False         True       en    ['en']   2024-08-29   \n",
       "2024-09-02                 False         True       en    ['en']   2024-08-27   \n",
       "2024-09-02                 False         True       en    ['en']   2024-08-28   \n",
       "2024-09-02                 False         True       en    ['en']   2024-08-31   \n",
       "2024-09-02                 False         True       en    ['en']   2024-08-30   \n",
       "\n",
       "           release_date_precision show.copyrights  show.explicit  \\\n",
       "date                                                               \n",
       "2024-09-02                    day              []           True   \n",
       "2024-09-02                    day              []           True   \n",
       "2024-09-02                    day              []           True   \n",
       "2024-09-02                    day              []          False   \n",
       "2024-09-02                    day              []          False   \n",
       "\n",
       "                                                    show.href  \\\n",
       "date                                                            \n",
       "2024-09-02  https://api.spotify.com/v1/shows/4rOoJ6Egrf8K2...   \n",
       "2024-09-02  https://api.spotify.com/v1/shows/4rOoJ6Egrf8K2...   \n",
       "2024-09-02  https://api.spotify.com/v1/shows/4rOoJ6Egrf8K2...   \n",
       "2024-09-02  https://api.spotify.com/v1/shows/0KvuZJgXfOGan...   \n",
       "2024-09-02  https://api.spotify.com/v1/shows/5L2ON33kXa2b7...   \n",
       "\n",
       "                                        show.html_description  \\\n",
       "date                                                            \n",
       "2024-09-02  <p>The official podcast of comedian Joe Rogan....   \n",
       "2024-09-02  <p>The official podcast of comedian Joe Rogan....   \n",
       "2024-09-02  <p>The official podcast of comedian Joe Rogan....   \n",
       "2024-09-02  Your one stop shop for all things dinosaurs, p...   \n",
       "2024-09-02  <p>The Tucker Carlson Show is your beacon of f...   \n",
       "\n",
       "            show.is_externally_hosted show.languages show.media_type  \\\n",
       "date                                                                   \n",
       "2024-09-02                      False         ['en']           mixed   \n",
       "2024-09-02                      False         ['en']           mixed   \n",
       "2024-09-02                      False         ['en']           mixed   \n",
       "2024-09-02                      False         ['en']           mixed   \n",
       "2024-09-02                      False         ['en']           audio   \n",
       "\n",
       "            show.total_episodes show.type                             show.uri  \n",
       "date                                                                            \n",
       "2024-09-02                 2366      show  spotify:show:4rOoJ6Egrf8K2IrywzwOMk  \n",
       "2024-09-02                 2366      show  spotify:show:4rOoJ6Egrf8K2IrywzwOMk  \n",
       "2024-09-02                 2366      show  spotify:show:4rOoJ6Egrf8K2IrywzwOMk  \n",
       "2024-09-02                   30      show  spotify:show:0KvuZJgXfOGanBRuq6B9dm  \n",
       "2024-09-02                  115      show  spotify:show:5L2ON33kXa2b7laBpCAgOI  "
      ]
     },
     "execution_count": 27,
     "metadata": {},
     "output_type": "execute_result"
    }
   ],
   "source": [
    "# Check the first 5 rows with .head()\n",
    "df.head()"
   ]
  },
  {
   "cell_type": "markdown",
   "metadata": {
    "id": "cn90kZP5iNdF"
   },
   "source": [
    "Use .reset_index() so that the date is no longer the index."
   ]
  },
  {
   "cell_type": "code",
   "execution_count": 29,
   "metadata": {
    "colab": {
     "base_uri": "https://localhost:8080/"
    },
    "executionInfo": {
     "elapsed": 10,
     "status": "ok",
     "timestamp": 1741750924131,
     "user": {
      "displayName": "Carlson Thai",
      "userId": "09141101884345333781"
     },
     "user_tz": 420
    },
    "id": "mKQSCc5y6jRR",
    "outputId": "7bec6aa7-4f2f-48a9-9946-5bacd3ba1e38"
   },
   "outputs": [
    {
     "data": {
      "text/plain": [
       "(228800, 29)"
      ]
     },
     "execution_count": 29,
     "metadata": {},
     "output_type": "execute_result"
    }
   ],
   "source": [
    "# Reset index by using .reset_index()\n",
    "df.reset_index(inplace=True)\n",
    "\n",
    "# Now check the updated number of rows with .shape\n",
    "df.shape"
   ]
  },
  {
   "cell_type": "markdown",
   "metadata": {
    "id": "wn7McnlQieNN"
   },
   "source": [
    "Remove trivial or uneccessary columns."
   ]
  },
  {
   "cell_type": "code",
   "execution_count": 31,
   "metadata": {
    "id": "qMXGp48EFti1"
   },
   "outputs": [],
   "source": [
    "# Remove uneccessary columns by using .drop()\n",
    "columns_to_drop = [\n",
    "    'show.copyrights',\n",
    "    'show.type',\n",
    "    'language',\n",
    "    'show.languages',\n",
    "    'show.uri',\n",
    "    'showUri',\n",
    "    'episodeUri',\n",
    "    'is_externally_hosted',\n",
    "    'is_playable',\n",
    "    'release_date_precision',\n",
    "    'show.explicit',\n",
    "    'show.href',\n",
    "    'show.is_externally_hosted',\n",
    "]\n",
    "\n",
    "df.drop(columns=columns_to_drop, inplace=True)"
   ]
  },
  {
   "cell_type": "code",
   "execution_count": 32,
   "metadata": {
    "colab": {
     "base_uri": "https://localhost:8080/"
    },
    "executionInfo": {
     "elapsed": 6,
     "status": "ok",
     "timestamp": 1741750924162,
     "user": {
      "displayName": "Carlson Thai",
      "userId": "09141101884345333781"
     },
     "user_tz": 420
    },
    "id": "KHlqLZu6TcDz",
    "outputId": "0f957fce-1352-4f6a-cd6c-9d22f261268f"
   },
   "outputs": [
    {
     "data": {
      "text/plain": [
       "(228800, 16)"
      ]
     },
     "execution_count": 32,
     "metadata": {},
     "output_type": "execute_result"
    }
   ],
   "source": [
    "# Confirm that the columns dropped\n",
    "df.shape"
   ]
  },
  {
   "cell_type": "code",
   "execution_count": 33,
   "metadata": {
    "colab": {
     "base_uri": "https://localhost:8080/",
     "height": 590
    },
    "executionInfo": {
     "elapsed": 46,
     "status": "ok",
     "timestamp": 1741750924209,
     "user": {
      "displayName": "Carlson Thai",
      "userId": "09141101884345333781"
     },
     "user_tz": 420
    },
    "id": "EwClVFCFxYx1",
    "outputId": "76c98d9f-534e-4b78-9934-9df6dcaeb2af"
   },
   "outputs": [
    {
     "data": {
      "text/html": [
       "<div>\n",
       "<style scoped>\n",
       "    .dataframe tbody tr th:only-of-type {\n",
       "        vertical-align: middle;\n",
       "    }\n",
       "\n",
       "    .dataframe tbody tr th {\n",
       "        vertical-align: top;\n",
       "    }\n",
       "\n",
       "    .dataframe thead th {\n",
       "        text-align: right;\n",
       "    }\n",
       "</style>\n",
       "<table border=\"1\" class=\"dataframe\">\n",
       "  <thead>\n",
       "    <tr style=\"text-align: right;\">\n",
       "      <th></th>\n",
       "      <th>date</th>\n",
       "      <th>rank</th>\n",
       "      <th>region</th>\n",
       "      <th>chartRankMove</th>\n",
       "      <th>episodeName</th>\n",
       "      <th>description</th>\n",
       "      <th>show.name</th>\n",
       "      <th>show.description</th>\n",
       "      <th>show.publisher</th>\n",
       "      <th>duration_ms</th>\n",
       "      <th>explicit</th>\n",
       "      <th>languages</th>\n",
       "      <th>release_date</th>\n",
       "      <th>show.html_description</th>\n",
       "      <th>show.media_type</th>\n",
       "      <th>show.total_episodes</th>\n",
       "    </tr>\n",
       "  </thead>\n",
       "  <tbody>\n",
       "    <tr>\n",
       "      <th>0</th>\n",
       "      <td>2024-09-02</td>\n",
       "      <td>1</td>\n",
       "      <td>us</td>\n",
       "      <td>UNCHANGED</td>\n",
       "      <td>#2197 - Mike Baker</td>\n",
       "      <td>Mike Baker is a former CIA covert operations o...</td>\n",
       "      <td>The Joe Rogan Experience</td>\n",
       "      <td>The official podcast of comedian Joe Rogan.</td>\n",
       "      <td>Joe Rogan</td>\n",
       "      <td>9872105</td>\n",
       "      <td>True</td>\n",
       "      <td>['en']</td>\n",
       "      <td>2024-08-29</td>\n",
       "      <td>&lt;p&gt;The official podcast of comedian Joe Rogan....</td>\n",
       "      <td>mixed</td>\n",
       "      <td>2366</td>\n",
       "    </tr>\n",
       "    <tr>\n",
       "      <th>1</th>\n",
       "      <td>2024-09-02</td>\n",
       "      <td>2</td>\n",
       "      <td>us</td>\n",
       "      <td>UNCHANGED</td>\n",
       "      <td>#2195 - Andrew Huberman</td>\n",
       "      <td>Andrew Huberman, PhD, is a neuroscientist and ...</td>\n",
       "      <td>The Joe Rogan Experience</td>\n",
       "      <td>The official podcast of comedian Joe Rogan.</td>\n",
       "      <td>Joe Rogan</td>\n",
       "      <td>11250345</td>\n",
       "      <td>True</td>\n",
       "      <td>['en']</td>\n",
       "      <td>2024-08-27</td>\n",
       "      <td>&lt;p&gt;The official podcast of comedian Joe Rogan....</td>\n",
       "      <td>mixed</td>\n",
       "      <td>2366</td>\n",
       "    </tr>\n",
       "    <tr>\n",
       "      <th>2</th>\n",
       "      <td>2024-09-02</td>\n",
       "      <td>3</td>\n",
       "      <td>us</td>\n",
       "      <td>UNCHANGED</td>\n",
       "      <td>#2196 - Greg Fitzsimmons</td>\n",
       "      <td>Greg Fitzsimmons is a comedian, actor, and wri...</td>\n",
       "      <td>The Joe Rogan Experience</td>\n",
       "      <td>The official podcast of comedian Joe Rogan.</td>\n",
       "      <td>Joe Rogan</td>\n",
       "      <td>10840020</td>\n",
       "      <td>True</td>\n",
       "      <td>['en']</td>\n",
       "      <td>2024-08-28</td>\n",
       "      <td>&lt;p&gt;The official podcast of comedian Joe Rogan....</td>\n",
       "      <td>mixed</td>\n",
       "      <td>2366</td>\n",
       "    </tr>\n",
       "    <tr>\n",
       "      <th>3</th>\n",
       "      <td>2024-09-02</td>\n",
       "      <td>4</td>\n",
       "      <td>us</td>\n",
       "      <td>UP</td>\n",
       "      <td>The Worst Creature To Run Into During The Ice Age</td>\n",
       "      <td>The Ice Age was no doubt one of earth’s most q...</td>\n",
       "      <td>ExtinctZoo</td>\n",
       "      <td>Your one stop shop for all things dinosaurs, p...</td>\n",
       "      <td>ExtinctZoo</td>\n",
       "      <td>1073386</td>\n",
       "      <td>False</td>\n",
       "      <td>['en']</td>\n",
       "      <td>2024-08-31</td>\n",
       "      <td>Your one stop shop for all things dinosaurs, p...</td>\n",
       "      <td>mixed</td>\n",
       "      <td>30</td>\n",
       "    </tr>\n",
       "    <tr>\n",
       "      <th>4</th>\n",
       "      <td>2024-09-02</td>\n",
       "      <td>5</td>\n",
       "      <td>us</td>\n",
       "      <td>DOWN</td>\n",
       "      <td>Jeffrey Sachs: Trump’s Plan to Stop WWIII, CIA...</td>\n",
       "      <td>Professor Jeffrey Sachs’s provides a full and ...</td>\n",
       "      <td>The Tucker Carlson Show</td>\n",
       "      <td>The Tucker Carlson Show is your beacon of free...</td>\n",
       "      <td>Tucker Carlson Network</td>\n",
       "      <td>8896992</td>\n",
       "      <td>False</td>\n",
       "      <td>['en']</td>\n",
       "      <td>2024-08-30</td>\n",
       "      <td>&lt;p&gt;The Tucker Carlson Show is your beacon of f...</td>\n",
       "      <td>audio</td>\n",
       "      <td>115</td>\n",
       "    </tr>\n",
       "  </tbody>\n",
       "</table>\n",
       "</div>"
      ],
      "text/plain": [
       "         date  rank region chartRankMove  \\\n",
       "0  2024-09-02     1     us     UNCHANGED   \n",
       "1  2024-09-02     2     us     UNCHANGED   \n",
       "2  2024-09-02     3     us     UNCHANGED   \n",
       "3  2024-09-02     4     us            UP   \n",
       "4  2024-09-02     5     us          DOWN   \n",
       "\n",
       "                                         episodeName  \\\n",
       "0                                 #2197 - Mike Baker   \n",
       "1                            #2195 - Andrew Huberman   \n",
       "2                           #2196 - Greg Fitzsimmons   \n",
       "3  The Worst Creature To Run Into During The Ice Age   \n",
       "4  Jeffrey Sachs: Trump’s Plan to Stop WWIII, CIA...   \n",
       "\n",
       "                                         description  \\\n",
       "0  Mike Baker is a former CIA covert operations o...   \n",
       "1  Andrew Huberman, PhD, is a neuroscientist and ...   \n",
       "2  Greg Fitzsimmons is a comedian, actor, and wri...   \n",
       "3  The Ice Age was no doubt one of earth’s most q...   \n",
       "4  Professor Jeffrey Sachs’s provides a full and ...   \n",
       "\n",
       "                  show.name  \\\n",
       "0  The Joe Rogan Experience   \n",
       "1  The Joe Rogan Experience   \n",
       "2  The Joe Rogan Experience   \n",
       "3                ExtinctZoo   \n",
       "4   The Tucker Carlson Show   \n",
       "\n",
       "                                    show.description          show.publisher  \\\n",
       "0        The official podcast of comedian Joe Rogan.               Joe Rogan   \n",
       "1        The official podcast of comedian Joe Rogan.               Joe Rogan   \n",
       "2        The official podcast of comedian Joe Rogan.               Joe Rogan   \n",
       "3  Your one stop shop for all things dinosaurs, p...              ExtinctZoo   \n",
       "4  The Tucker Carlson Show is your beacon of free...  Tucker Carlson Network   \n",
       "\n",
       "   duration_ms  explicit languages release_date  \\\n",
       "0      9872105      True    ['en']   2024-08-29   \n",
       "1     11250345      True    ['en']   2024-08-27   \n",
       "2     10840020      True    ['en']   2024-08-28   \n",
       "3      1073386     False    ['en']   2024-08-31   \n",
       "4      8896992     False    ['en']   2024-08-30   \n",
       "\n",
       "                               show.html_description show.media_type  \\\n",
       "0  <p>The official podcast of comedian Joe Rogan....           mixed   \n",
       "1  <p>The official podcast of comedian Joe Rogan....           mixed   \n",
       "2  <p>The official podcast of comedian Joe Rogan....           mixed   \n",
       "3  Your one stop shop for all things dinosaurs, p...           mixed   \n",
       "4  <p>The Tucker Carlson Show is your beacon of f...           audio   \n",
       "\n",
       "   show.total_episodes  \n",
       "0                 2366  \n",
       "1                 2366  \n",
       "2                 2366  \n",
       "3                   30  \n",
       "4                  115  "
      ]
     },
     "execution_count": 33,
     "metadata": {},
     "output_type": "execute_result"
    }
   ],
   "source": [
    "# Check the updated DataFrame\n",
    "df.head()"
   ]
  },
  {
   "cell_type": "markdown",
   "metadata": {
    "id": "VV0efPy3i7YM"
   },
   "source": [
    "Rename all the column names to improve readability."
   ]
  },
  {
   "cell_type": "code",
   "execution_count": 35,
   "metadata": {
    "id": "bIFZNmRy2JNr"
   },
   "outputs": [],
   "source": [
    "# Rename the columns to improve readability by using .rename()\n",
    "df.rename(columns={\n",
    "    'date': 'Date',\n",
    "    'rank': 'Rank',\n",
    "    'region': 'Country',\n",
    "    'chartRankMove': 'Rank_Change',\n",
    "    'episodeUri': 'Episode_URI',\n",
    "    'episodeName': 'Episode_Name',\n",
    "    'description': 'Episode_Description',\n",
    "    'show.name': 'Podcast_Name',\n",
    "    'show.description': 'Podcast_Description',\n",
    "    'show.publisher': 'Podcast_Publisher',\n",
    "    'show.explicit': 'Show_Explicit',\n",
    "    'duration_ms': 'Episode_Duration_ms',\n",
    "    'explicit': 'Is_Explicit',\n",
    "    'is_externally_hosted': 'Is_Externally_Hosted',\n",
    "    'is_playable': 'Is_Playable',\n",
    "    'languages' : 'Language',\n",
    "    'release_date': 'Release_Date',\n",
    "    'release_date_precision': 'Release_Date_Precision',\n",
    "    'show.href': 'Show_API_URL',\n",
    "    'show.html_description': 'Show_HTML_Description',\n",
    "    'show.is_externally_hosted': 'Show_Externally_Hosted',\n",
    "    'show.media_type': 'Show_Media_Type',\n",
    "    'show.total_episodes': 'Total_Episodes',\n",
    "},inplace=True)"
   ]
  },
  {
   "cell_type": "markdown",
   "metadata": {
    "id": "hUt0O-PjemJu"
   },
   "source": [
    "Switch duration from ms to minutes"
   ]
  },
  {
   "cell_type": "code",
   "execution_count": 37,
   "metadata": {
    "id": "1dmqnouwdjoC"
   },
   "outputs": [],
   "source": [
    "# Switch duration from milliseconds to minutes, and drop Episode_Duration_ms column\n",
    "df['Episode_Duration_Minutes'] = (df['Episode_Duration_ms'] / 60000).astype(int)\n",
    "df.drop(columns=['Episode_Duration_ms'], inplace=True)"
   ]
  },
  {
   "cell_type": "code",
   "execution_count": 38,
   "metadata": {
    "colab": {
     "base_uri": "https://localhost:8080/",
     "height": 452
    },
    "executionInfo": {
     "elapsed": 77,
     "status": "ok",
     "timestamp": 1741750924330,
     "user": {
      "displayName": "Carlson Thai",
      "userId": "09141101884345333781"
     },
     "user_tz": 420
    },
    "id": "Jk_wSFgY3rwp",
    "outputId": "5c48a672-e54d-4719-c5df-4bfd0c9b4f9b"
   },
   "outputs": [
    {
     "data": {
      "text/html": [
       "<div>\n",
       "<style scoped>\n",
       "    .dataframe tbody tr th:only-of-type {\n",
       "        vertical-align: middle;\n",
       "    }\n",
       "\n",
       "    .dataframe tbody tr th {\n",
       "        vertical-align: top;\n",
       "    }\n",
       "\n",
       "    .dataframe thead th {\n",
       "        text-align: right;\n",
       "    }\n",
       "</style>\n",
       "<table border=\"1\" class=\"dataframe\">\n",
       "  <thead>\n",
       "    <tr style=\"text-align: right;\">\n",
       "      <th></th>\n",
       "      <th>Date</th>\n",
       "      <th>Rank</th>\n",
       "      <th>Country</th>\n",
       "      <th>Rank_Change</th>\n",
       "      <th>Episode_Name</th>\n",
       "      <th>Episode_Description</th>\n",
       "      <th>Podcast_Name</th>\n",
       "      <th>Podcast_Description</th>\n",
       "      <th>Podcast_Publisher</th>\n",
       "      <th>Is_Explicit</th>\n",
       "      <th>Language</th>\n",
       "      <th>Release_Date</th>\n",
       "      <th>Show_HTML_Description</th>\n",
       "      <th>Show_Media_Type</th>\n",
       "      <th>Total_Episodes</th>\n",
       "      <th>Episode_Duration_Minutes</th>\n",
       "    </tr>\n",
       "  </thead>\n",
       "  <tbody>\n",
       "    <tr>\n",
       "      <th>0</th>\n",
       "      <td>2024-09-02</td>\n",
       "      <td>1</td>\n",
       "      <td>us</td>\n",
       "      <td>UNCHANGED</td>\n",
       "      <td>#2197 - Mike Baker</td>\n",
       "      <td>Mike Baker is a former CIA covert operations o...</td>\n",
       "      <td>The Joe Rogan Experience</td>\n",
       "      <td>The official podcast of comedian Joe Rogan.</td>\n",
       "      <td>Joe Rogan</td>\n",
       "      <td>True</td>\n",
       "      <td>['en']</td>\n",
       "      <td>2024-08-29</td>\n",
       "      <td>&lt;p&gt;The official podcast of comedian Joe Rogan....</td>\n",
       "      <td>mixed</td>\n",
       "      <td>2366</td>\n",
       "      <td>164</td>\n",
       "    </tr>\n",
       "    <tr>\n",
       "      <th>1</th>\n",
       "      <td>2024-09-02</td>\n",
       "      <td>2</td>\n",
       "      <td>us</td>\n",
       "      <td>UNCHANGED</td>\n",
       "      <td>#2195 - Andrew Huberman</td>\n",
       "      <td>Andrew Huberman, PhD, is a neuroscientist and ...</td>\n",
       "      <td>The Joe Rogan Experience</td>\n",
       "      <td>The official podcast of comedian Joe Rogan.</td>\n",
       "      <td>Joe Rogan</td>\n",
       "      <td>True</td>\n",
       "      <td>['en']</td>\n",
       "      <td>2024-08-27</td>\n",
       "      <td>&lt;p&gt;The official podcast of comedian Joe Rogan....</td>\n",
       "      <td>mixed</td>\n",
       "      <td>2366</td>\n",
       "      <td>187</td>\n",
       "    </tr>\n",
       "    <tr>\n",
       "      <th>2</th>\n",
       "      <td>2024-09-02</td>\n",
       "      <td>3</td>\n",
       "      <td>us</td>\n",
       "      <td>UNCHANGED</td>\n",
       "      <td>#2196 - Greg Fitzsimmons</td>\n",
       "      <td>Greg Fitzsimmons is a comedian, actor, and wri...</td>\n",
       "      <td>The Joe Rogan Experience</td>\n",
       "      <td>The official podcast of comedian Joe Rogan.</td>\n",
       "      <td>Joe Rogan</td>\n",
       "      <td>True</td>\n",
       "      <td>['en']</td>\n",
       "      <td>2024-08-28</td>\n",
       "      <td>&lt;p&gt;The official podcast of comedian Joe Rogan....</td>\n",
       "      <td>mixed</td>\n",
       "      <td>2366</td>\n",
       "      <td>180</td>\n",
       "    </tr>\n",
       "    <tr>\n",
       "      <th>3</th>\n",
       "      <td>2024-09-02</td>\n",
       "      <td>4</td>\n",
       "      <td>us</td>\n",
       "      <td>UP</td>\n",
       "      <td>The Worst Creature To Run Into During The Ice Age</td>\n",
       "      <td>The Ice Age was no doubt one of earth’s most q...</td>\n",
       "      <td>ExtinctZoo</td>\n",
       "      <td>Your one stop shop for all things dinosaurs, p...</td>\n",
       "      <td>ExtinctZoo</td>\n",
       "      <td>False</td>\n",
       "      <td>['en']</td>\n",
       "      <td>2024-08-31</td>\n",
       "      <td>Your one stop shop for all things dinosaurs, p...</td>\n",
       "      <td>mixed</td>\n",
       "      <td>30</td>\n",
       "      <td>17</td>\n",
       "    </tr>\n",
       "    <tr>\n",
       "      <th>4</th>\n",
       "      <td>2024-09-02</td>\n",
       "      <td>5</td>\n",
       "      <td>us</td>\n",
       "      <td>DOWN</td>\n",
       "      <td>Jeffrey Sachs: Trump’s Plan to Stop WWIII, CIA...</td>\n",
       "      <td>Professor Jeffrey Sachs’s provides a full and ...</td>\n",
       "      <td>The Tucker Carlson Show</td>\n",
       "      <td>The Tucker Carlson Show is your beacon of free...</td>\n",
       "      <td>Tucker Carlson Network</td>\n",
       "      <td>False</td>\n",
       "      <td>['en']</td>\n",
       "      <td>2024-08-30</td>\n",
       "      <td>&lt;p&gt;The Tucker Carlson Show is your beacon of f...</td>\n",
       "      <td>audio</td>\n",
       "      <td>115</td>\n",
       "      <td>148</td>\n",
       "    </tr>\n",
       "  </tbody>\n",
       "</table>\n",
       "</div>"
      ],
      "text/plain": [
       "         Date  Rank Country Rank_Change  \\\n",
       "0  2024-09-02     1      us   UNCHANGED   \n",
       "1  2024-09-02     2      us   UNCHANGED   \n",
       "2  2024-09-02     3      us   UNCHANGED   \n",
       "3  2024-09-02     4      us          UP   \n",
       "4  2024-09-02     5      us        DOWN   \n",
       "\n",
       "                                        Episode_Name  \\\n",
       "0                                 #2197 - Mike Baker   \n",
       "1                            #2195 - Andrew Huberman   \n",
       "2                           #2196 - Greg Fitzsimmons   \n",
       "3  The Worst Creature To Run Into During The Ice Age   \n",
       "4  Jeffrey Sachs: Trump’s Plan to Stop WWIII, CIA...   \n",
       "\n",
       "                                 Episode_Description  \\\n",
       "0  Mike Baker is a former CIA covert operations o...   \n",
       "1  Andrew Huberman, PhD, is a neuroscientist and ...   \n",
       "2  Greg Fitzsimmons is a comedian, actor, and wri...   \n",
       "3  The Ice Age was no doubt one of earth’s most q...   \n",
       "4  Professor Jeffrey Sachs’s provides a full and ...   \n",
       "\n",
       "               Podcast_Name  \\\n",
       "0  The Joe Rogan Experience   \n",
       "1  The Joe Rogan Experience   \n",
       "2  The Joe Rogan Experience   \n",
       "3                ExtinctZoo   \n",
       "4   The Tucker Carlson Show   \n",
       "\n",
       "                                 Podcast_Description       Podcast_Publisher  \\\n",
       "0        The official podcast of comedian Joe Rogan.               Joe Rogan   \n",
       "1        The official podcast of comedian Joe Rogan.               Joe Rogan   \n",
       "2        The official podcast of comedian Joe Rogan.               Joe Rogan   \n",
       "3  Your one stop shop for all things dinosaurs, p...              ExtinctZoo   \n",
       "4  The Tucker Carlson Show is your beacon of free...  Tucker Carlson Network   \n",
       "\n",
       "   Is_Explicit Language Release_Date  \\\n",
       "0         True   ['en']   2024-08-29   \n",
       "1         True   ['en']   2024-08-27   \n",
       "2         True   ['en']   2024-08-28   \n",
       "3        False   ['en']   2024-08-31   \n",
       "4        False   ['en']   2024-08-30   \n",
       "\n",
       "                               Show_HTML_Description Show_Media_Type  \\\n",
       "0  <p>The official podcast of comedian Joe Rogan....           mixed   \n",
       "1  <p>The official podcast of comedian Joe Rogan....           mixed   \n",
       "2  <p>The official podcast of comedian Joe Rogan....           mixed   \n",
       "3  Your one stop shop for all things dinosaurs, p...           mixed   \n",
       "4  <p>The Tucker Carlson Show is your beacon of f...           audio   \n",
       "\n",
       "   Total_Episodes  Episode_Duration_Minutes  \n",
       "0            2366                       164  \n",
       "1            2366                       187  \n",
       "2            2366                       180  \n",
       "3              30                        17  \n",
       "4             115                       148  "
      ]
     },
     "execution_count": 38,
     "metadata": {},
     "output_type": "execute_result"
    }
   ],
   "source": [
    "# Check the DataFrame with the renamed columns\n",
    "df.head()"
   ]
  },
  {
   "cell_type": "markdown",
   "metadata": {
    "id": "4GaCsezex1YU"
   },
   "source": [
    "## Business Insight: Do podcasts need video content to top the Spotify charts? It depends — on geography."
   ]
  },
  {
   "cell_type": "code",
   "execution_count": null,
   "metadata": {
    "id": "5a9HVNeMVhdH"
   },
   "outputs": [],
   "source": [
    "# The question: How important is video content to topping the chart?\n",
    "\n",
    "# Anecedotal observation: Big rise in video content in podcasting space over past 5 years or so\n",
    "# To what extent is having a video component essential to topping the chart\n",
    "# Want to focus on the Top 10 (the biggest hits) across all 22 regions included in the rankings\n",
    "# In the data set, specifically the series of 'Show_Media_Type' -- 74% audio and 26% mixed (includes video)\n",
    "# Want to explore the breakdown focused on just the Top 10 to see what managerial insights -- should shows invest in video?\n",
    "# -- can be found; As a baseline, Countries where more than 26% of the Top 10 are mixed stand out as strong contenders for video investment"
   ]
  },
  {
   "cell_type": "markdown",
   "metadata": {
    "id": "Lm6R6gQbyJMf"
   },
   "source": [
    "##### Step 1: Create a filtered DataFrame that is just the Top 10"
   ]
  },
  {
   "cell_type": "code",
   "execution_count": 43,
   "metadata": {
    "colab": {
     "base_uri": "https://localhost:8080/",
     "height": 964
    },
    "executionInfo": {
     "elapsed": 354,
     "status": "ok",
     "timestamp": 1741750924714,
     "user": {
      "displayName": "Carlson Thai",
      "userId": "09141101884345333781"
     },
     "user_tz": 420
    },
    "id": "eyPgj0D3yDnw",
    "outputId": "8582630f-1d85-4add-cda6-59d059be09dd"
   },
   "outputs": [
    {
     "data": {
      "text/html": [
       "<div>\n",
       "<style scoped>\n",
       "    .dataframe tbody tr th:only-of-type {\n",
       "        vertical-align: middle;\n",
       "    }\n",
       "\n",
       "    .dataframe tbody tr th {\n",
       "        vertical-align: top;\n",
       "    }\n",
       "\n",
       "    .dataframe thead th {\n",
       "        text-align: right;\n",
       "    }\n",
       "</style>\n",
       "<table border=\"1\" class=\"dataframe\">\n",
       "  <thead>\n",
       "    <tr style=\"text-align: right;\">\n",
       "      <th></th>\n",
       "      <th>Date</th>\n",
       "      <th>Rank</th>\n",
       "      <th>Country</th>\n",
       "      <th>Rank_Change</th>\n",
       "      <th>Episode_Name</th>\n",
       "      <th>Episode_Description</th>\n",
       "      <th>Podcast_Name</th>\n",
       "      <th>Podcast_Description</th>\n",
       "      <th>Podcast_Publisher</th>\n",
       "      <th>Is_Explicit</th>\n",
       "      <th>Language</th>\n",
       "      <th>Release_Date</th>\n",
       "      <th>Show_HTML_Description</th>\n",
       "      <th>Show_Media_Type</th>\n",
       "      <th>Total_Episodes</th>\n",
       "      <th>Episode_Duration_Minutes</th>\n",
       "    </tr>\n",
       "  </thead>\n",
       "  <tbody>\n",
       "    <tr>\n",
       "      <th>0</th>\n",
       "      <td>2024-09-02</td>\n",
       "      <td>1</td>\n",
       "      <td>us</td>\n",
       "      <td>UNCHANGED</td>\n",
       "      <td>#2197 - Mike Baker</td>\n",
       "      <td>Mike Baker is a former CIA covert operations o...</td>\n",
       "      <td>The Joe Rogan Experience</td>\n",
       "      <td>The official podcast of comedian Joe Rogan.</td>\n",
       "      <td>Joe Rogan</td>\n",
       "      <td>True</td>\n",
       "      <td>['en']</td>\n",
       "      <td>2024-08-29</td>\n",
       "      <td>&lt;p&gt;The official podcast of comedian Joe Rogan....</td>\n",
       "      <td>mixed</td>\n",
       "      <td>2366</td>\n",
       "      <td>164</td>\n",
       "    </tr>\n",
       "    <tr>\n",
       "      <th>1</th>\n",
       "      <td>2024-09-02</td>\n",
       "      <td>2</td>\n",
       "      <td>us</td>\n",
       "      <td>UNCHANGED</td>\n",
       "      <td>#2195 - Andrew Huberman</td>\n",
       "      <td>Andrew Huberman, PhD, is a neuroscientist and ...</td>\n",
       "      <td>The Joe Rogan Experience</td>\n",
       "      <td>The official podcast of comedian Joe Rogan.</td>\n",
       "      <td>Joe Rogan</td>\n",
       "      <td>True</td>\n",
       "      <td>['en']</td>\n",
       "      <td>2024-08-27</td>\n",
       "      <td>&lt;p&gt;The official podcast of comedian Joe Rogan....</td>\n",
       "      <td>mixed</td>\n",
       "      <td>2366</td>\n",
       "      <td>187</td>\n",
       "    </tr>\n",
       "    <tr>\n",
       "      <th>2</th>\n",
       "      <td>2024-09-02</td>\n",
       "      <td>3</td>\n",
       "      <td>us</td>\n",
       "      <td>UNCHANGED</td>\n",
       "      <td>#2196 - Greg Fitzsimmons</td>\n",
       "      <td>Greg Fitzsimmons is a comedian, actor, and wri...</td>\n",
       "      <td>The Joe Rogan Experience</td>\n",
       "      <td>The official podcast of comedian Joe Rogan.</td>\n",
       "      <td>Joe Rogan</td>\n",
       "      <td>True</td>\n",
       "      <td>['en']</td>\n",
       "      <td>2024-08-28</td>\n",
       "      <td>&lt;p&gt;The official podcast of comedian Joe Rogan....</td>\n",
       "      <td>mixed</td>\n",
       "      <td>2366</td>\n",
       "      <td>180</td>\n",
       "    </tr>\n",
       "    <tr>\n",
       "      <th>3</th>\n",
       "      <td>2024-09-02</td>\n",
       "      <td>4</td>\n",
       "      <td>us</td>\n",
       "      <td>UP</td>\n",
       "      <td>The Worst Creature To Run Into During The Ice Age</td>\n",
       "      <td>The Ice Age was no doubt one of earth’s most q...</td>\n",
       "      <td>ExtinctZoo</td>\n",
       "      <td>Your one stop shop for all things dinosaurs, p...</td>\n",
       "      <td>ExtinctZoo</td>\n",
       "      <td>False</td>\n",
       "      <td>['en']</td>\n",
       "      <td>2024-08-31</td>\n",
       "      <td>Your one stop shop for all things dinosaurs, p...</td>\n",
       "      <td>mixed</td>\n",
       "      <td>30</td>\n",
       "      <td>17</td>\n",
       "    </tr>\n",
       "    <tr>\n",
       "      <th>4</th>\n",
       "      <td>2024-09-02</td>\n",
       "      <td>5</td>\n",
       "      <td>us</td>\n",
       "      <td>DOWN</td>\n",
       "      <td>Jeffrey Sachs: Trump’s Plan to Stop WWIII, CIA...</td>\n",
       "      <td>Professor Jeffrey Sachs’s provides a full and ...</td>\n",
       "      <td>The Tucker Carlson Show</td>\n",
       "      <td>The Tucker Carlson Show is your beacon of free...</td>\n",
       "      <td>Tucker Carlson Network</td>\n",
       "      <td>False</td>\n",
       "      <td>['en']</td>\n",
       "      <td>2024-08-30</td>\n",
       "      <td>&lt;p&gt;The Tucker Carlson Show is your beacon of f...</td>\n",
       "      <td>audio</td>\n",
       "      <td>115</td>\n",
       "      <td>148</td>\n",
       "    </tr>\n",
       "    <tr>\n",
       "      <th>...</th>\n",
       "      <td>...</td>\n",
       "      <td>...</td>\n",
       "      <td>...</td>\n",
       "      <td>...</td>\n",
       "      <td>...</td>\n",
       "      <td>...</td>\n",
       "      <td>...</td>\n",
       "      <td>...</td>\n",
       "      <td>...</td>\n",
       "      <td>...</td>\n",
       "      <td>...</td>\n",
       "      <td>...</td>\n",
       "      <td>...</td>\n",
       "      <td>...</td>\n",
       "      <td>...</td>\n",
       "      <td>...</td>\n",
       "    </tr>\n",
       "    <tr>\n",
       "      <th>228605</th>\n",
       "      <td>2024-10-24</td>\n",
       "      <td>6</td>\n",
       "      <td>us</td>\n",
       "      <td>UP</td>\n",
       "      <td>E540 Sen. JD Vance</td>\n",
       "      <td>JD Vance is a United States Senator (R-OH) who...</td>\n",
       "      <td>This Past Weekend w/ Theo Von</td>\n",
       "      <td>What happened this past weekend. And sometimes...</td>\n",
       "      <td>Theo Von</td>\n",
       "      <td>False</td>\n",
       "      <td>['en']</td>\n",
       "      <td>2024-10-21</td>\n",
       "      <td>&lt;p&gt;What happened this past weekend. And someti...</td>\n",
       "      <td>audio</td>\n",
       "      <td>434</td>\n",
       "      <td>121</td>\n",
       "    </tr>\n",
       "    <tr>\n",
       "      <th>228606</th>\n",
       "      <td>2024-10-24</td>\n",
       "      <td>7</td>\n",
       "      <td>us</td>\n",
       "      <td>NEW</td>\n",
       "      <td>CFB With Ross Dellenger, NBA Trainer Chris Bri...</td>\n",
       "      <td>Hank is off to see the Celtics raise a banner ...</td>\n",
       "      <td>Pardon My Take</td>\n",
       "      <td>On \"Pardon My Take,\" Big Cat &amp; PFT Commenter d...</td>\n",
       "      <td>Barstool Sports</td>\n",
       "      <td>True</td>\n",
       "      <td>['und']</td>\n",
       "      <td>2024-10-23</td>\n",
       "      <td>&lt;p&gt;&lt;/p&gt;&lt;p&gt;On &amp;#34;Pardon My Take,&amp;#34; Big Cat...</td>\n",
       "      <td>audio</td>\n",
       "      <td>910</td>\n",
       "      <td>152</td>\n",
       "    </tr>\n",
       "    <tr>\n",
       "      <th>228607</th>\n",
       "      <td>2024-10-24</td>\n",
       "      <td>8</td>\n",
       "      <td>us</td>\n",
       "      <td>NEW</td>\n",
       "      <td>Anna Kendrick: Pitch Perfect, Twilight &amp; Relat...</td>\n",
       "      <td>Join Alex in the studio for an interview with ...</td>\n",
       "      <td>Call Her Daddy</td>\n",
       "      <td>The most-listened to podcast by women. Alex Co...</td>\n",
       "      <td>Alex Cooper</td>\n",
       "      <td>True</td>\n",
       "      <td>['en']</td>\n",
       "      <td>2024-10-23</td>\n",
       "      <td>&lt;p&gt;The most-listened to podcast by women. Alex...</td>\n",
       "      <td>mixed</td>\n",
       "      <td>414</td>\n",
       "      <td>78</td>\n",
       "    </tr>\n",
       "    <tr>\n",
       "      <th>228608</th>\n",
       "      <td>2024-10-24</td>\n",
       "      <td>9</td>\n",
       "      <td>us</td>\n",
       "      <td>DOWN</td>\n",
       "      <td>Dave Ramsey: Trump v. Kamala’s Economic Plans,...</td>\n",
       "      <td>Which has destroyed the lives of more American...</td>\n",
       "      <td>The Tucker Carlson Show</td>\n",
       "      <td>The Tucker Carlson Show is your beacon of free...</td>\n",
       "      <td>Tucker Carlson Network</td>\n",
       "      <td>False</td>\n",
       "      <td>['en']</td>\n",
       "      <td>2024-10-21</td>\n",
       "      <td>&lt;p&gt;The Tucker Carlson Show is your beacon of f...</td>\n",
       "      <td>audio</td>\n",
       "      <td>142</td>\n",
       "      <td>124</td>\n",
       "    </tr>\n",
       "    <tr>\n",
       "      <th>228609</th>\n",
       "      <td>2024-10-24</td>\n",
       "      <td>10</td>\n",
       "      <td>us</td>\n",
       "      <td>DOWN</td>\n",
       "      <td>As Marijuana’s Popularity Grows, So Do Its Harms</td>\n",
       "      <td>Warning: this episode contains descriptions of...</td>\n",
       "      <td>The Daily</td>\n",
       "      <td>This is what the news should sound like. The b...</td>\n",
       "      <td>The New York Times</td>\n",
       "      <td>True</td>\n",
       "      <td>['en']</td>\n",
       "      <td>2024-10-22</td>\n",
       "      <td>This is what the news should sound like. The b...</td>\n",
       "      <td>audio</td>\n",
       "      <td>2299</td>\n",
       "      <td>33</td>\n",
       "    </tr>\n",
       "  </tbody>\n",
       "</table>\n",
       "<p>11440 rows × 16 columns</p>\n",
       "</div>"
      ],
      "text/plain": [
       "              Date  Rank Country Rank_Change  \\\n",
       "0       2024-09-02     1      us   UNCHANGED   \n",
       "1       2024-09-02     2      us   UNCHANGED   \n",
       "2       2024-09-02     3      us   UNCHANGED   \n",
       "3       2024-09-02     4      us          UP   \n",
       "4       2024-09-02     5      us        DOWN   \n",
       "...            ...   ...     ...         ...   \n",
       "228605  2024-10-24     6      us          UP   \n",
       "228606  2024-10-24     7      us         NEW   \n",
       "228607  2024-10-24     8      us         NEW   \n",
       "228608  2024-10-24     9      us        DOWN   \n",
       "228609  2024-10-24    10      us        DOWN   \n",
       "\n",
       "                                             Episode_Name  \\\n",
       "0                                      #2197 - Mike Baker   \n",
       "1                                 #2195 - Andrew Huberman   \n",
       "2                                #2196 - Greg Fitzsimmons   \n",
       "3       The Worst Creature To Run Into During The Ice Age   \n",
       "4       Jeffrey Sachs: Trump’s Plan to Stop WWIII, CIA...   \n",
       "...                                                   ...   \n",
       "228605                                 E540 Sen. JD Vance   \n",
       "228606  CFB With Ross Dellenger, NBA Trainer Chris Bri...   \n",
       "228607  Anna Kendrick: Pitch Perfect, Twilight & Relat...   \n",
       "228608  Dave Ramsey: Trump v. Kamala’s Economic Plans,...   \n",
       "228609   As Marijuana’s Popularity Grows, So Do Its Harms   \n",
       "\n",
       "                                      Episode_Description  \\\n",
       "0       Mike Baker is a former CIA covert operations o...   \n",
       "1       Andrew Huberman, PhD, is a neuroscientist and ...   \n",
       "2       Greg Fitzsimmons is a comedian, actor, and wri...   \n",
       "3       The Ice Age was no doubt one of earth’s most q...   \n",
       "4       Professor Jeffrey Sachs’s provides a full and ...   \n",
       "...                                                   ...   \n",
       "228605  JD Vance is a United States Senator (R-OH) who...   \n",
       "228606  Hank is off to see the Celtics raise a banner ...   \n",
       "228607  Join Alex in the studio for an interview with ...   \n",
       "228608  Which has destroyed the lives of more American...   \n",
       "228609  Warning: this episode contains descriptions of...   \n",
       "\n",
       "                         Podcast_Name  \\\n",
       "0            The Joe Rogan Experience   \n",
       "1            The Joe Rogan Experience   \n",
       "2            The Joe Rogan Experience   \n",
       "3                          ExtinctZoo   \n",
       "4             The Tucker Carlson Show   \n",
       "...                               ...   \n",
       "228605  This Past Weekend w/ Theo Von   \n",
       "228606                 Pardon My Take   \n",
       "228607                 Call Her Daddy   \n",
       "228608        The Tucker Carlson Show   \n",
       "228609                      The Daily   \n",
       "\n",
       "                                      Podcast_Description  \\\n",
       "0             The official podcast of comedian Joe Rogan.   \n",
       "1             The official podcast of comedian Joe Rogan.   \n",
       "2             The official podcast of comedian Joe Rogan.   \n",
       "3       Your one stop shop for all things dinosaurs, p...   \n",
       "4       The Tucker Carlson Show is your beacon of free...   \n",
       "...                                                   ...   \n",
       "228605  What happened this past weekend. And sometimes...   \n",
       "228606  On \"Pardon My Take,\" Big Cat & PFT Commenter d...   \n",
       "228607  The most-listened to podcast by women. Alex Co...   \n",
       "228608  The Tucker Carlson Show is your beacon of free...   \n",
       "228609  This is what the news should sound like. The b...   \n",
       "\n",
       "             Podcast_Publisher  Is_Explicit Language Release_Date  \\\n",
       "0                    Joe Rogan         True   ['en']   2024-08-29   \n",
       "1                    Joe Rogan         True   ['en']   2024-08-27   \n",
       "2                    Joe Rogan         True   ['en']   2024-08-28   \n",
       "3                   ExtinctZoo        False   ['en']   2024-08-31   \n",
       "4       Tucker Carlson Network        False   ['en']   2024-08-30   \n",
       "...                        ...          ...      ...          ...   \n",
       "228605                Theo Von        False   ['en']   2024-10-21   \n",
       "228606         Barstool Sports         True  ['und']   2024-10-23   \n",
       "228607             Alex Cooper         True   ['en']   2024-10-23   \n",
       "228608  Tucker Carlson Network        False   ['en']   2024-10-21   \n",
       "228609      The New York Times         True   ['en']   2024-10-22   \n",
       "\n",
       "                                    Show_HTML_Description Show_Media_Type  \\\n",
       "0       <p>The official podcast of comedian Joe Rogan....           mixed   \n",
       "1       <p>The official podcast of comedian Joe Rogan....           mixed   \n",
       "2       <p>The official podcast of comedian Joe Rogan....           mixed   \n",
       "3       Your one stop shop for all things dinosaurs, p...           mixed   \n",
       "4       <p>The Tucker Carlson Show is your beacon of f...           audio   \n",
       "...                                                   ...             ...   \n",
       "228605  <p>What happened this past weekend. And someti...           audio   \n",
       "228606  <p></p><p>On &#34;Pardon My Take,&#34; Big Cat...           audio   \n",
       "228607  <p>The most-listened to podcast by women. Alex...           mixed   \n",
       "228608  <p>The Tucker Carlson Show is your beacon of f...           audio   \n",
       "228609  This is what the news should sound like. The b...           audio   \n",
       "\n",
       "        Total_Episodes  Episode_Duration_Minutes  \n",
       "0                 2366                       164  \n",
       "1                 2366                       187  \n",
       "2                 2366                       180  \n",
       "3                   30                        17  \n",
       "4                  115                       148  \n",
       "...                ...                       ...  \n",
       "228605             434                       121  \n",
       "228606             910                       152  \n",
       "228607             414                        78  \n",
       "228608             142                       124  \n",
       "228609            2299                        33  \n",
       "\n",
       "[11440 rows x 16 columns]"
      ]
     },
     "execution_count": 43,
     "metadata": {},
     "output_type": "execute_result"
    }
   ],
   "source": [
    "# Step 1: Create a filtered DataFrame that is just the Top 10\n",
    "top_10_df = df[df['Rank']<=10]\n",
    "top_10_df"
   ]
  },
  {
   "cell_type": "markdown",
   "metadata": {
    "id": "fv_PjXhfyReA"
   },
   "source": [
    "##### Step 2: Group by country"
   ]
  },
  {
   "cell_type": "code",
   "execution_count": 45,
   "metadata": {
    "colab": {
     "base_uri": "https://localhost:8080/",
     "height": 1000
    },
    "executionInfo": {
     "elapsed": 3,
     "status": "ok",
     "timestamp": 1741750924718,
     "user": {
      "displayName": "Carlson Thai",
      "userId": "09141101884345333781"
     },
     "user_tz": 420
    },
    "id": "LQK1dWlUaE6L",
    "outputId": "511e7618-0b29-47fd-deff-54b076adb8e6"
   },
   "outputs": [
    {
     "data": {
      "text/plain": [
       "Country  Show_Media_Type\n",
       "ar       mixed              443\n",
       "         audio               77\n",
       "at       audio              349\n",
       "         mixed              171\n",
       "au       audio              272\n",
       "         mixed              248\n",
       "br       audio              329\n",
       "         mixed              191\n",
       "ca       mixed              261\n",
       "         audio              259\n",
       "cl       mixed              372\n",
       "         audio              148\n",
       "co       mixed              437\n",
       "         audio               83\n",
       "de       audio              300\n",
       "         mixed              220\n",
       "es       audio              267\n",
       "         mixed              253\n",
       "fr       audio              505\n",
       "         mixed               15\n",
       "gb       audio              355\n",
       "         mixed              165\n",
       "id       mixed              329\n",
       "         audio              191\n",
       "ie       audio              340\n",
       "         mixed              180\n",
       "in       audio              413\n",
       "         mixed              107\n",
       "it       audio              432\n",
       "         mixed               88\n",
       "jp       audio              506\n",
       "         mixed               14\n",
       "mx       audio              322\n",
       "         mixed              198\n",
       "nl       audio              480\n",
       "         mixed               40\n",
       "nz       mixed              364\n",
       "         audio              156\n",
       "ph       mixed              293\n",
       "         audio              227\n",
       "pl       audio              268\n",
       "         mixed              252\n",
       "us       audio              294\n",
       "         mixed              226\n",
       "Name: count, dtype: int64"
      ]
     },
     "execution_count": 45,
     "metadata": {},
     "output_type": "execute_result"
    }
   ],
   "source": [
    "# Step 2: Now group the filtered DataFrame (top_10_df) by 'Country\"\n",
    "# Just display the 'Country' and 'Show_Media_Type' columns\n",
    "\n",
    "# Use .value_counts() to break down 'mixed' vs. 'audio' on a Country level\n",
    "top_10_df.groupby('Country')[['Country', 'Show_Media_Type']].value_counts()"
   ]
  },
  {
   "cell_type": "markdown",
   "metadata": {
    "id": "HtlkYlRayU_1"
   },
   "source": [
    "##### Step 3: Use Seaborn to visualize the count of mixed vs. audio podcasts"
   ]
  },
  {
   "cell_type": "code",
   "execution_count": 47,
   "metadata": {
    "colab": {
     "base_uri": "https://localhost:8080/",
     "height": 565
    },
    "executionInfo": {
     "elapsed": 878,
     "status": "ok",
     "timestamp": 1741750925598,
     "user": {
      "displayName": "Carlson Thai",
      "userId": "09141101884345333781"
     },
     "user_tz": 420
    },
    "id": "qrxBnxWxfa5W",
    "outputId": "527d9c68-f4b7-4809-c871-dee4dbe6f7ea"
   },
   "outputs": [
    {
     "data": {
      "text/plain": [
       "<seaborn.axisgrid.FacetGrid at 0x16a1dfdfd70>"
      ]
     },
     "execution_count": 47,
     "metadata": {},
     "output_type": "execute_result"
    },
    {
     "data": {
      "text/plain": [
       "Text(0.5, 1.0, 'Count of Audio vs. Mixed Podcasts by Country')"
      ]
     },
     "execution_count": 47,
     "metadata": {},
     "output_type": "execute_result"
    },
    {
     "data": {
      "image/png": "[encoded data removed]",
      "text/plain": [
       "<Figure size 1136.49x500 with 1 Axes>"
      ]
     },
     "metadata": {},
     "output_type": "display_data"
    }
   ],
   "source": [
    "# Step 3: Visualize the count of mixed vs. audio podcasts\n",
    "# in the Top 10 rankings on a country-by-country basis using a side-by-side bar chart\n",
    "# Hue shows mixed (blue) and audio (orange)\n",
    "# and kind='count' to count the number of occurences of each categorial value (mixed vs. audio)\n",
    "sns.catplot(x='Country', hue='Show_Media_Type', data=top_10_df, kind='count', aspect=2)\n",
    "# Set the title\n",
    "plt.title('Count of Audio vs. Mixed Podcasts by Country')\n",
    "plt.show()"
   ]
  },
  {
   "cell_type": "markdown",
   "metadata": {
    "id": "6GWcrBjdydNV"
   },
   "source": [
    "##### Step 4: Calculate the percentage of mixed shows on a country-by-country basis"
   ]
  },
  {
   "cell_type": "code",
   "execution_count": 49,
   "metadata": {
    "colab": {
     "base_uri": "https://localhost:8080/",
     "height": 1000
    },
    "executionInfo": {
     "elapsed": 55,
     "status": "ok",
     "timestamp": 1741750925654,
     "user": {
      "displayName": "Carlson Thai",
      "userId": "09141101884345333781"
     },
     "user_tz": 420
    },
    "id": "grluQCz3iOGc",
    "outputId": "7791bd5f-f3f7-43cc-dab4-695cb79fce9f"
   },
   "outputs": [
    {
     "data": {
      "text/html": [
       "<div>\n",
       "<style scoped>\n",
       "    .dataframe tbody tr th:only-of-type {\n",
       "        vertical-align: middle;\n",
       "    }\n",
       "\n",
       "    .dataframe tbody tr th {\n",
       "        vertical-align: top;\n",
       "    }\n",
       "\n",
       "    .dataframe thead th {\n",
       "        text-align: right;\n",
       "    }\n",
       "</style>\n",
       "<table border=\"1\" class=\"dataframe\">\n",
       "  <thead>\n",
       "    <tr style=\"text-align: right;\">\n",
       "      <th></th>\n",
       "      <th>Date</th>\n",
       "      <th>Rank</th>\n",
       "      <th>Country</th>\n",
       "      <th>Rank_Change</th>\n",
       "      <th>Episode_Name</th>\n",
       "      <th>Episode_Description</th>\n",
       "      <th>Podcast_Name</th>\n",
       "      <th>Podcast_Description</th>\n",
       "      <th>Podcast_Publisher</th>\n",
       "      <th>Is_Explicit</th>\n",
       "      <th>Language</th>\n",
       "      <th>Release_Date</th>\n",
       "      <th>Show_HTML_Description</th>\n",
       "      <th>Show_Media_Type</th>\n",
       "      <th>Total_Episodes</th>\n",
       "      <th>Episode_Duration_Minutes</th>\n",
       "    </tr>\n",
       "  </thead>\n",
       "  <tbody>\n",
       "    <tr>\n",
       "      <th>0</th>\n",
       "      <td>2024-09-02</td>\n",
       "      <td>1</td>\n",
       "      <td>us</td>\n",
       "      <td>UNCHANGED</td>\n",
       "      <td>#2197 - Mike Baker</td>\n",
       "      <td>Mike Baker is a former CIA covert operations o...</td>\n",
       "      <td>The Joe Rogan Experience</td>\n",
       "      <td>The official podcast of comedian Joe Rogan.</td>\n",
       "      <td>Joe Rogan</td>\n",
       "      <td>True</td>\n",
       "      <td>['en']</td>\n",
       "      <td>2024-08-29</td>\n",
       "      <td>&lt;p&gt;The official podcast of comedian Joe Rogan....</td>\n",
       "      <td>mixed</td>\n",
       "      <td>2366</td>\n",
       "      <td>164</td>\n",
       "    </tr>\n",
       "    <tr>\n",
       "      <th>1</th>\n",
       "      <td>2024-09-02</td>\n",
       "      <td>2</td>\n",
       "      <td>us</td>\n",
       "      <td>UNCHANGED</td>\n",
       "      <td>#2195 - Andrew Huberman</td>\n",
       "      <td>Andrew Huberman, PhD, is a neuroscientist and ...</td>\n",
       "      <td>The Joe Rogan Experience</td>\n",
       "      <td>The official podcast of comedian Joe Rogan.</td>\n",
       "      <td>Joe Rogan</td>\n",
       "      <td>True</td>\n",
       "      <td>['en']</td>\n",
       "      <td>2024-08-27</td>\n",
       "      <td>&lt;p&gt;The official podcast of comedian Joe Rogan....</td>\n",
       "      <td>mixed</td>\n",
       "      <td>2366</td>\n",
       "      <td>187</td>\n",
       "    </tr>\n",
       "    <tr>\n",
       "      <th>2</th>\n",
       "      <td>2024-09-02</td>\n",
       "      <td>3</td>\n",
       "      <td>us</td>\n",
       "      <td>UNCHANGED</td>\n",
       "      <td>#2196 - Greg Fitzsimmons</td>\n",
       "      <td>Greg Fitzsimmons is a comedian, actor, and wri...</td>\n",
       "      <td>The Joe Rogan Experience</td>\n",
       "      <td>The official podcast of comedian Joe Rogan.</td>\n",
       "      <td>Joe Rogan</td>\n",
       "      <td>True</td>\n",
       "      <td>['en']</td>\n",
       "      <td>2024-08-28</td>\n",
       "      <td>&lt;p&gt;The official podcast of comedian Joe Rogan....</td>\n",
       "      <td>mixed</td>\n",
       "      <td>2366</td>\n",
       "      <td>180</td>\n",
       "    </tr>\n",
       "    <tr>\n",
       "      <th>3</th>\n",
       "      <td>2024-09-02</td>\n",
       "      <td>4</td>\n",
       "      <td>us</td>\n",
       "      <td>UP</td>\n",
       "      <td>The Worst Creature To Run Into During The Ice Age</td>\n",
       "      <td>The Ice Age was no doubt one of earth’s most q...</td>\n",
       "      <td>ExtinctZoo</td>\n",
       "      <td>Your one stop shop for all things dinosaurs, p...</td>\n",
       "      <td>ExtinctZoo</td>\n",
       "      <td>False</td>\n",
       "      <td>['en']</td>\n",
       "      <td>2024-08-31</td>\n",
       "      <td>Your one stop shop for all things dinosaurs, p...</td>\n",
       "      <td>mixed</td>\n",
       "      <td>30</td>\n",
       "      <td>17</td>\n",
       "    </tr>\n",
       "    <tr>\n",
       "      <th>5</th>\n",
       "      <td>2024-09-02</td>\n",
       "      <td>6</td>\n",
       "      <td>us</td>\n",
       "      <td>UP</td>\n",
       "      <td>The Most Unhinged MYSTERY TECH</td>\n",
       "      <td>Today on Mystery Tech we look at items ranging...</td>\n",
       "      <td>Austin Evans</td>\n",
       "      <td>Austin Evans is a tech creator who has been cr...</td>\n",
       "      <td>Austin Evans</td>\n",
       "      <td>False</td>\n",
       "      <td>['en-US']</td>\n",
       "      <td>2024-08-25</td>\n",
       "      <td>Austin Evans is a tech creator who has been cr...</td>\n",
       "      <td>mixed</td>\n",
       "      <td>10</td>\n",
       "      <td>18</td>\n",
       "    </tr>\n",
       "  </tbody>\n",
       "</table>\n",
       "</div>"
      ],
      "text/plain": [
       "         Date  Rank Country Rank_Change  \\\n",
       "0  2024-09-02     1      us   UNCHANGED   \n",
       "1  2024-09-02     2      us   UNCHANGED   \n",
       "2  2024-09-02     3      us   UNCHANGED   \n",
       "3  2024-09-02     4      us          UP   \n",
       "5  2024-09-02     6      us          UP   \n",
       "\n",
       "                                        Episode_Name  \\\n",
       "0                                 #2197 - Mike Baker   \n",
       "1                            #2195 - Andrew Huberman   \n",
       "2                           #2196 - Greg Fitzsimmons   \n",
       "3  The Worst Creature To Run Into During The Ice Age   \n",
       "5                     The Most Unhinged MYSTERY TECH   \n",
       "\n",
       "                                 Episode_Description  \\\n",
       "0  Mike Baker is a former CIA covert operations o...   \n",
       "1  Andrew Huberman, PhD, is a neuroscientist and ...   \n",
       "2  Greg Fitzsimmons is a comedian, actor, and wri...   \n",
       "3  The Ice Age was no doubt one of earth’s most q...   \n",
       "5  Today on Mystery Tech we look at items ranging...   \n",
       "\n",
       "               Podcast_Name  \\\n",
       "0  The Joe Rogan Experience   \n",
       "1  The Joe Rogan Experience   \n",
       "2  The Joe Rogan Experience   \n",
       "3                ExtinctZoo   \n",
       "5              Austin Evans   \n",
       "\n",
       "                                 Podcast_Description Podcast_Publisher  \\\n",
       "0        The official podcast of comedian Joe Rogan.         Joe Rogan   \n",
       "1        The official podcast of comedian Joe Rogan.         Joe Rogan   \n",
       "2        The official podcast of comedian Joe Rogan.         Joe Rogan   \n",
       "3  Your one stop shop for all things dinosaurs, p...        ExtinctZoo   \n",
       "5  Austin Evans is a tech creator who has been cr...      Austin Evans   \n",
       "\n",
       "   Is_Explicit   Language Release_Date  \\\n",
       "0         True     ['en']   2024-08-29   \n",
       "1         True     ['en']   2024-08-27   \n",
       "2         True     ['en']   2024-08-28   \n",
       "3        False     ['en']   2024-08-31   \n",
       "5        False  ['en-US']   2024-08-25   \n",
       "\n",
       "                               Show_HTML_Description Show_Media_Type  \\\n",
       "0  <p>The official podcast of comedian Joe Rogan....           mixed   \n",
       "1  <p>The official podcast of comedian Joe Rogan....           mixed   \n",
       "2  <p>The official podcast of comedian Joe Rogan....           mixed   \n",
       "3  Your one stop shop for all things dinosaurs, p...           mixed   \n",
       "5  Austin Evans is a tech creator who has been cr...           mixed   \n",
       "\n",
       "   Total_Episodes  Episode_Duration_Minutes  \n",
       "0            2366                       164  \n",
       "1            2366                       187  \n",
       "2            2366                       180  \n",
       "3              30                        17  \n",
       "5              10                        18  "
      ]
     },
     "execution_count": 49,
     "metadata": {},
     "output_type": "execute_result"
    },
    {
     "data": {
      "text/plain": [
       "Country\n",
       "ar    443\n",
       "at    171\n",
       "au    248\n",
       "br    191\n",
       "ca    261\n",
       "Name: Country, dtype: int64"
      ]
     },
     "execution_count": 49,
     "metadata": {},
     "output_type": "execute_result"
    },
    {
     "data": {
      "text/plain": [
       "Country\n",
       "ar    520\n",
       "at    520\n",
       "au    520\n",
       "br    520\n",
       "ca    520\n",
       "Name: Country, dtype: int64"
      ]
     },
     "execution_count": 49,
     "metadata": {},
     "output_type": "execute_result"
    },
    {
     "data": {
      "text/plain": [
       "Country\n",
       "jp     2.69\n",
       "fr     2.88\n",
       "nl     7.69\n",
       "it    16.92\n",
       "in    20.58\n",
       "gb    31.73\n",
       "at    32.88\n",
       "ie    34.62\n",
       "br    36.73\n",
       "mx    38.08\n",
       "de    42.31\n",
       "us    43.46\n",
       "au    47.69\n",
       "pl    48.46\n",
       "es    48.65\n",
       "ca    50.19\n",
       "ph    56.35\n",
       "id    63.27\n",
       "nz    70.00\n",
       "cl    71.54\n",
       "co    84.04\n",
       "ar    85.19\n",
       "Name: Country, dtype: float64"
      ]
     },
     "execution_count": 49,
     "metadata": {},
     "output_type": "execute_result"
    }
   ],
   "source": [
    "# Step 4: Calculate the percentage of mixed shows on a country-by country basis\n",
    "# Filter the DataFrame for mixed podcasts\n",
    "mixed_podcasts = top_10_df[top_10_df['Show_Media_Type']== 'mixed']\n",
    "mixed_podcasts.head()\n",
    "\n",
    "# Count the mixed podcasts by country\n",
    "mixed_by_country = mixed_podcasts.groupby('Country')['Country'].size()\n",
    "mixed_by_country.head()\n",
    "\n",
    "# Get the total count by country\n",
    "total_by_country = top_10_df.groupby('Country')['Country'].size()\n",
    "total_by_country.head()\n",
    "\n",
    "# Calculate the percentage of mixed podcasts per country\n",
    "# Display from lowest to highest\n",
    "# and round to 2 decimal places to improve readability\n",
    "mixed_percentage_by_country = (mixed_by_country / total_by_country ) * 100\n",
    "round(mixed_percentage_by_country.sort_values(),2)"
   ]
  },
  {
   "cell_type": "markdown",
   "metadata": {
    "id": "3fqLLhKnynBY"
   },
   "source": [
    "##### Step 5: Visualize the percentage of mixed podcasts on a country-by-country basis"
   ]
  },
  {
   "cell_type": "code",
   "execution_count": 51,
   "metadata": {
    "colab": {
     "base_uri": "https://localhost:8080/",
     "height": 618
    },
    "executionInfo": {
     "elapsed": 658,
     "status": "ok",
     "timestamp": 1741750926313,
     "user": {
      "displayName": "Carlson Thai",
      "userId": "09141101884345333781"
     },
     "user_tz": 420
    },
    "id": "rlnpXFaao3V-",
    "outputId": "a4a28c74-9a52-4535-f3f6-aaf738634449"
   },
   "outputs": [
    {
     "data": {
      "text/plain": [
       "<seaborn.axisgrid.FacetGrid at 0x16a239e1400>"
      ]
     },
     "execution_count": 51,
     "metadata": {},
     "output_type": "execute_result"
    },
    {
     "data": {
      "text/plain": [
       "<matplotlib.lines.Line2D at 0x16a21e287a0>"
      ]
     },
     "execution_count": 51,
     "metadata": {},
     "output_type": "execute_result"
    },
    {
     "data": {
      "text/plain": [
       "Text(0.5, 28.999999999999986, 'Country')"
      ]
     },
     "execution_count": 51,
     "metadata": {},
     "output_type": "execute_result"
    },
    {
     "data": {
      "text/plain": [
       "Text(9.916358024691357, 0.5, 'Percentage of Mixed Podcasts')"
      ]
     },
     "execution_count": 51,
     "metadata": {},
     "output_type": "execute_result"
    },
    {
     "data": {
      "text/plain": [
       "Text(0.5, 1.0, 'Percentage of Mixed Podcasts by Country')"
      ]
     },
     "execution_count": 51,
     "metadata": {},
     "output_type": "execute_result"
    },
    {
     "data": {
      "image/png": "[encoded data removed]",
      "text/plain": [
       "<Figure size 1011.11x500 with 1 Axes>"
      ]
     },
     "metadata": {},
     "output_type": "display_data"
    }
   ],
   "source": [
    "# Step 5: Visualize the percentage of mixed podcasts by country\n",
    "# Create the catplot to show the percentage of mixed podcasts by country\n",
    "sns.catplot(x=mixed_percentage_by_country.index, y=mixed_percentage_by_country.values, kind='bar', color='lightgreen', aspect=2)\n",
    "# Add a reference line at 26% to mark the global threshold\n",
    "plt.axhline(y=26, color='black', linestyle='--', label='26% Mixed Podcasts')\n",
    "# Set x-axis label\n",
    "plt.xlabel('Country')\n",
    "# Set y-axis label\n",
    "plt.ylabel('Percentage of Mixed Podcasts')\n",
    "# Set title of the plot\n",
    "plt.title('Percentage of Mixed Podcasts by Country')\n",
    "plt.show()"
   ]
  },
  {
   "cell_type": "markdown",
   "metadata": {
    "id": "sMZLCYEcw-P3"
   },
   "source": [
    "### Key Managerial Takeaways"
   ]
  },
  {
   "cell_type": "markdown",
   "metadata": {
    "id": "JovYpuEsxFfK"
   },
   "source": [
    "Podcasts in countries that clearly surpass the 26% global threshold are strong canidates for investment in video content. Secondary observation: In countries like France and Japan where there is currently a very low percentage of video podcasts, there is an untapped opportunity to grow into this space."
   ]
  },
  {
   "cell_type": "markdown",
   "metadata": {
    "id": "2tYGzxgh-gqV"
   },
   "source": [
    "## No Shortcuts to the Top: Predicting Spotify Top 50 Staying Power with Machine Learning"
   ]
  },
  {
   "cell_type": "code",
   "execution_count": 43,
   "metadata": {
    "id": "5TPgZWn6jxml"
   },
   "outputs": [],
   "source": [
    "# Already came up with a granular insight about the impact of video on the rankings\n",
    "# Now let's use machine learning and scikit-learn to explore which features (variables) have the biggest\n",
    "# impact on whether an episode stays in the Spotify Top 50\n",
    "# As for a managerial takeaway, it logically follows that the top shows will have the best chance of\n",
    "# capturing that aforementioned $ 5 billion of ad spending"
   ]
  },
  {
   "cell_type": "markdown",
   "metadata": {
    "id": "FLUk-oU7-Tj9"
   },
   "source": [
    "##### Step 1: Import scikit-learn"
   ]
  },
  {
   "cell_type": "code",
   "execution_count": 74,
   "metadata": {
    "id": "r0LIYup8-Y12"
   },
   "outputs": [],
   "source": [
    "import sklearn as sk"
   ]
  },
  {
   "cell_type": "markdown",
   "metadata": {
    "id": "EG7i7ugQ-ePA"
   },
   "source": [
    "##### Step 2: Create a new DataFrame, and then clean up and prepare the data set"
   ]
  },
  {
   "cell_type": "code",
   "execution_count": 76,
   "metadata": {
    "colab": {
     "base_uri": "https://localhost:8080/",
     "height": 452
    },
    "executionInfo": {
     "elapsed": 264,
     "status": "ok",
     "timestamp": 1741750927068,
     "user": {
      "displayName": "Carlson Thai",
      "userId": "09141101884345333781"
     },
     "user_tz": 420
    },
    "id": "rZ8NEnJlJ7zH",
    "outputId": "46ef72b8-a119-4f57-c190-1a59f47695f8"
   },
   "outputs": [
    {
     "data": {
      "text/html": [
       "<div>\n",
       "<style scoped>\n",
       "    .dataframe tbody tr th:only-of-type {\n",
       "        vertical-align: middle;\n",
       "    }\n",
       "\n",
       "    .dataframe tbody tr th {\n",
       "        vertical-align: top;\n",
       "    }\n",
       "\n",
       "    .dataframe thead th {\n",
       "        text-align: right;\n",
       "    }\n",
       "</style>\n",
       "<table border=\"1\" class=\"dataframe\">\n",
       "  <thead>\n",
       "    <tr style=\"text-align: right;\">\n",
       "      <th></th>\n",
       "      <th>Date</th>\n",
       "      <th>Rank</th>\n",
       "      <th>Country</th>\n",
       "      <th>Rank_Change</th>\n",
       "      <th>Episode_Name</th>\n",
       "      <th>Episode_Description</th>\n",
       "      <th>Podcast_Name</th>\n",
       "      <th>Podcast_Description</th>\n",
       "      <th>Podcast_Publisher</th>\n",
       "      <th>Is_Explicit</th>\n",
       "      <th>Language</th>\n",
       "      <th>Release_Date</th>\n",
       "      <th>Show_HTML_Description</th>\n",
       "      <th>Show_Media_Type</th>\n",
       "      <th>Total_Episodes</th>\n",
       "      <th>Episode_Duration_Minutes</th>\n",
       "    </tr>\n",
       "  </thead>\n",
       "  <tbody>\n",
       "    <tr>\n",
       "      <th>0</th>\n",
       "      <td>2024-09-02</td>\n",
       "      <td>1</td>\n",
       "      <td>us</td>\n",
       "      <td>UNCHANGED</td>\n",
       "      <td>#2197 - Mike Baker</td>\n",
       "      <td>Mike Baker is a former CIA covert operations o...</td>\n",
       "      <td>The Joe Rogan Experience</td>\n",
       "      <td>The official podcast of comedian Joe Rogan.</td>\n",
       "      <td>Joe Rogan</td>\n",
       "      <td>True</td>\n",
       "      <td>['en']</td>\n",
       "      <td>2024-08-29</td>\n",
       "      <td>&lt;p&gt;The official podcast of comedian Joe Rogan....</td>\n",
       "      <td>mixed</td>\n",
       "      <td>2366</td>\n",
       "      <td>164</td>\n",
       "    </tr>\n",
       "    <tr>\n",
       "      <th>1</th>\n",
       "      <td>2024-09-02</td>\n",
       "      <td>2</td>\n",
       "      <td>us</td>\n",
       "      <td>UNCHANGED</td>\n",
       "      <td>#2195 - Andrew Huberman</td>\n",
       "      <td>Andrew Huberman, PhD, is a neuroscientist and ...</td>\n",
       "      <td>The Joe Rogan Experience</td>\n",
       "      <td>The official podcast of comedian Joe Rogan.</td>\n",
       "      <td>Joe Rogan</td>\n",
       "      <td>True</td>\n",
       "      <td>['en']</td>\n",
       "      <td>2024-08-27</td>\n",
       "      <td>&lt;p&gt;The official podcast of comedian Joe Rogan....</td>\n",
       "      <td>mixed</td>\n",
       "      <td>2366</td>\n",
       "      <td>187</td>\n",
       "    </tr>\n",
       "    <tr>\n",
       "      <th>2</th>\n",
       "      <td>2024-09-02</td>\n",
       "      <td>3</td>\n",
       "      <td>us</td>\n",
       "      <td>UNCHANGED</td>\n",
       "      <td>#2196 - Greg Fitzsimmons</td>\n",
       "      <td>Greg Fitzsimmons is a comedian, actor, and wri...</td>\n",
       "      <td>The Joe Rogan Experience</td>\n",
       "      <td>The official podcast of comedian Joe Rogan.</td>\n",
       "      <td>Joe Rogan</td>\n",
       "      <td>True</td>\n",
       "      <td>['en']</td>\n",
       "      <td>2024-08-28</td>\n",
       "      <td>&lt;p&gt;The official podcast of comedian Joe Rogan....</td>\n",
       "      <td>mixed</td>\n",
       "      <td>2366</td>\n",
       "      <td>180</td>\n",
       "    </tr>\n",
       "    <tr>\n",
       "      <th>3</th>\n",
       "      <td>2024-09-02</td>\n",
       "      <td>4</td>\n",
       "      <td>us</td>\n",
       "      <td>UP</td>\n",
       "      <td>The Worst Creature To Run Into During The Ice Age</td>\n",
       "      <td>The Ice Age was no doubt one of earth’s most q...</td>\n",
       "      <td>ExtinctZoo</td>\n",
       "      <td>Your one stop shop for all things dinosaurs, p...</td>\n",
       "      <td>ExtinctZoo</td>\n",
       "      <td>False</td>\n",
       "      <td>['en']</td>\n",
       "      <td>2024-08-31</td>\n",
       "      <td>Your one stop shop for all things dinosaurs, p...</td>\n",
       "      <td>mixed</td>\n",
       "      <td>30</td>\n",
       "      <td>17</td>\n",
       "    </tr>\n",
       "    <tr>\n",
       "      <th>4</th>\n",
       "      <td>2024-09-02</td>\n",
       "      <td>5</td>\n",
       "      <td>us</td>\n",
       "      <td>DOWN</td>\n",
       "      <td>Jeffrey Sachs: Trump’s Plan to Stop WWIII, CIA...</td>\n",
       "      <td>Professor Jeffrey Sachs’s provides a full and ...</td>\n",
       "      <td>The Tucker Carlson Show</td>\n",
       "      <td>The Tucker Carlson Show is your beacon of free...</td>\n",
       "      <td>Tucker Carlson Network</td>\n",
       "      <td>False</td>\n",
       "      <td>['en']</td>\n",
       "      <td>2024-08-30</td>\n",
       "      <td>&lt;p&gt;The Tucker Carlson Show is your beacon of f...</td>\n",
       "      <td>audio</td>\n",
       "      <td>115</td>\n",
       "      <td>148</td>\n",
       "    </tr>\n",
       "  </tbody>\n",
       "</table>\n",
       "</div>"
      ],
      "text/plain": [
       "         Date  Rank Country Rank_Change  \\\n",
       "0  2024-09-02     1      us   UNCHANGED   \n",
       "1  2024-09-02     2      us   UNCHANGED   \n",
       "2  2024-09-02     3      us   UNCHANGED   \n",
       "3  2024-09-02     4      us          UP   \n",
       "4  2024-09-02     5      us        DOWN   \n",
       "\n",
       "                                        Episode_Name  \\\n",
       "0                                 #2197 - Mike Baker   \n",
       "1                            #2195 - Andrew Huberman   \n",
       "2                           #2196 - Greg Fitzsimmons   \n",
       "3  The Worst Creature To Run Into During The Ice Age   \n",
       "4  Jeffrey Sachs: Trump’s Plan to Stop WWIII, CIA...   \n",
       "\n",
       "                                 Episode_Description  \\\n",
       "0  Mike Baker is a former CIA covert operations o...   \n",
       "1  Andrew Huberman, PhD, is a neuroscientist and ...   \n",
       "2  Greg Fitzsimmons is a comedian, actor, and wri...   \n",
       "3  The Ice Age was no doubt one of earth’s most q...   \n",
       "4  Professor Jeffrey Sachs’s provides a full and ...   \n",
       "\n",
       "               Podcast_Name  \\\n",
       "0  The Joe Rogan Experience   \n",
       "1  The Joe Rogan Experience   \n",
       "2  The Joe Rogan Experience   \n",
       "3                ExtinctZoo   \n",
       "4   The Tucker Carlson Show   \n",
       "\n",
       "                                 Podcast_Description       Podcast_Publisher  \\\n",
       "0        The official podcast of comedian Joe Rogan.               Joe Rogan   \n",
       "1        The official podcast of comedian Joe Rogan.               Joe Rogan   \n",
       "2        The official podcast of comedian Joe Rogan.               Joe Rogan   \n",
       "3  Your one stop shop for all things dinosaurs, p...              ExtinctZoo   \n",
       "4  The Tucker Carlson Show is your beacon of free...  Tucker Carlson Network   \n",
       "\n",
       "   Is_Explicit Language Release_Date  \\\n",
       "0         True   ['en']   2024-08-29   \n",
       "1         True   ['en']   2024-08-27   \n",
       "2         True   ['en']   2024-08-28   \n",
       "3        False   ['en']   2024-08-31   \n",
       "4        False   ['en']   2024-08-30   \n",
       "\n",
       "                               Show_HTML_Description Show_Media_Type  \\\n",
       "0  <p>The official podcast of comedian Joe Rogan....           mixed   \n",
       "1  <p>The official podcast of comedian Joe Rogan....           mixed   \n",
       "2  <p>The official podcast of comedian Joe Rogan....           mixed   \n",
       "3  Your one stop shop for all things dinosaurs, p...           mixed   \n",
       "4  <p>The Tucker Carlson Show is your beacon of f...           audio   \n",
       "\n",
       "   Total_Episodes  Episode_Duration_Minutes  \n",
       "0            2366                       164  \n",
       "1            2366                       187  \n",
       "2            2366                       180  \n",
       "3              30                        17  \n",
       "4             115                       148  "
      ]
     },
     "execution_count": 76,
     "metadata": {},
     "output_type": "execute_result"
    }
   ],
   "source": [
    " # Start by creating a new DataFrame\n",
    " pods_df = df.copy()\n",
    " pods_df.head()"
   ]
  },
  {
   "cell_type": "code",
   "execution_count": 77,
   "metadata": {
    "colab": {
     "base_uri": "https://localhost:8080/",
     "height": 452
    },
    "executionInfo": {
     "elapsed": 198,
     "status": "ok",
     "timestamp": 1741750927265,
     "user": {
      "displayName": "Carlson Thai",
      "userId": "09141101884345333781"
     },
     "user_tz": 420
    },
    "id": "CgEmzwD_K_uL",
    "outputId": "0bc4767b-b82d-436a-f642-7f5e811388c1"
   },
   "outputs": [
    {
     "data": {
      "text/html": [
       "<div>\n",
       "<style scoped>\n",
       "    .dataframe tbody tr th:only-of-type {\n",
       "        vertical-align: middle;\n",
       "    }\n",
       "\n",
       "    .dataframe tbody tr th {\n",
       "        vertical-align: top;\n",
       "    }\n",
       "\n",
       "    .dataframe thead th {\n",
       "        text-align: right;\n",
       "    }\n",
       "</style>\n",
       "<table border=\"1\" class=\"dataframe\">\n",
       "  <thead>\n",
       "    <tr style=\"text-align: right;\">\n",
       "      <th></th>\n",
       "      <th>Date</th>\n",
       "      <th>Rank</th>\n",
       "      <th>Country</th>\n",
       "      <th>Rank_Change</th>\n",
       "      <th>Episode_Name</th>\n",
       "      <th>Episode_Description</th>\n",
       "      <th>Podcast_Name</th>\n",
       "      <th>Podcast_Description</th>\n",
       "      <th>Podcast_Publisher</th>\n",
       "      <th>Is_Explicit</th>\n",
       "      <th>Language</th>\n",
       "      <th>Release_Date</th>\n",
       "      <th>Show_HTML_Description</th>\n",
       "      <th>Show_Media_Type</th>\n",
       "      <th>Total_Episodes</th>\n",
       "      <th>Episode_Duration_Minutes</th>\n",
       "      <th>top_50</th>\n",
       "    </tr>\n",
       "  </thead>\n",
       "  <tbody>\n",
       "    <tr>\n",
       "      <th>0</th>\n",
       "      <td>2024-09-02</td>\n",
       "      <td>1</td>\n",
       "      <td>us</td>\n",
       "      <td>UNCHANGED</td>\n",
       "      <td>#2197 - Mike Baker</td>\n",
       "      <td>Mike Baker is a former CIA covert operations o...</td>\n",
       "      <td>The Joe Rogan Experience</td>\n",
       "      <td>The official podcast of comedian Joe Rogan.</td>\n",
       "      <td>Joe Rogan</td>\n",
       "      <td>True</td>\n",
       "      <td>['en']</td>\n",
       "      <td>2024-08-29</td>\n",
       "      <td>&lt;p&gt;The official podcast of comedian Joe Rogan....</td>\n",
       "      <td>mixed</td>\n",
       "      <td>2366</td>\n",
       "      <td>164</td>\n",
       "      <td>1</td>\n",
       "    </tr>\n",
       "    <tr>\n",
       "      <th>1</th>\n",
       "      <td>2024-09-02</td>\n",
       "      <td>2</td>\n",
       "      <td>us</td>\n",
       "      <td>UNCHANGED</td>\n",
       "      <td>#2195 - Andrew Huberman</td>\n",
       "      <td>Andrew Huberman, PhD, is a neuroscientist and ...</td>\n",
       "      <td>The Joe Rogan Experience</td>\n",
       "      <td>The official podcast of comedian Joe Rogan.</td>\n",
       "      <td>Joe Rogan</td>\n",
       "      <td>True</td>\n",
       "      <td>['en']</td>\n",
       "      <td>2024-08-27</td>\n",
       "      <td>&lt;p&gt;The official podcast of comedian Joe Rogan....</td>\n",
       "      <td>mixed</td>\n",
       "      <td>2366</td>\n",
       "      <td>187</td>\n",
       "      <td>1</td>\n",
       "    </tr>\n",
       "    <tr>\n",
       "      <th>2</th>\n",
       "      <td>2024-09-02</td>\n",
       "      <td>3</td>\n",
       "      <td>us</td>\n",
       "      <td>UNCHANGED</td>\n",
       "      <td>#2196 - Greg Fitzsimmons</td>\n",
       "      <td>Greg Fitzsimmons is a comedian, actor, and wri...</td>\n",
       "      <td>The Joe Rogan Experience</td>\n",
       "      <td>The official podcast of comedian Joe Rogan.</td>\n",
       "      <td>Joe Rogan</td>\n",
       "      <td>True</td>\n",
       "      <td>['en']</td>\n",
       "      <td>2024-08-28</td>\n",
       "      <td>&lt;p&gt;The official podcast of comedian Joe Rogan....</td>\n",
       "      <td>mixed</td>\n",
       "      <td>2366</td>\n",
       "      <td>180</td>\n",
       "      <td>1</td>\n",
       "    </tr>\n",
       "    <tr>\n",
       "      <th>3</th>\n",
       "      <td>2024-09-02</td>\n",
       "      <td>4</td>\n",
       "      <td>us</td>\n",
       "      <td>UP</td>\n",
       "      <td>The Worst Creature To Run Into During The Ice Age</td>\n",
       "      <td>The Ice Age was no doubt one of earth’s most q...</td>\n",
       "      <td>ExtinctZoo</td>\n",
       "      <td>Your one stop shop for all things dinosaurs, p...</td>\n",
       "      <td>ExtinctZoo</td>\n",
       "      <td>False</td>\n",
       "      <td>['en']</td>\n",
       "      <td>2024-08-31</td>\n",
       "      <td>Your one stop shop for all things dinosaurs, p...</td>\n",
       "      <td>mixed</td>\n",
       "      <td>30</td>\n",
       "      <td>17</td>\n",
       "      <td>1</td>\n",
       "    </tr>\n",
       "    <tr>\n",
       "      <th>4</th>\n",
       "      <td>2024-09-02</td>\n",
       "      <td>5</td>\n",
       "      <td>us</td>\n",
       "      <td>DOWN</td>\n",
       "      <td>Jeffrey Sachs: Trump’s Plan to Stop WWIII, CIA...</td>\n",
       "      <td>Professor Jeffrey Sachs’s provides a full and ...</td>\n",
       "      <td>The Tucker Carlson Show</td>\n",
       "      <td>The Tucker Carlson Show is your beacon of free...</td>\n",
       "      <td>Tucker Carlson Network</td>\n",
       "      <td>False</td>\n",
       "      <td>['en']</td>\n",
       "      <td>2024-08-30</td>\n",
       "      <td>&lt;p&gt;The Tucker Carlson Show is your beacon of f...</td>\n",
       "      <td>audio</td>\n",
       "      <td>115</td>\n",
       "      <td>148</td>\n",
       "      <td>1</td>\n",
       "    </tr>\n",
       "  </tbody>\n",
       "</table>\n",
       "</div>"
      ],
      "text/plain": [
       "         Date  Rank Country Rank_Change  \\\n",
       "0  2024-09-02     1      us   UNCHANGED   \n",
       "1  2024-09-02     2      us   UNCHANGED   \n",
       "2  2024-09-02     3      us   UNCHANGED   \n",
       "3  2024-09-02     4      us          UP   \n",
       "4  2024-09-02     5      us        DOWN   \n",
       "\n",
       "                                        Episode_Name  \\\n",
       "0                                 #2197 - Mike Baker   \n",
       "1                            #2195 - Andrew Huberman   \n",
       "2                           #2196 - Greg Fitzsimmons   \n",
       "3  The Worst Creature To Run Into During The Ice Age   \n",
       "4  Jeffrey Sachs: Trump’s Plan to Stop WWIII, CIA...   \n",
       "\n",
       "                                 Episode_Description  \\\n",
       "0  Mike Baker is a former CIA covert operations o...   \n",
       "1  Andrew Huberman, PhD, is a neuroscientist and ...   \n",
       "2  Greg Fitzsimmons is a comedian, actor, and wri...   \n",
       "3  The Ice Age was no doubt one of earth’s most q...   \n",
       "4  Professor Jeffrey Sachs’s provides a full and ...   \n",
       "\n",
       "               Podcast_Name  \\\n",
       "0  The Joe Rogan Experience   \n",
       "1  The Joe Rogan Experience   \n",
       "2  The Joe Rogan Experience   \n",
       "3                ExtinctZoo   \n",
       "4   The Tucker Carlson Show   \n",
       "\n",
       "                                 Podcast_Description       Podcast_Publisher  \\\n",
       "0        The official podcast of comedian Joe Rogan.               Joe Rogan   \n",
       "1        The official podcast of comedian Joe Rogan.               Joe Rogan   \n",
       "2        The official podcast of comedian Joe Rogan.               Joe Rogan   \n",
       "3  Your one stop shop for all things dinosaurs, p...              ExtinctZoo   \n",
       "4  The Tucker Carlson Show is your beacon of free...  Tucker Carlson Network   \n",
       "\n",
       "   Is_Explicit Language Release_Date  \\\n",
       "0         True   ['en']   2024-08-29   \n",
       "1         True   ['en']   2024-08-27   \n",
       "2         True   ['en']   2024-08-28   \n",
       "3        False   ['en']   2024-08-31   \n",
       "4        False   ['en']   2024-08-30   \n",
       "\n",
       "                               Show_HTML_Description Show_Media_Type  \\\n",
       "0  <p>The official podcast of comedian Joe Rogan....           mixed   \n",
       "1  <p>The official podcast of comedian Joe Rogan....           mixed   \n",
       "2  <p>The official podcast of comedian Joe Rogan....           mixed   \n",
       "3  Your one stop shop for all things dinosaurs, p...           mixed   \n",
       "4  <p>The Tucker Carlson Show is your beacon of f...           audio   \n",
       "\n",
       "   Total_Episodes  Episode_Duration_Minutes  top_50  \n",
       "0            2366                       164       1  \n",
       "1            2366                       187       1  \n",
       "2            2366                       180       1  \n",
       "3              30                        17       1  \n",
       "4             115                       148       1  "
      ]
     },
     "execution_count": 77,
     "metadata": {},
     "output_type": "execute_result"
    }
   ],
   "source": [
    "# Let's focus on the Top 50\n",
    "# Write the lambda function\n",
    "# For reference: 1 = top_50, 0 = not\n",
    "pods_df['top_50'] = pods_df['Rank'].apply(lambda x: 1 if x <=50 else 0)\n",
    "pods_df.head()"
   ]
  },
  {
   "cell_type": "code",
   "execution_count": 78,
   "metadata": {
    "id": "SK_KRbWuKCU6"
   },
   "outputs": [],
   "source": [
    "# Now let's trim all the unneeded columns\n",
    "# Want a steamlined model that will only focus on features likely to impact ranking\n",
    "columns_to_drop = [\n",
    "    'Country',\n",
    "    'Date',\n",
    "    'Episode_Name',\n",
    "    'Episode_Description',\n",
    "    'Podcast_Name',\n",
    "    'Podcast_Description',\n",
    "    'Podcast_Publisher',\n",
    "    'Language',\n",
    "    'Rank',\n",
    "    'Rank_Change',\n",
    "    'Release_Date',\n",
    "    'Show_HTML_Description'\n",
    "]\n",
    "pods_df.drop(columns=columns_to_drop, inplace=True)"
   ]
  },
  {
   "cell_type": "code",
   "execution_count": 79,
   "metadata": {
    "colab": {
     "base_uri": "https://localhost:8080/",
     "height": 206
    },
    "executionInfo": {
     "elapsed": 10,
     "status": "ok",
     "timestamp": 1741750927311,
     "user": {
      "displayName": "Carlson Thai",
      "userId": "09141101884345333781"
     },
     "user_tz": 420
    },
    "id": "-BxfJrNXKh-i",
    "outputId": "cbb392e9-27aa-49d1-cef5-2eea0f763b24"
   },
   "outputs": [
    {
     "data": {
      "text/html": [
       "<div>\n",
       "<style scoped>\n",
       "    .dataframe tbody tr th:only-of-type {\n",
       "        vertical-align: middle;\n",
       "    }\n",
       "\n",
       "    .dataframe tbody tr th {\n",
       "        vertical-align: top;\n",
       "    }\n",
       "\n",
       "    .dataframe thead th {\n",
       "        text-align: right;\n",
       "    }\n",
       "</style>\n",
       "<table border=\"1\" class=\"dataframe\">\n",
       "  <thead>\n",
       "    <tr style=\"text-align: right;\">\n",
       "      <th></th>\n",
       "      <th>Is_Explicit</th>\n",
       "      <th>Show_Media_Type</th>\n",
       "      <th>Total_Episodes</th>\n",
       "      <th>Episode_Duration_Minutes</th>\n",
       "      <th>top_50</th>\n",
       "    </tr>\n",
       "  </thead>\n",
       "  <tbody>\n",
       "    <tr>\n",
       "      <th>0</th>\n",
       "      <td>True</td>\n",
       "      <td>mixed</td>\n",
       "      <td>2366</td>\n",
       "      <td>164</td>\n",
       "      <td>1</td>\n",
       "    </tr>\n",
       "    <tr>\n",
       "      <th>1</th>\n",
       "      <td>True</td>\n",
       "      <td>mixed</td>\n",
       "      <td>2366</td>\n",
       "      <td>187</td>\n",
       "      <td>1</td>\n",
       "    </tr>\n",
       "    <tr>\n",
       "      <th>2</th>\n",
       "      <td>True</td>\n",
       "      <td>mixed</td>\n",
       "      <td>2366</td>\n",
       "      <td>180</td>\n",
       "      <td>1</td>\n",
       "    </tr>\n",
       "    <tr>\n",
       "      <th>3</th>\n",
       "      <td>False</td>\n",
       "      <td>mixed</td>\n",
       "      <td>30</td>\n",
       "      <td>17</td>\n",
       "      <td>1</td>\n",
       "    </tr>\n",
       "    <tr>\n",
       "      <th>4</th>\n",
       "      <td>False</td>\n",
       "      <td>audio</td>\n",
       "      <td>115</td>\n",
       "      <td>148</td>\n",
       "      <td>1</td>\n",
       "    </tr>\n",
       "  </tbody>\n",
       "</table>\n",
       "</div>"
      ],
      "text/plain": [
       "   Is_Explicit Show_Media_Type  Total_Episodes  Episode_Duration_Minutes  \\\n",
       "0         True           mixed            2366                       164   \n",
       "1         True           mixed            2366                       187   \n",
       "2         True           mixed            2366                       180   \n",
       "3        False           mixed              30                        17   \n",
       "4        False           audio             115                       148   \n",
       "\n",
       "   top_50  \n",
       "0       1  \n",
       "1       1  \n",
       "2       1  \n",
       "3       1  \n",
       "4       1  "
      ]
     },
     "execution_count": 79,
     "metadata": {},
     "output_type": "execute_result"
    }
   ],
   "source": [
    "# Check the updated DataFrame\n",
    "pods_df.head()"
   ]
  },
  {
   "cell_type": "code",
   "execution_count": 80,
   "metadata": {
    "colab": {
     "base_uri": "https://localhost:8080/"
    },
    "executionInfo": {
     "elapsed": 9,
     "status": "ok",
     "timestamp": 1741750927312,
     "user": {
      "displayName": "Carlson Thai",
      "userId": "09141101884345333781"
     },
     "user_tz": 420
    },
    "id": "9GKMjgos_QUU",
    "outputId": "5eeab067-26f0-4908-97d9-37dde777eb96"
   },
   "outputs": [
    {
     "data": {
      "text/plain": [
       "(228800, 5)"
      ]
     },
     "execution_count": 80,
     "metadata": {},
     "output_type": "execute_result"
    }
   ],
   "source": [
    "# Use .shape to see that there are just five columns now\n",
    "pods_df.shape"
   ]
  },
  {
   "cell_type": "code",
   "execution_count": 81,
   "metadata": {
    "colab": {
     "base_uri": "https://localhost:8080/",
     "height": 423
    },
    "executionInfo": {
     "elapsed": 113,
     "status": "ok",
     "timestamp": 1741750927425,
     "user": {
      "displayName": "Carlson Thai",
      "userId": "09141101884345333781"
     },
     "user_tz": 420
    },
    "id": "_RlOXlyqK4Lu",
    "outputId": "0337eafc-334e-482a-9759-74f60db19d25"
   },
   "outputs": [
    {
     "data": {
      "text/html": [
       "<div>\n",
       "<style scoped>\n",
       "    .dataframe tbody tr th:only-of-type {\n",
       "        vertical-align: middle;\n",
       "    }\n",
       "\n",
       "    .dataframe tbody tr th {\n",
       "        vertical-align: top;\n",
       "    }\n",
       "\n",
       "    .dataframe thead th {\n",
       "        text-align: right;\n",
       "    }\n",
       "</style>\n",
       "<table border=\"1\" class=\"dataframe\">\n",
       "  <thead>\n",
       "    <tr style=\"text-align: right;\">\n",
       "      <th></th>\n",
       "      <th>Total_Episodes</th>\n",
       "      <th>Episode_Duration_Minutes</th>\n",
       "      <th>top_50</th>\n",
       "      <th>Is_Explicit_False</th>\n",
       "      <th>Is_Explicit_True</th>\n",
       "      <th>Show_Media_Type_audio</th>\n",
       "      <th>Show_Media_Type_mixed</th>\n",
       "    </tr>\n",
       "  </thead>\n",
       "  <tbody>\n",
       "    <tr>\n",
       "      <th>0</th>\n",
       "      <td>2366</td>\n",
       "      <td>164</td>\n",
       "      <td>1</td>\n",
       "      <td>0.0</td>\n",
       "      <td>1.0</td>\n",
       "      <td>0.0</td>\n",
       "      <td>1.0</td>\n",
       "    </tr>\n",
       "    <tr>\n",
       "      <th>1</th>\n",
       "      <td>2366</td>\n",
       "      <td>187</td>\n",
       "      <td>1</td>\n",
       "      <td>0.0</td>\n",
       "      <td>1.0</td>\n",
       "      <td>0.0</td>\n",
       "      <td>1.0</td>\n",
       "    </tr>\n",
       "    <tr>\n",
       "      <th>2</th>\n",
       "      <td>2366</td>\n",
       "      <td>180</td>\n",
       "      <td>1</td>\n",
       "      <td>0.0</td>\n",
       "      <td>1.0</td>\n",
       "      <td>0.0</td>\n",
       "      <td>1.0</td>\n",
       "    </tr>\n",
       "    <tr>\n",
       "      <th>3</th>\n",
       "      <td>30</td>\n",
       "      <td>17</td>\n",
       "      <td>1</td>\n",
       "      <td>1.0</td>\n",
       "      <td>0.0</td>\n",
       "      <td>0.0</td>\n",
       "      <td>1.0</td>\n",
       "    </tr>\n",
       "    <tr>\n",
       "      <th>4</th>\n",
       "      <td>115</td>\n",
       "      <td>148</td>\n",
       "      <td>1</td>\n",
       "      <td>1.0</td>\n",
       "      <td>0.0</td>\n",
       "      <td>1.0</td>\n",
       "      <td>0.0</td>\n",
       "    </tr>\n",
       "    <tr>\n",
       "      <th>...</th>\n",
       "      <td>...</td>\n",
       "      <td>...</td>\n",
       "      <td>...</td>\n",
       "      <td>...</td>\n",
       "      <td>...</td>\n",
       "      <td>...</td>\n",
       "      <td>...</td>\n",
       "    </tr>\n",
       "    <tr>\n",
       "      <th>228795</th>\n",
       "      <td>1760</td>\n",
       "      <td>57</td>\n",
       "      <td>0</td>\n",
       "      <td>1.0</td>\n",
       "      <td>0.0</td>\n",
       "      <td>1.0</td>\n",
       "      <td>0.0</td>\n",
       "    </tr>\n",
       "    <tr>\n",
       "      <th>228796</th>\n",
       "      <td>487</td>\n",
       "      <td>46</td>\n",
       "      <td>0</td>\n",
       "      <td>1.0</td>\n",
       "      <td>0.0</td>\n",
       "      <td>0.0</td>\n",
       "      <td>1.0</td>\n",
       "    </tr>\n",
       "    <tr>\n",
       "      <th>228797</th>\n",
       "      <td>274</td>\n",
       "      <td>41</td>\n",
       "      <td>0</td>\n",
       "      <td>1.0</td>\n",
       "      <td>0.0</td>\n",
       "      <td>0.0</td>\n",
       "      <td>1.0</td>\n",
       "    </tr>\n",
       "    <tr>\n",
       "      <th>228798</th>\n",
       "      <td>228</td>\n",
       "      <td>49</td>\n",
       "      <td>0</td>\n",
       "      <td>1.0</td>\n",
       "      <td>0.0</td>\n",
       "      <td>1.0</td>\n",
       "      <td>0.0</td>\n",
       "    </tr>\n",
       "    <tr>\n",
       "      <th>228799</th>\n",
       "      <td>1232</td>\n",
       "      <td>42</td>\n",
       "      <td>0</td>\n",
       "      <td>1.0</td>\n",
       "      <td>0.0</td>\n",
       "      <td>1.0</td>\n",
       "      <td>0.0</td>\n",
       "    </tr>\n",
       "  </tbody>\n",
       "</table>\n",
       "<p>228800 rows × 7 columns</p>\n",
       "</div>"
      ],
      "text/plain": [
       "        Total_Episodes  Episode_Duration_Minutes  top_50  Is_Explicit_False  \\\n",
       "0                 2366                       164       1                0.0   \n",
       "1                 2366                       187       1                0.0   \n",
       "2                 2366                       180       1                0.0   \n",
       "3                   30                        17       1                1.0   \n",
       "4                  115                       148       1                1.0   \n",
       "...                ...                       ...     ...                ...   \n",
       "228795            1760                        57       0                1.0   \n",
       "228796             487                        46       0                1.0   \n",
       "228797             274                        41       0                1.0   \n",
       "228798             228                        49       0                1.0   \n",
       "228799            1232                        42       0                1.0   \n",
       "\n",
       "        Is_Explicit_True  Show_Media_Type_audio  Show_Media_Type_mixed  \n",
       "0                    1.0                    0.0                    1.0  \n",
       "1                    1.0                    0.0                    1.0  \n",
       "2                    1.0                    0.0                    1.0  \n",
       "3                    0.0                    0.0                    1.0  \n",
       "4                    0.0                    1.0                    0.0  \n",
       "...                  ...                    ...                    ...  \n",
       "228795               0.0                    1.0                    0.0  \n",
       "228796               0.0                    0.0                    1.0  \n",
       "228797               0.0                    0.0                    1.0  \n",
       "228798               0.0                    1.0                    0.0  \n",
       "228799               0.0                    1.0                    0.0  \n",
       "\n",
       "[228800 rows x 7 columns]"
      ]
     },
     "execution_count": 81,
     "metadata": {},
     "output_type": "execute_result"
    }
   ],
   "source": [
    "# Now get dummies to turn are key categorical varibles into 1's and 0's\n",
    "pods_df = pd.get_dummies(pods_df, columns=['Is_Explicit', 'Show_Media_Type'],dtype=float)\n",
    "pods_df"
   ]
  },
  {
   "cell_type": "code",
   "execution_count": 82,
   "metadata": {
    "colab": {
     "base_uri": "https://localhost:8080/",
     "height": 269
    },
    "executionInfo": {
     "elapsed": 77,
     "status": "ok",
     "timestamp": 1741750927501,
     "user": {
      "displayName": "Carlson Thai",
      "userId": "09141101884345333781"
     },
     "user_tz": 420
    },
    "id": "vwdPsTL1AwQ9",
    "outputId": "dcb3c598-1dd4-470b-b6fc-9463b08635e1"
   },
   "outputs": [
    {
     "data": {
      "text/html": [
       "<div>\n",
       "<style scoped>\n",
       "    .dataframe tbody tr th:only-of-type {\n",
       "        vertical-align: middle;\n",
       "    }\n",
       "\n",
       "    .dataframe tbody tr th {\n",
       "        vertical-align: top;\n",
       "    }\n",
       "\n",
       "    .dataframe thead th {\n",
       "        text-align: right;\n",
       "    }\n",
       "</style>\n",
       "<table border=\"1\" class=\"dataframe\">\n",
       "  <thead>\n",
       "    <tr style=\"text-align: right;\">\n",
       "      <th></th>\n",
       "      <th>Total_Episodes</th>\n",
       "      <th>Episode_Duration_Minutes</th>\n",
       "      <th>top_50</th>\n",
       "      <th>Is_Explicit_False</th>\n",
       "      <th>Is_Explicit_True</th>\n",
       "      <th>Show_Media_Type_audio</th>\n",
       "      <th>Show_Media_Type_mixed</th>\n",
       "    </tr>\n",
       "  </thead>\n",
       "  <tbody>\n",
       "    <tr>\n",
       "      <th>Total_Episodes</th>\n",
       "      <td>1.000000</td>\n",
       "      <td>0.024419</td>\n",
       "      <td>0.038027</td>\n",
       "      <td>-0.056908</td>\n",
       "      <td>0.056908</td>\n",
       "      <td>0.009521</td>\n",
       "      <td>-0.009521</td>\n",
       "    </tr>\n",
       "    <tr>\n",
       "      <th>Episode_Duration_Minutes</th>\n",
       "      <td>0.024419</td>\n",
       "      <td>1.000000</td>\n",
       "      <td>0.041261</td>\n",
       "      <td>-0.138460</td>\n",
       "      <td>0.138460</td>\n",
       "      <td>-0.142970</td>\n",
       "      <td>0.142970</td>\n",
       "    </tr>\n",
       "    <tr>\n",
       "      <th>top_50</th>\n",
       "      <td>0.038027</td>\n",
       "      <td>0.041261</td>\n",
       "      <td>1.000000</td>\n",
       "      <td>-0.034017</td>\n",
       "      <td>0.034017</td>\n",
       "      <td>-0.091161</td>\n",
       "      <td>0.091161</td>\n",
       "    </tr>\n",
       "    <tr>\n",
       "      <th>Is_Explicit_False</th>\n",
       "      <td>-0.056908</td>\n",
       "      <td>-0.138460</td>\n",
       "      <td>-0.034017</td>\n",
       "      <td>1.000000</td>\n",
       "      <td>-1.000000</td>\n",
       "      <td>0.045663</td>\n",
       "      <td>-0.045663</td>\n",
       "    </tr>\n",
       "    <tr>\n",
       "      <th>Is_Explicit_True</th>\n",
       "      <td>0.056908</td>\n",
       "      <td>0.138460</td>\n",
       "      <td>0.034017</td>\n",
       "      <td>-1.000000</td>\n",
       "      <td>1.000000</td>\n",
       "      <td>-0.045663</td>\n",
       "      <td>0.045663</td>\n",
       "    </tr>\n",
       "    <tr>\n",
       "      <th>Show_Media_Type_audio</th>\n",
       "      <td>0.009521</td>\n",
       "      <td>-0.142970</td>\n",
       "      <td>-0.091161</td>\n",
       "      <td>0.045663</td>\n",
       "      <td>-0.045663</td>\n",
       "      <td>1.000000</td>\n",
       "      <td>-1.000000</td>\n",
       "    </tr>\n",
       "    <tr>\n",
       "      <th>Show_Media_Type_mixed</th>\n",
       "      <td>-0.009521</td>\n",
       "      <td>0.142970</td>\n",
       "      <td>0.091161</td>\n",
       "      <td>-0.045663</td>\n",
       "      <td>0.045663</td>\n",
       "      <td>-1.000000</td>\n",
       "      <td>1.000000</td>\n",
       "    </tr>\n",
       "  </tbody>\n",
       "</table>\n",
       "</div>"
      ],
      "text/plain": [
       "                          Total_Episodes  Episode_Duration_Minutes    top_50  \\\n",
       "Total_Episodes                  1.000000                  0.024419  0.038027   \n",
       "Episode_Duration_Minutes        0.024419                  1.000000  0.041261   \n",
       "top_50                          0.038027                  0.041261  1.000000   \n",
       "Is_Explicit_False              -0.056908                 -0.138460 -0.034017   \n",
       "Is_Explicit_True                0.056908                  0.138460  0.034017   \n",
       "Show_Media_Type_audio           0.009521                 -0.142970 -0.091161   \n",
       "Show_Media_Type_mixed          -0.009521                  0.142970  0.091161   \n",
       "\n",
       "                          Is_Explicit_False  Is_Explicit_True  \\\n",
       "Total_Episodes                    -0.056908          0.056908   \n",
       "Episode_Duration_Minutes          -0.138460          0.138460   \n",
       "top_50                            -0.034017          0.034017   \n",
       "Is_Explicit_False                  1.000000         -1.000000   \n",
       "Is_Explicit_True                  -1.000000          1.000000   \n",
       "Show_Media_Type_audio              0.045663         -0.045663   \n",
       "Show_Media_Type_mixed             -0.045663          0.045663   \n",
       "\n",
       "                          Show_Media_Type_audio  Show_Media_Type_mixed  \n",
       "Total_Episodes                         0.009521              -0.009521  \n",
       "Episode_Duration_Minutes              -0.142970               0.142970  \n",
       "top_50                                -0.091161               0.091161  \n",
       "Is_Explicit_False                      0.045663              -0.045663  \n",
       "Is_Explicit_True                      -0.045663               0.045663  \n",
       "Show_Media_Type_audio                  1.000000              -1.000000  \n",
       "Show_Media_Type_mixed                 -1.000000               1.000000  "
      ]
     },
     "execution_count": 82,
     "metadata": {},
     "output_type": "execute_result"
    }
   ],
   "source": [
    "# Notice above that get dummies gave us two versions of each variable for 'Is_Explicit' and 'Show_Media_Type'\n",
    "# Check .corr() to see the issue:\n",
    "pods_df.corr()"
   ]
  },
  {
   "cell_type": "code",
   "execution_count": 83,
   "metadata": {
    "id": "6_mLF1F5Lmzc"
   },
   "outputs": [],
   "source": [
    "# Need to drop one of each of the duplicate columns\n",
    "columns_to_drop = ['Is_Explicit_False', 'Show_Media_Type_audio']\n",
    "pods_df.drop(columns=columns_to_drop, inplace=True)"
   ]
  },
  {
   "cell_type": "code",
   "execution_count": 84,
   "metadata": {
    "colab": {
     "base_uri": "https://localhost:8080/",
     "height": 206
    },
    "executionInfo": {
     "elapsed": 18,
     "status": "ok",
     "timestamp": 1741750927604,
     "user": {
      "displayName": "Carlson Thai",
      "userId": "09141101884345333781"
     },
     "user_tz": 420
    },
    "id": "7teErPbML9Vq",
    "outputId": "f79d4062-a89a-4e6f-f13d-9390fad543d2"
   },
   "outputs": [
    {
     "data": {
      "text/html": [
       "<div>\n",
       "<style scoped>\n",
       "    .dataframe tbody tr th:only-of-type {\n",
       "        vertical-align: middle;\n",
       "    }\n",
       "\n",
       "    .dataframe tbody tr th {\n",
       "        vertical-align: top;\n",
       "    }\n",
       "\n",
       "    .dataframe thead th {\n",
       "        text-align: right;\n",
       "    }\n",
       "</style>\n",
       "<table border=\"1\" class=\"dataframe\">\n",
       "  <thead>\n",
       "    <tr style=\"text-align: right;\">\n",
       "      <th></th>\n",
       "      <th>Total_Episodes</th>\n",
       "      <th>Episode_Duration_Minutes</th>\n",
       "      <th>top_50</th>\n",
       "      <th>Is_Explicit_True</th>\n",
       "      <th>Show_Media_Type_mixed</th>\n",
       "    </tr>\n",
       "  </thead>\n",
       "  <tbody>\n",
       "    <tr>\n",
       "      <th>0</th>\n",
       "      <td>2366</td>\n",
       "      <td>164</td>\n",
       "      <td>1</td>\n",
       "      <td>1.0</td>\n",
       "      <td>1.0</td>\n",
       "    </tr>\n",
       "    <tr>\n",
       "      <th>1</th>\n",
       "      <td>2366</td>\n",
       "      <td>187</td>\n",
       "      <td>1</td>\n",
       "      <td>1.0</td>\n",
       "      <td>1.0</td>\n",
       "    </tr>\n",
       "    <tr>\n",
       "      <th>2</th>\n",
       "      <td>2366</td>\n",
       "      <td>180</td>\n",
       "      <td>1</td>\n",
       "      <td>1.0</td>\n",
       "      <td>1.0</td>\n",
       "    </tr>\n",
       "    <tr>\n",
       "      <th>3</th>\n",
       "      <td>30</td>\n",
       "      <td>17</td>\n",
       "      <td>1</td>\n",
       "      <td>0.0</td>\n",
       "      <td>1.0</td>\n",
       "    </tr>\n",
       "    <tr>\n",
       "      <th>4</th>\n",
       "      <td>115</td>\n",
       "      <td>148</td>\n",
       "      <td>1</td>\n",
       "      <td>0.0</td>\n",
       "      <td>0.0</td>\n",
       "    </tr>\n",
       "  </tbody>\n",
       "</table>\n",
       "</div>"
      ],
      "text/plain": [
       "   Total_Episodes  Episode_Duration_Minutes  top_50  Is_Explicit_True  \\\n",
       "0            2366                       164       1               1.0   \n",
       "1            2366                       187       1               1.0   \n",
       "2            2366                       180       1               1.0   \n",
       "3              30                        17       1               0.0   \n",
       "4             115                       148       1               0.0   \n",
       "\n",
       "   Show_Media_Type_mixed  \n",
       "0                    1.0  \n",
       "1                    1.0  \n",
       "2                    1.0  \n",
       "3                    1.0  \n",
       "4                    0.0  "
      ]
     },
     "execution_count": 84,
     "metadata": {},
     "output_type": "execute_result"
    }
   ],
   "source": [
    "# Check the update\n",
    "pods_df.head()"
   ]
  },
  {
   "cell_type": "markdown",
   "metadata": {
    "id": "7ehC9IU_BVPR"
   },
   "source": [
    "##### Step 3: Set X and Y"
   ]
  },
  {
   "cell_type": "code",
   "execution_count": 86,
   "metadata": {
    "id": "IrueR8EpL_4Z"
   },
   "outputs": [],
   "source": [
    "# Set X and remove the outcome, or target variable, 'top_50'\n",
    "X = pods_df.drop(['top_50'],axis=1)"
   ]
  },
  {
   "cell_type": "code",
   "execution_count": 87,
   "metadata": {
    "id": "qY0cOK4BMLN9"
   },
   "outputs": [],
   "source": [
    "# Set 'top_50' as Y, the target variable\n",
    "Y = pods_df.top_50"
   ]
  },
  {
   "cell_type": "markdown",
   "metadata": {
    "id": "2j3b7AnhDFjS"
   },
   "source": [
    "##### Step 4: Split the Training and Test Set"
   ]
  },
  {
   "cell_type": "code",
   "execution_count": 89,
   "metadata": {
    "id": "C-4rmSL0MRwe"
   },
   "outputs": [],
   "source": [
    "from sklearn.model_selection import train_test_split"
   ]
  },
  {
   "cell_type": "code",
   "execution_count": 90,
   "metadata": {
    "colab": {
     "base_uri": "https://localhost:8080/"
    },
    "executionInfo": {
     "elapsed": 37,
     "status": "ok",
     "timestamp": 1741750928035,
     "user": {
      "displayName": "Carlson Thai",
      "userId": "09141101884345333781"
     },
     "user_tz": 420
    },
    "id": "ITLt0uWwMTve",
    "outputId": "c33bad79-b6e4-4615-b8b4-2b153300c558"
   },
   "outputs": [
    {
     "data": {
      "text/plain": [
       "[        Total_Episodes  Episode_Duration_Minutes  Is_Explicit_True  \\\n",
       " 148358             274                        45               0.0   \n",
       " 39042              883                        47               0.0   \n",
       " 82677              270                        52               0.0   \n",
       " 202108             385                        56               0.0   \n",
       " 77016              256                        65               1.0   \n",
       " ...                ...                       ...               ...   \n",
       " 176963              25                        50               0.0   \n",
       " 117952             272                        77               0.0   \n",
       " 173685              27                        20               1.0   \n",
       " 43567              186                        70               0.0   \n",
       " 199340             120                        57               1.0   \n",
       " \n",
       "         Show_Media_Type_mixed  \n",
       " 148358                    0.0  \n",
       " 39042                     0.0  \n",
       " 82677                     0.0  \n",
       " 202108                    0.0  \n",
       " 77016                     0.0  \n",
       " ...                       ...  \n",
       " 176963                    0.0  \n",
       " 117952                    0.0  \n",
       " 173685                    1.0  \n",
       " 43567                     0.0  \n",
       " 199340                    0.0  \n",
       " \n",
       " [228770 rows x 4 columns],\n",
       "         Total_Episodes  Episode_Duration_Minutes  Is_Explicit_True  \\\n",
       " 202691             275                        27               0.0   \n",
       " 204807              83                        49               0.0   \n",
       " 36264               69                        42               0.0   \n",
       " 189892             243                        12               0.0   \n",
       " 6726               928                        51               0.0   \n",
       " 26327              211                        47               1.0   \n",
       " 2399              2256                        56               0.0   \n",
       " 144715             784                        11               0.0   \n",
       " 94719              114                        47               0.0   \n",
       " 72008              144                        92               0.0   \n",
       " 197057             175                        70               0.0   \n",
       " 104823             350                        51               1.0   \n",
       " 183652             142                        15               0.0   \n",
       " 100639             100                        26               0.0   \n",
       " 21140               81                        23               0.0   \n",
       " 123884             100                         5               0.0   \n",
       " 62730               37                        15               0.0   \n",
       " 8783               910                        71               1.0   \n",
       " 178764             180                        71               0.0   \n",
       " 69798              199                        14               0.0   \n",
       " 121362               9                        42               0.0   \n",
       " 40638              568                        51               0.0   \n",
       " 29560             1684                        15               0.0   \n",
       " 19705             1385                        26               0.0   \n",
       " 216001            1349                        36               0.0   \n",
       " 23173              224                        61               1.0   \n",
       " 91401              340                        33               0.0   \n",
       " 91651               50                        68               0.0   \n",
       " 104810             205                        68               0.0   \n",
       " 50581               61                         1               0.0   \n",
       " \n",
       "         Show_Media_Type_mixed  \n",
       " 202691                    0.0  \n",
       " 204807                    0.0  \n",
       " 36264                     1.0  \n",
       " 189892                    0.0  \n",
       " 6726                      0.0  \n",
       " 26327                     0.0  \n",
       " 2399                      0.0  \n",
       " 144715                    0.0  \n",
       " 94719                     0.0  \n",
       " 72008                     0.0  \n",
       " 197057                    1.0  \n",
       " 104823                    1.0  \n",
       " 183652                    0.0  \n",
       " 100639                    0.0  \n",
       " 21140                     1.0  \n",
       " 123884                    0.0  \n",
       " 62730                     0.0  \n",
       " 8783                      0.0  \n",
       " 178764                    0.0  \n",
       " 69798                     0.0  \n",
       " 121362                    0.0  \n",
       " 40638                     1.0  \n",
       " 29560                     0.0  \n",
       " 19705                     0.0  \n",
       " 216001                    0.0  \n",
       " 23173                     0.0  \n",
       " 91401                     1.0  \n",
       " 91651                     0.0  \n",
       " 104810                    0.0  \n",
       " 50581                     0.0  ,\n",
       " 148358    0\n",
       " 39042     1\n",
       " 82677     0\n",
       " 202108    0\n",
       " 77016     1\n",
       "          ..\n",
       " 176963    0\n",
       " 117952    0\n",
       " 173685    0\n",
       " 43567     0\n",
       " 199340    0\n",
       " Name: top_50, Length: 228770, dtype: int64,\n",
       " 202691    0\n",
       " 204807    1\n",
       " 36264     0\n",
       " 189892    0\n",
       " 6726      0\n",
       " 26327     0\n",
       " 2399      0\n",
       " 144715    0\n",
       " 94719     0\n",
       " 72008     1\n",
       " 197057    0\n",
       " 104823    1\n",
       " 183652    0\n",
       " 100639    1\n",
       " 21140     0\n",
       " 123884    0\n",
       " 62730     0\n",
       " 8783      0\n",
       " 178764    0\n",
       " 69798     0\n",
       " 121362    0\n",
       " 40638     1\n",
       " 29560     0\n",
       " 19705     0\n",
       " 216001    1\n",
       " 23173     0\n",
       " 91401     1\n",
       " 91651     0\n",
       " 104810    1\n",
       " 50581     0\n",
       " Name: top_50, dtype: int64]"
      ]
     },
     "execution_count": 90,
     "metadata": {},
     "output_type": "execute_result"
    }
   ],
   "source": [
    "# Split the data into 70% training set and 30% testing set\n",
    "train_test_split(X,Y,test_size=30,random_state = 0)"
   ]
  },
  {
   "cell_type": "code",
   "execution_count": 91,
   "metadata": {
    "id": "3sC3s0NhMVLQ"
   },
   "outputs": [],
   "source": [
    "# Save X_train, X_test, Y_train, Y_test for future use\n",
    "X_train, X_test, Y_train, Y_test = train_test_split(X,Y,test_size=0.3,random_state = 0)"
   ]
  },
  {
   "cell_type": "code",
   "execution_count": 92,
   "metadata": {
    "colab": {
     "base_uri": "https://localhost:8080/"
    },
    "executionInfo": {
     "elapsed": 68,
     "status": "ok",
     "timestamp": 1741750928198,
     "user": {
      "displayName": "Carlson Thai",
      "userId": "09141101884345333781"
     },
     "user_tz": 420
    },
    "id": "iMqP2zHKMYDW",
    "outputId": "e0d17d94-5427-41f0-802e-d491ecf43ea0"
   },
   "outputs": [
    {
     "data": {
      "text/plain": [
       "228800"
      ]
     },
     "execution_count": 92,
     "metadata": {},
     "output_type": "execute_result"
    }
   ],
   "source": [
    "# Check the number of observations in the whole dataset\n",
    "len(X)"
   ]
  },
  {
   "cell_type": "code",
   "execution_count": 93,
   "metadata": {
    "colab": {
     "base_uri": "https://localhost:8080/"
    },
    "executionInfo": {
     "elapsed": 14,
     "status": "ok",
     "timestamp": 1741750928213,
     "user": {
      "displayName": "Carlson Thai",
      "userId": "09141101884345333781"
     },
     "user_tz": 420
    },
    "id": "snaIcAV_MZZH",
    "outputId": "069e7b01-d251-4d2c-e6a6-069c3b8504af"
   },
   "outputs": [
    {
     "data": {
      "text/plain": [
       "160160"
      ]
     },
     "execution_count": 93,
     "metadata": {},
     "output_type": "execute_result"
    }
   ],
   "source": [
    "# Check the number of observations in the training set\n",
    "len(X_train)"
   ]
  },
  {
   "cell_type": "code",
   "execution_count": 94,
   "metadata": {
    "colab": {
     "base_uri": "https://localhost:8080/"
    },
    "executionInfo": {
     "elapsed": 10,
     "status": "ok",
     "timestamp": 1741750928214,
     "user": {
      "displayName": "Carlson Thai",
      "userId": "09141101884345333781"
     },
     "user_tz": 420
    },
    "id": "c2g7Rg6lMgvx",
    "outputId": "08dba71a-9e02-4174-e88e-c202343c95f8"
   },
   "outputs": [
    {
     "data": {
      "text/plain": [
       "0.7"
      ]
     },
     "execution_count": 94,
     "metadata": {},
     "output_type": "execute_result"
    }
   ],
   "source": [
    "# Confirm the training set is 70% of the total data set\n",
    "len(X_train)/len(X)"
   ]
  },
  {
   "cell_type": "code",
   "execution_count": 95,
   "metadata": {
    "colab": {
     "base_uri": "https://localhost:8080/"
    },
    "executionInfo": {
     "elapsed": 7,
     "status": "ok",
     "timestamp": 1741750928215,
     "user": {
      "displayName": "Carlson Thai",
      "userId": "09141101884345333781"
     },
     "user_tz": 420
    },
    "id": "TII10_z7Mi33",
    "outputId": "f0498105-ebd3-4b77-fbc4-bb04253afb23"
   },
   "outputs": [
    {
     "data": {
      "text/plain": [
       "68640"
      ]
     },
     "execution_count": 95,
     "metadata": {},
     "output_type": "execute_result"
    }
   ],
   "source": [
    "# Check the number of observations in the testing set\n",
    "len(X_test)"
   ]
  },
  {
   "cell_type": "code",
   "execution_count": 96,
   "metadata": {
    "colab": {
     "base_uri": "https://localhost:8080/"
    },
    "executionInfo": {
     "elapsed": 7,
     "status": "ok",
     "timestamp": 1741750928219,
     "user": {
      "displayName": "Carlson Thai",
      "userId": "09141101884345333781"
     },
     "user_tz": 420
    },
    "id": "SHDwN8AbMkSd",
    "outputId": "295e43f0-5bff-44d8-bb26-35cf68618a0d"
   },
   "outputs": [
    {
     "data": {
      "text/plain": [
       "0.3"
      ]
     },
     "execution_count": 96,
     "metadata": {},
     "output_type": "execute_result"
    }
   ],
   "source": [
    "# Confirm that the testing set is 30% of the total dataset\n",
    "len(X_test)/len(X)"
   ]
  },
  {
   "cell_type": "code",
   "execution_count": 97,
   "metadata": {
    "colab": {
     "base_uri": "https://localhost:8080/"
    },
    "executionInfo": {
     "elapsed": 8,
     "status": "ok",
     "timestamp": 1741750928228,
     "user": {
      "displayName": "Carlson Thai",
      "userId": "09141101884345333781"
     },
     "user_tz": 420
    },
    "id": "JMpvTqjXMlye",
    "outputId": "734c5bcd-d491-4037-aa33-a507d5ad88b8"
   },
   "outputs": [
    {
     "data": {
      "text/plain": [
       "True"
      ]
     },
     "execution_count": 97,
     "metadata": {},
     "output_type": "execute_result"
    }
   ],
   "source": [
    "# Confirm that the total length of X_train and X_test equals the length of X\n",
    "(len(X_train) + len(X_test)) == len(X)"
   ]
  },
  {
   "cell_type": "code",
   "execution_count": 98,
   "metadata": {
    "colab": {
     "base_uri": "https://localhost:8080/",
     "height": 206
    },
    "executionInfo": {
     "elapsed": 4,
     "status": "ok",
     "timestamp": 1741750928229,
     "user": {
      "displayName": "Carlson Thai",
      "userId": "09141101884345333781"
     },
     "user_tz": 420
    },
    "id": "yrJkcF0uMnCq",
    "outputId": "57b36f7d-1e21-46fe-e428-240b694dc585"
   },
   "outputs": [
    {
     "data": {
      "text/html": [
       "<div>\n",
       "<style scoped>\n",
       "    .dataframe tbody tr th:only-of-type {\n",
       "        vertical-align: middle;\n",
       "    }\n",
       "\n",
       "    .dataframe tbody tr th {\n",
       "        vertical-align: top;\n",
       "    }\n",
       "\n",
       "    .dataframe thead th {\n",
       "        text-align: right;\n",
       "    }\n",
       "</style>\n",
       "<table border=\"1\" class=\"dataframe\">\n",
       "  <thead>\n",
       "    <tr style=\"text-align: right;\">\n",
       "      <th></th>\n",
       "      <th>Total_Episodes</th>\n",
       "      <th>Episode_Duration_Minutes</th>\n",
       "      <th>Is_Explicit_True</th>\n",
       "      <th>Show_Media_Type_mixed</th>\n",
       "    </tr>\n",
       "  </thead>\n",
       "  <tbody>\n",
       "    <tr>\n",
       "      <th>101956</th>\n",
       "      <td>367</td>\n",
       "      <td>14</td>\n",
       "      <td>0.0</td>\n",
       "      <td>0.0</td>\n",
       "    </tr>\n",
       "    <tr>\n",
       "      <th>128055</th>\n",
       "      <td>324</td>\n",
       "      <td>57</td>\n",
       "      <td>0.0</td>\n",
       "      <td>0.0</td>\n",
       "    </tr>\n",
       "    <tr>\n",
       "      <th>3703</th>\n",
       "      <td>64</td>\n",
       "      <td>73</td>\n",
       "      <td>0.0</td>\n",
       "      <td>1.0</td>\n",
       "    </tr>\n",
       "    <tr>\n",
       "      <th>174277</th>\n",
       "      <td>643</td>\n",
       "      <td>53</td>\n",
       "      <td>0.0</td>\n",
       "      <td>0.0</td>\n",
       "    </tr>\n",
       "    <tr>\n",
       "      <th>33232</th>\n",
       "      <td>85</td>\n",
       "      <td>69</td>\n",
       "      <td>0.0</td>\n",
       "      <td>0.0</td>\n",
       "    </tr>\n",
       "  </tbody>\n",
       "</table>\n",
       "</div>"
      ],
      "text/plain": [
       "        Total_Episodes  Episode_Duration_Minutes  Is_Explicit_True  \\\n",
       "101956             367                        14               0.0   \n",
       "128055             324                        57               0.0   \n",
       "3703                64                        73               0.0   \n",
       "174277             643                        53               0.0   \n",
       "33232               85                        69               0.0   \n",
       "\n",
       "        Show_Media_Type_mixed  \n",
       "101956                    0.0  \n",
       "128055                    0.0  \n",
       "3703                      1.0  \n",
       "174277                    0.0  \n",
       "33232                     0.0  "
      ]
     },
     "execution_count": 98,
     "metadata": {},
     "output_type": "execute_result"
    }
   ],
   "source": [
    "# Check the first 5 rows of the training set, X_train\n",
    "X_train.head()"
   ]
  },
  {
   "cell_type": "markdown",
   "metadata": {
    "id": "lcfx4BTOFKJn"
   },
   "source": [
    "##### Step 5: Train on the training set"
   ]
  },
  {
   "cell_type": "code",
   "execution_count": 100,
   "metadata": {
    "id": "n0cCJJEEMoiR"
   },
   "outputs": [],
   "source": [
    "# Import RandomForestClassifier\n",
    "from sklearn.ensemble import RandomForestClassifier"
   ]
  },
  {
   "cell_type": "code",
   "execution_count": 101,
   "metadata": {
    "colab": {
     "base_uri": "https://localhost:8080/",
     "height": 80
    },
    "executionInfo": {
     "elapsed": 22977,
     "status": "ok",
     "timestamp": 1741750952076,
     "user": {
      "displayName": "Carlson Thai",
      "userId": "09141101884345333781"
     },
     "user_tz": 420
    },
    "id": "P_qxzqU5MrFB",
    "outputId": "600bbcc7-271a-47d5-eff3-1158e4b8ed17"
   },
   "outputs": [
    {
     "data": {
      "text/html": [
       "<style>#sk-container-id-1 {\n",
       "  /* Definition of color scheme common for light and dark mode */\n",
       "  --sklearn-color-text: black;\n",
       "  --sklearn-color-line: gray;\n",
       "  /* Definition of color scheme for unfitted estimators */\n",
       "  --sklearn-color-unfitted-level-0: #fff5e6;\n",
       "  --sklearn-color-unfitted-level-1: #f6e4d2;\n",
       "  --sklearn-color-unfitted-level-2: #ffe0b3;\n",
       "  --sklearn-color-unfitted-level-3: chocolate;\n",
       "  /* Definition of color scheme for fitted estimators */\n",
       "  --sklearn-color-fitted-level-0: #f0f8ff;\n",
       "  --sklearn-color-fitted-level-1: #d4ebff;\n",
       "  --sklearn-color-fitted-level-2: #b3dbfd;\n",
       "  --sklearn-color-fitted-level-3: cornflowerblue;\n",
       "\n",
       "  /* Specific color for light theme */\n",
       "  --sklearn-color-text-on-default-background: var(--sg-text-color, var(--theme-code-foreground, var(--jp-content-font-color1, black)));\n",
       "  --sklearn-color-background: var(--sg-background-color, var(--theme-background, var(--jp-layout-color0, white)));\n",
       "  --sklearn-color-border-box: var(--sg-text-color, var(--theme-code-foreground, var(--jp-content-font-color1, black)));\n",
       "  --sklearn-color-icon: #696969;\n",
       "\n",
       "  @media (prefers-color-scheme: dark) {\n",
       "    /* Redefinition of color scheme for dark theme */\n",
       "    --sklearn-color-text-on-default-background: var(--sg-text-color, var(--theme-code-foreground, var(--jp-content-font-color1, white)));\n",
       "    --sklearn-color-background: var(--sg-background-color, var(--theme-background, var(--jp-layout-color0, #111)));\n",
       "    --sklearn-color-border-box: var(--sg-text-color, var(--theme-code-foreground, var(--jp-content-font-color1, white)));\n",
       "    --sklearn-color-icon: #878787;\n",
       "  }\n",
       "}\n",
       "\n",
       "#sk-container-id-1 {\n",
       "  color: var(--sklearn-color-text);\n",
       "}\n",
       "\n",
       "#sk-container-id-1 pre {\n",
       "  padding: 0;\n",
       "}\n",
       "\n",
       "#sk-container-id-1 input.sk-hidden--visually {\n",
       "  border: 0;\n",
       "  clip: rect(1px 1px 1px 1px);\n",
       "  clip: rect(1px, 1px, 1px, 1px);\n",
       "  height: 1px;\n",
       "  margin: -1px;\n",
       "  overflow: hidden;\n",
       "  padding: 0;\n",
       "  position: absolute;\n",
       "  width: 1px;\n",
       "}\n",
       "\n",
       "#sk-container-id-1 div.sk-dashed-wrapped {\n",
       "  border: 1px dashed var(--sklearn-color-line);\n",
       "  margin: 0 0.4em 0.5em 0.4em;\n",
       "  box-sizing: border-box;\n",
       "  padding-bottom: 0.4em;\n",
       "  background-color: var(--sklearn-color-background);\n",
       "}\n",
       "\n",
       "#sk-container-id-1 div.sk-container {\n",
       "  /* jupyter's `normalize.less` sets `[hidden] { display: none; }`\n",
       "     but bootstrap.min.css set `[hidden] { display: none !important; }`\n",
       "     so we also need the `!important` here to be able to override the\n",
       "     default hidden behavior on the sphinx rendered scikit-learn.org.\n",
       "     See: https://github.com/scikit-learn/scikit-learn/issues/21755 */\n",
       "  display: inline-block !important;\n",
       "  position: relative;\n",
       "}\n",
       "\n",
       "#sk-container-id-1 div.sk-text-repr-fallback {\n",
       "  display: none;\n",
       "}\n",
       "\n",
       "div.sk-parallel-item,\n",
       "div.sk-serial,\n",
       "div.sk-item {\n",
       "  /* draw centered vertical line to link estimators */\n",
       "  background-image: linear-gradient(var(--sklearn-color-text-on-default-background), var(--sklearn-color-text-on-default-background));\n",
       "  background-size: 2px 100%;\n",
       "  background-repeat: no-repeat;\n",
       "  background-position: center center;\n",
       "}\n",
       "\n",
       "/* Parallel-specific style estimator block */\n",
       "\n",
       "#sk-container-id-1 div.sk-parallel-item::after {\n",
       "  content: \"\";\n",
       "  width: 100%;\n",
       "  border-bottom: 2px solid var(--sklearn-color-text-on-default-background);\n",
       "  flex-grow: 1;\n",
       "}\n",
       "\n",
       "#sk-container-id-1 div.sk-parallel {\n",
       "  display: flex;\n",
       "  align-items: stretch;\n",
       "  justify-content: center;\n",
       "  background-color: var(--sklearn-color-background);\n",
       "  position: relative;\n",
       "}\n",
       "\n",
       "#sk-container-id-1 div.sk-parallel-item {\n",
       "  display: flex;\n",
       "  flex-direction: column;\n",
       "}\n",
       "\n",
       "#sk-container-id-1 div.sk-parallel-item:first-child::after {\n",
       "  align-self: flex-end;\n",
       "  width: 50%;\n",
       "}\n",
       "\n",
       "#sk-container-id-1 div.sk-parallel-item:last-child::after {\n",
       "  align-self: flex-start;\n",
       "  width: 50%;\n",
       "}\n",
       "\n",
       "#sk-container-id-1 div.sk-parallel-item:only-child::after {\n",
       "  width: 0;\n",
       "}\n",
       "\n",
       "/* Serial-specific style estimator block */\n",
       "\n",
       "#sk-container-id-1 div.sk-serial {\n",
       "  display: flex;\n",
       "  flex-direction: column;\n",
       "  align-items: center;\n",
       "  background-color: var(--sklearn-color-background);\n",
       "  padding-right: 1em;\n",
       "  padding-left: 1em;\n",
       "}\n",
       "\n",
       "\n",
       "/* Toggleable style: style used for estimator/Pipeline/ColumnTransformer box that is\n",
       "clickable and can be expanded/collapsed.\n",
       "- Pipeline and ColumnTransformer use this feature and define the default style\n",
       "- Estimators will overwrite some part of the style using the `sk-estimator` class\n",
       "*/\n",
       "\n",
       "/* Pipeline and ColumnTransformer style (default) */\n",
       "\n",
       "#sk-container-id-1 div.sk-toggleable {\n",
       "  /* Default theme specific background. It is overwritten whether we have a\n",
       "  specific estimator or a Pipeline/ColumnTransformer */\n",
       "  background-color: var(--sklearn-color-background);\n",
       "}\n",
       "\n",
       "/* Toggleable label */\n",
       "#sk-container-id-1 label.sk-toggleable__label {\n",
       "  cursor: pointer;\n",
       "  display: block;\n",
       "  width: 100%;\n",
       "  margin-bottom: 0;\n",
       "  padding: 0.5em;\n",
       "  box-sizing: border-box;\n",
       "  text-align: center;\n",
       "}\n",
       "\n",
       "#sk-container-id-1 label.sk-toggleable__label-arrow:before {\n",
       "  /* Arrow on the left of the label */\n",
       "  content: \"▸\";\n",
       "  float: left;\n",
       "  margin-right: 0.25em;\n",
       "  color: var(--sklearn-color-icon);\n",
       "}\n",
       "\n",
       "#sk-container-id-1 label.sk-toggleable__label-arrow:hover:before {\n",
       "  color: var(--sklearn-color-text);\n",
       "}\n",
       "\n",
       "/* Toggleable content - dropdown */\n",
       "\n",
       "#sk-container-id-1 div.sk-toggleable__content {\n",
       "  max-height: 0;\n",
       "  max-width: 0;\n",
       "  overflow: hidden;\n",
       "  text-align: left;\n",
       "  /* unfitted */\n",
       "  background-color: var(--sklearn-color-unfitted-level-0);\n",
       "}\n",
       "\n",
       "#sk-container-id-1 div.sk-toggleable__content.fitted {\n",
       "  /* fitted */\n",
       "  background-color: var(--sklearn-color-fitted-level-0);\n",
       "}\n",
       "\n",
       "#sk-container-id-1 div.sk-toggleable__content pre {\n",
       "  margin: 0.2em;\n",
       "  border-radius: 0.25em;\n",
       "  color: var(--sklearn-color-text);\n",
       "  /* unfitted */\n",
       "  background-color: var(--sklearn-color-unfitted-level-0);\n",
       "}\n",
       "\n",
       "#sk-container-id-1 div.sk-toggleable__content.fitted pre {\n",
       "  /* unfitted */\n",
       "  background-color: var(--sklearn-color-fitted-level-0);\n",
       "}\n",
       "\n",
       "#sk-container-id-1 input.sk-toggleable__control:checked~div.sk-toggleable__content {\n",
       "  /* Expand drop-down */\n",
       "  max-height: 200px;\n",
       "  max-width: 100%;\n",
       "  overflow: auto;\n",
       "}\n",
       "\n",
       "#sk-container-id-1 input.sk-toggleable__control:checked~label.sk-toggleable__label-arrow:before {\n",
       "  content: \"▾\";\n",
       "}\n",
       "\n",
       "/* Pipeline/ColumnTransformer-specific style */\n",
       "\n",
       "#sk-container-id-1 div.sk-label input.sk-toggleable__control:checked~label.sk-toggleable__label {\n",
       "  color: var(--sklearn-color-text);\n",
       "  background-color: var(--sklearn-color-unfitted-level-2);\n",
       "}\n",
       "\n",
       "#sk-container-id-1 div.sk-label.fitted input.sk-toggleable__control:checked~label.sk-toggleable__label {\n",
       "  background-color: var(--sklearn-color-fitted-level-2);\n",
       "}\n",
       "\n",
       "/* Estimator-specific style */\n",
       "\n",
       "/* Colorize estimator box */\n",
       "#sk-container-id-1 div.sk-estimator input.sk-toggleable__control:checked~label.sk-toggleable__label {\n",
       "  /* unfitted */\n",
       "  background-color: var(--sklearn-color-unfitted-level-2);\n",
       "}\n",
       "\n",
       "#sk-container-id-1 div.sk-estimator.fitted input.sk-toggleable__control:checked~label.sk-toggleable__label {\n",
       "  /* fitted */\n",
       "  background-color: var(--sklearn-color-fitted-level-2);\n",
       "}\n",
       "\n",
       "#sk-container-id-1 div.sk-label label.sk-toggleable__label,\n",
       "#sk-container-id-1 div.sk-label label {\n",
       "  /* The background is the default theme color */\n",
       "  color: var(--sklearn-color-text-on-default-background);\n",
       "}\n",
       "\n",
       "/* On hover, darken the color of the background */\n",
       "#sk-container-id-1 div.sk-label:hover label.sk-toggleable__label {\n",
       "  color: var(--sklearn-color-text);\n",
       "  background-color: var(--sklearn-color-unfitted-level-2);\n",
       "}\n",
       "\n",
       "/* Label box, darken color on hover, fitted */\n",
       "#sk-container-id-1 div.sk-label.fitted:hover label.sk-toggleable__label.fitted {\n",
       "  color: var(--sklearn-color-text);\n",
       "  background-color: var(--sklearn-color-fitted-level-2);\n",
       "}\n",
       "\n",
       "/* Estimator label */\n",
       "\n",
       "#sk-container-id-1 div.sk-label label {\n",
       "  font-family: monospace;\n",
       "  font-weight: bold;\n",
       "  display: inline-block;\n",
       "  line-height: 1.2em;\n",
       "}\n",
       "\n",
       "#sk-container-id-1 div.sk-label-container {\n",
       "  text-align: center;\n",
       "}\n",
       "\n",
       "/* Estimator-specific */\n",
       "#sk-container-id-1 div.sk-estimator {\n",
       "  font-family: monospace;\n",
       "  border: 1px dotted var(--sklearn-color-border-box);\n",
       "  border-radius: 0.25em;\n",
       "  box-sizing: border-box;\n",
       "  margin-bottom: 0.5em;\n",
       "  /* unfitted */\n",
       "  background-color: var(--sklearn-color-unfitted-level-0);\n",
       "}\n",
       "\n",
       "#sk-container-id-1 div.sk-estimator.fitted {\n",
       "  /* fitted */\n",
       "  background-color: var(--sklearn-color-fitted-level-0);\n",
       "}\n",
       "\n",
       "/* on hover */\n",
       "#sk-container-id-1 div.sk-estimator:hover {\n",
       "  /* unfitted */\n",
       "  background-color: var(--sklearn-color-unfitted-level-2);\n",
       "}\n",
       "\n",
       "#sk-container-id-1 div.sk-estimator.fitted:hover {\n",
       "  /* fitted */\n",
       "  background-color: var(--sklearn-color-fitted-level-2);\n",
       "}\n",
       "\n",
       "/* Specification for estimator info (e.g. \"i\" and \"?\") */\n",
       "\n",
       "/* Common style for \"i\" and \"?\" */\n",
       "\n",
       ".sk-estimator-doc-link,\n",
       "a:link.sk-estimator-doc-link,\n",
       "a:visited.sk-estimator-doc-link {\n",
       "  float: right;\n",
       "  font-size: smaller;\n",
       "  line-height: 1em;\n",
       "  font-family: monospace;\n",
       "  background-color: var(--sklearn-color-background);\n",
       "  border-radius: 1em;\n",
       "  height: 1em;\n",
       "  width: 1em;\n",
       "  text-decoration: none !important;\n",
       "  margin-left: 1ex;\n",
       "  /* unfitted */\n",
       "  border: var(--sklearn-color-unfitted-level-1) 1pt solid;\n",
       "  color: var(--sklearn-color-unfitted-level-1);\n",
       "}\n",
       "\n",
       ".sk-estimator-doc-link.fitted,\n",
       "a:link.sk-estimator-doc-link.fitted,\n",
       "a:visited.sk-estimator-doc-link.fitted {\n",
       "  /* fitted */\n",
       "  border: var(--sklearn-color-fitted-level-1) 1pt solid;\n",
       "  color: var(--sklearn-color-fitted-level-1);\n",
       "}\n",
       "\n",
       "/* On hover */\n",
       "div.sk-estimator:hover .sk-estimator-doc-link:hover,\n",
       ".sk-estimator-doc-link:hover,\n",
       "div.sk-label-container:hover .sk-estimator-doc-link:hover,\n",
       ".sk-estimator-doc-link:hover {\n",
       "  /* unfitted */\n",
       "  background-color: var(--sklearn-color-unfitted-level-3);\n",
       "  color: var(--sklearn-color-background);\n",
       "  text-decoration: none;\n",
       "}\n",
       "\n",
       "div.sk-estimator.fitted:hover .sk-estimator-doc-link.fitted:hover,\n",
       ".sk-estimator-doc-link.fitted:hover,\n",
       "div.sk-label-container:hover .sk-estimator-doc-link.fitted:hover,\n",
       ".sk-estimator-doc-link.fitted:hover {\n",
       "  /* fitted */\n",
       "  background-color: var(--sklearn-color-fitted-level-3);\n",
       "  color: var(--sklearn-color-background);\n",
       "  text-decoration: none;\n",
       "}\n",
       "\n",
       "/* Span, style for the box shown on hovering the info icon */\n",
       ".sk-estimator-doc-link span {\n",
       "  display: none;\n",
       "  z-index: 9999;\n",
       "  position: relative;\n",
       "  font-weight: normal;\n",
       "  right: .2ex;\n",
       "  padding: .5ex;\n",
       "  margin: .5ex;\n",
       "  width: min-content;\n",
       "  min-width: 20ex;\n",
       "  max-width: 50ex;\n",
       "  color: var(--sklearn-color-text);\n",
       "  box-shadow: 2pt 2pt 4pt #999;\n",
       "  /* unfitted */\n",
       "  background: var(--sklearn-color-unfitted-level-0);\n",
       "  border: .5pt solid var(--sklearn-color-unfitted-level-3);\n",
       "}\n",
       "\n",
       ".sk-estimator-doc-link.fitted span {\n",
       "  /* fitted */\n",
       "  background: var(--sklearn-color-fitted-level-0);\n",
       "  border: var(--sklearn-color-fitted-level-3);\n",
       "}\n",
       "\n",
       ".sk-estimator-doc-link:hover span {\n",
       "  display: block;\n",
       "}\n",
       "\n",
       "/* \"?\"-specific style due to the `<a>` HTML tag */\n",
       "\n",
       "#sk-container-id-1 a.estimator_doc_link {\n",
       "  float: right;\n",
       "  font-size: 1rem;\n",
       "  line-height: 1em;\n",
       "  font-family: monospace;\n",
       "  background-color: var(--sklearn-color-background);\n",
       "  border-radius: 1rem;\n",
       "  height: 1rem;\n",
       "  width: 1rem;\n",
       "  text-decoration: none;\n",
       "  /* unfitted */\n",
       "  color: var(--sklearn-color-unfitted-level-1);\n",
       "  border: var(--sklearn-color-unfitted-level-1) 1pt solid;\n",
       "}\n",
       "\n",
       "#sk-container-id-1 a.estimator_doc_link.fitted {\n",
       "  /* fitted */\n",
       "  border: var(--sklearn-color-fitted-level-1) 1pt solid;\n",
       "  color: var(--sklearn-color-fitted-level-1);\n",
       "}\n",
       "\n",
       "/* On hover */\n",
       "#sk-container-id-1 a.estimator_doc_link:hover {\n",
       "  /* unfitted */\n",
       "  background-color: var(--sklearn-color-unfitted-level-3);\n",
       "  color: var(--sklearn-color-background);\n",
       "  text-decoration: none;\n",
       "}\n",
       "\n",
       "#sk-container-id-1 a.estimator_doc_link.fitted:hover {\n",
       "  /* fitted */\n",
       "  background-color: var(--sklearn-color-fitted-level-3);\n",
       "}\n",
       "</style><div id=\"sk-container-id-1\" class=\"sk-top-container\"><div class=\"sk-text-repr-fallback\"><pre>RandomForestClassifier(random_state=0)</pre><b>In a Jupyter environment, please rerun this cell to show the HTML representation or trust the notebook. <br />On GitHub, the HTML representation is unable to render, please try loading this page with nbviewer.org.</b></div><div class=\"sk-container\" hidden><div class=\"sk-item\"><div class=\"sk-estimator fitted sk-toggleable\"><input class=\"sk-toggleable__control sk-hidden--visually\" id=\"sk-estimator-id-1\" type=\"checkbox\" checked><label for=\"sk-estimator-id-1\" class=\"sk-toggleable__label fitted sk-toggleable__label-arrow fitted\">&nbsp;&nbsp;RandomForestClassifier<a class=\"sk-estimator-doc-link fitted\" rel=\"noreferrer\" target=\"_blank\" href=\"https://scikit-learn.org/1.5/modules/generated/sklearn.ensemble.RandomForestClassifier.html\">?<span>Documentation for RandomForestClassifier</span></a><span class=\"sk-estimator-doc-link fitted\">i<span>Fitted</span></span></label><div class=\"sk-toggleable__content fitted\"><pre>RandomForestClassifier(random_state=0)</pre></div> </div></div></div></div>"
      ],
      "text/plain": [
       "RandomForestClassifier(random_state=0)"
      ]
     },
     "execution_count": 101,
     "metadata": {},
     "output_type": "execute_result"
    }
   ],
   "source": [
    "# Initialize the model and train it on the X_train and Y_train data sets\n",
    "cl = RandomForestClassifier(random_state = 0)\n",
    "\n",
    "cl.fit(X_train,Y_train)"
   ]
  },
  {
   "cell_type": "markdown",
   "metadata": {
    "id": "krPQlwINGkcE"
   },
   "source": [
    "##### Step 6: Predict on the test set"
   ]
  },
  {
   "cell_type": "code",
   "execution_count": 103,
   "metadata": {
    "colab": {
     "base_uri": "https://localhost:8080/"
    },
    "executionInfo": {
     "elapsed": 1873,
     "status": "ok",
     "timestamp": 1741750953948,
     "user": {
      "displayName": "Carlson Thai",
      "userId": "09141101884345333781"
     },
     "user_tz": 420
    },
    "id": "GuWPObmEMsl7",
    "outputId": "6eb3d8ba-c986-4851-8b8c-b15fbc95175d"
   },
   "outputs": [
    {
     "data": {
      "text/plain": [
       "array([0, 1, 1, ..., 1, 0, 0], dtype=int64)"
      ]
     },
     "execution_count": 103,
     "metadata": {},
     "output_type": "execute_result"
    }
   ],
   "source": [
    "# Predict on the testing set (X_test) using the trained model\n",
    "cl.predict(X_test)"
   ]
  },
  {
   "cell_type": "code",
   "execution_count": 104,
   "metadata": {
    "colab": {
     "base_uri": "https://localhost:8080/",
     "height": 458
    },
    "executionInfo": {
     "elapsed": 4,
     "status": "ok",
     "timestamp": 1741750953952,
     "user": {
      "displayName": "Carlson Thai",
      "userId": "09141101884345333781"
     },
     "user_tz": 420
    },
    "id": "5gmhkbf1M06a",
    "outputId": "da020d2b-88a6-489d-e760-ade93b950c3a"
   },
   "outputs": [
    {
     "data": {
      "text/plain": [
       "202691    0\n",
       "204807    1\n",
       "36264     0\n",
       "189892    0\n",
       "6726      0\n",
       "         ..\n",
       "193903    0\n",
       "222110    0\n",
       "146089    0\n",
       "180832    1\n",
       "104309    0\n",
       "Name: top_50, Length: 68640, dtype: int64"
      ]
     },
     "execution_count": 104,
     "metadata": {},
     "output_type": "execute_result"
    }
   ],
   "source": [
    "# Display the values of the Y_test, or target variable\n",
    "Y_test"
   ]
  },
  {
   "cell_type": "code",
   "execution_count": 105,
   "metadata": {
    "colab": {
     "base_uri": "https://localhost:8080/"
    },
    "executionInfo": {
     "elapsed": 1978,
     "status": "ok",
     "timestamp": 1741750955931,
     "user": {
      "displayName": "Carlson Thai",
      "userId": "09141101884345333781"
     },
     "user_tz": 420
    },
    "id": "9eBlM00NM3OL",
    "outputId": "2f2c7e2f-cfd9-4c65-83f1-1ff6ad3d6eff"
   },
   "outputs": [
    {
     "data": {
      "text/plain": [
       "0.8030448717948718"
      ]
     },
     "execution_count": 105,
     "metadata": {},
     "output_type": "execute_result"
    }
   ],
   "source": [
    "# Calculate the accuracy of the model by comparing predicted values\n",
    "# to the actual vaules of Y_test\n",
    "(cl.predict(X_test) == Y_test).mean()"
   ]
  },
  {
   "cell_type": "code",
   "execution_count": 106,
   "metadata": {
    "id": "t3s-IzplM5fC"
   },
   "outputs": [],
   "source": [
    "# Store the predicted values in 'y_pred'\n",
    "y_pred = cl.predict(X_test)"
   ]
  },
  {
   "cell_type": "code",
   "execution_count": 107,
   "metadata": {
    "colab": {
     "base_uri": "https://localhost:8080/"
    },
    "executionInfo": {
     "elapsed": 4,
     "status": "ok",
     "timestamp": 1741750958117,
     "user": {
      "displayName": "Carlson Thai",
      "userId": "09141101884345333781"
     },
     "user_tz": 420
    },
    "id": "U9HkJGNbM9aC",
    "outputId": "1b064975-bfae-411b-b34a-f86657158466"
   },
   "outputs": [
    {
     "data": {
      "text/plain": [
       "array([0, 1, 1, ..., 1, 0, 0], dtype=int64)"
      ]
     },
     "execution_count": 107,
     "metadata": {},
     "output_type": "execute_result"
    }
   ],
   "source": [
    "# Check the predicted values in 'y_pred'\n",
    "y_pred"
   ]
  },
  {
   "cell_type": "code",
   "execution_count": 108,
   "metadata": {
    "colab": {
     "base_uri": "https://localhost:8080/"
    },
    "executionInfo": {
     "elapsed": 2169,
     "status": "ok",
     "timestamp": 1741750960286,
     "user": {
      "displayName": "Carlson Thai",
      "userId": "09141101884345333781"
     },
     "user_tz": 420
    },
    "id": "0uUn4OSDM_ih",
    "outputId": "637647e7-70b2-4500-c5b0-3208b122f356"
   },
   "outputs": [
    {
     "data": {
      "text/plain": [
       "array([[1.        , 0.        ],\n",
       "       [0.03      , 0.97      ],\n",
       "       [0.4148189 , 0.5851811 ],\n",
       "       ...,\n",
       "       [0.46075981, 0.53924019],\n",
       "       [0.97716667, 0.02283333],\n",
       "       [0.75478571, 0.24521429]])"
      ]
     },
     "execution_count": 108,
     "metadata": {},
     "output_type": "execute_result"
    }
   ],
   "source": [
    "# Get prediction outputs with probabilities of 0 and 1 using predict_proba\n",
    "cl.predict_proba(X_test)"
   ]
  },
  {
   "cell_type": "code",
   "execution_count": 109,
   "metadata": {
    "id": "MInj_00pNBHn"
   },
   "outputs": [],
   "source": [
    "# Get prediction outputs with probabilities of 1 only\n",
    "# Note: [:,1] is to skip the first value since the focus is on the second one\n",
    "y_pred_proba = cl.predict_proba(X_test)[:,1]"
   ]
  },
  {
   "cell_type": "code",
   "execution_count": 110,
   "metadata": {
    "colab": {
     "base_uri": "https://localhost:8080/"
    },
    "executionInfo": {
     "elapsed": 15,
     "status": "ok",
     "timestamp": 1741750962202,
     "user": {
      "displayName": "Carlson Thai",
      "userId": "09141101884345333781"
     },
     "user_tz": 420
    },
    "id": "W6bKVRPeNEKM",
    "outputId": "44d7894d-30f5-4578-fcc3-1fe65808cd45"
   },
   "outputs": [
    {
     "data": {
      "text/plain": [
       "array([0.        , 0.97      , 0.5851811 , ..., 0.53924019, 0.02283333,\n",
       "       0.24521429])"
      ]
     },
     "execution_count": 110,
     "metadata": {},
     "output_type": "execute_result"
    }
   ],
   "source": [
    "# Check the values for 1's in 'y_pred_proba'\n",
    "y_pred_proba"
   ]
  },
  {
   "cell_type": "markdown",
   "metadata": {
    "id": "GndLTGFkIDvN"
   },
   "source": [
    "##### Step 7: Check the performance of the model"
   ]
  },
  {
   "cell_type": "markdown",
   "metadata": {
    "id": "4sJA-taSMaJk"
   },
   "source": [
    "##### Confusion Matrix"
   ]
  },
  {
   "cell_type": "code",
   "execution_count": 113,
   "metadata": {
    "id": "TZh3yBO6NGwH"
   },
   "outputs": [],
   "source": [
    "# Import the confusion matrix\n",
    "from sklearn.metrics import confusion_matrix"
   ]
  },
  {
   "cell_type": "code",
   "execution_count": 114,
   "metadata": {
    "id": "rLIyaO1LNImq"
   },
   "outputs": [],
   "source": [
    "# Import the metrics module\n",
    "import sklearn.metrics as met"
   ]
  },
  {
   "cell_type": "code",
   "execution_count": 115,
   "metadata": {
    "colab": {
     "base_uri": "https://localhost:8080/"
    },
    "executionInfo": {
     "elapsed": 16,
     "status": "ok",
     "timestamp": 1741750962237,
     "user": {
      "displayName": "Carlson Thai",
      "userId": "09141101884345333781"
     },
     "user_tz": 420
    },
    "id": "sJNQ3FmONJyW",
    "outputId": "3ec7d4b3-312c-4662-bd34-0bc9c3152112"
   },
   "outputs": [
    {
     "data": {
      "text/plain": [
       "array([[45991,  5478],\n",
       "       [ 8041,  9130]], dtype=int64)"
      ]
     },
     "execution_count": 115,
     "metadata": {},
     "output_type": "execute_result"
    }
   ],
   "source": [
    "# Get the confusion matrix using confusion_matrix\n",
    "confusion_matrix(Y_test,y_pred)"
   ]
  },
  {
   "cell_type": "markdown",
   "metadata": {
    "id": "9pLoj6-1JWAL"
   },
   "source": [
    "Reviewing the Confusion Matrix:\n",
    "- **True Positives:** Correctly predicted that 45,991 podcasts stayed in the Top 50\n",
    "- **False Positives:** Incorrectly predicted that 5,478 podasts would stay in the Top 50\n",
    "- **False Negatives:** Incorrectly predicted that 8,041 podcasts would drop out of the Top 50\n",
    "- **True Negatives:** Correctlty predicted that 9,130 podcasts dropped out of the Top 50"
   ]
  },
  {
   "cell_type": "markdown",
   "metadata": {
    "id": "ixyaf3nkMeBw"
   },
   "source": [
    "##### Accuracy"
   ]
  },
  {
   "cell_type": "code",
   "execution_count": 118,
   "metadata": {
    "colab": {
     "base_uri": "https://localhost:8080/"
    },
    "executionInfo": {
     "elapsed": 5,
     "status": "ok",
     "timestamp": 1741750962242,
     "user": {
      "displayName": "Carlson Thai",
      "userId": "09141101884345333781"
     },
     "user_tz": 420
    },
    "id": "DxXjrfMxNLNj",
    "outputId": "03c8d6b6-417c-4128-dbb2-36d4711d6adb"
   },
   "outputs": [
    {
     "data": {
      "text/plain": [
       "0.8030448717948718"
      ]
     },
     "execution_count": 118,
     "metadata": {},
     "output_type": "execute_result"
    }
   ],
   "source": [
    "# Calculate the accuracy by comparing predicted values (y_pred)\n",
    "# to actual vaules (Y_test)\n",
    "(y_pred == Y_test).mean()"
   ]
  },
  {
   "cell_type": "code",
   "execution_count": 119,
   "metadata": {
    "colab": {
     "base_uri": "https://localhost:8080/"
    },
    "executionInfo": {
     "elapsed": 21,
     "status": "ok",
     "timestamp": 1741750962264,
     "user": {
      "displayName": "Carlson Thai",
      "userId": "09141101884345333781"
     },
     "user_tz": 420
    },
    "id": "6ddCIO-bNPFm",
    "outputId": "dcf337d2-ed64-4a8c-a29d-6555683bceb1"
   },
   "outputs": [
    {
     "data": {
      "text/plain": [
       "0.8030448717948718"
      ]
     },
     "execution_count": 119,
     "metadata": {},
     "output_type": "execute_result"
    }
   ],
   "source": [
    "# Now use the .accuracy_score() function to get the Accuracy\n",
    "met.accuracy_score(Y_test, y_pred)"
   ]
  },
  {
   "cell_type": "markdown",
   "metadata": {
    "id": "44nCE7aMNkCp"
   },
   "source": [
    "##### Precision"
   ]
  },
  {
   "cell_type": "code",
   "execution_count": 121,
   "metadata": {
    "colab": {
     "base_uri": "https://localhost:8080/"
    },
    "executionInfo": {
     "elapsed": 32,
     "status": "ok",
     "timestamp": 1741750962296,
     "user": {
      "displayName": "Carlson Thai",
      "userId": "09141101884345333781"
     },
     "user_tz": 420
    },
    "id": "_GPjv1UFNREf",
    "outputId": "7242ee14-d8b6-402c-9009-2963a5eae006"
   },
   "outputs": [
    {
     "data": {
      "text/plain": [
       "0.625"
      ]
     },
     "execution_count": 121,
     "metadata": {},
     "output_type": "execute_result"
    }
   ],
   "source": [
    "# Get Precision using .precision_score()\n",
    "# Note: This shows how many of the retrieved elements were actually positive\n",
    "met.precision_score(Y_test,y_pred)"
   ]
  },
  {
   "cell_type": "code",
   "execution_count": 122,
   "metadata": {
    "colab": {
     "base_uri": "https://localhost:8080/"
    },
    "executionInfo": {
     "elapsed": 25,
     "status": "ok",
     "timestamp": 1741750962319,
     "user": {
      "displayName": "Carlson Thai",
      "userId": "09141101884345333781"
     },
     "user_tz": 420
    },
    "id": "K2plJolUNTLG",
    "outputId": "11cde0ee-1cca-41d1-de00-d9ac5e677cb0"
   },
   "outputs": [
    {
     "data": {
      "text/plain": [
       "0.2501602564102564"
      ]
     },
     "execution_count": 122,
     "metadata": {},
     "output_type": "execute_result"
    }
   ],
   "source": [
    "# Check how often 1s show up in the test data set, or Y_test\n",
    "Y_test.mean()"
   ]
  },
  {
   "cell_type": "markdown",
   "metadata": {
    "id": "EvBbN8fNQMRy"
   },
   "source": [
    "##### Recall"
   ]
  },
  {
   "cell_type": "code",
   "execution_count": 124,
   "metadata": {
    "colab": {
     "base_uri": "https://localhost:8080/"
    },
    "executionInfo": {
     "elapsed": 20,
     "status": "ok",
     "timestamp": 1741750962340,
     "user": {
      "displayName": "Carlson Thai",
      "userId": "09141101884345333781"
     },
     "user_tz": 420
    },
    "id": "l-JGaPmgNUtL",
    "outputId": "2d3e01a2-dc72-4241-9db0-d84e1e1c9b9f"
   },
   "outputs": [
    {
     "data": {
      "text/plain": [
       "0.5317104420243434"
      ]
     },
     "execution_count": 124,
     "metadata": {},
     "output_type": "execute_result"
    }
   ],
   "source": [
    "# Get Recall using .recall_score()\n",
    "# This measures how good the model is at predicting all the podcasts that stayed in the Top 50\n",
    "met.recall_score(Y_test,y_pred)"
   ]
  },
  {
   "cell_type": "markdown",
   "metadata": {
    "id": "oPktfc2NRUvf"
   },
   "source": [
    "##### AUC Score"
   ]
  },
  {
   "cell_type": "code",
   "execution_count": 126,
   "metadata": {
    "colab": {
     "base_uri": "https://localhost:8080/"
    },
    "executionInfo": {
     "elapsed": 51,
     "status": "ok",
     "timestamp": 1741750962390,
     "user": {
      "displayName": "Carlson Thai",
      "userId": "09141101884345333781"
     },
     "user_tz": 420
    },
    "id": "PLJfpJ7MNX-1",
    "outputId": "17d67f6a-200d-4b57-cbb6-aba35c84029b"
   },
   "outputs": [
    {
     "data": {
      "text/plain": [
       "0.8380849224135359"
      ]
     },
     "execution_count": 126,
     "metadata": {},
     "output_type": "execute_result"
    }
   ],
   "source": [
    "# Get AUC score using .roc_auc_score()\n",
    "# This measures how well the model can distinguish between positive and negative cases\n",
    "# A very helpful measure for imbalanced data sets where the model might struggle\n",
    "# with predicting the minority class\n",
    "met.roc_auc_score(Y_test,y_pred_proba)"
   ]
  },
  {
   "cell_type": "markdown",
   "metadata": {
    "id": "rV7cdhfgVBh7"
   },
   "source": [
    "##### Step 8: Explore Feature Importance with the [scikit-learn documentation](https://scikit-learn.org/stable/auto_examples/ensemble/plot_forest_importances.html)"
   ]
  },
  {
   "cell_type": "code",
   "execution_count": 128,
   "metadata": {
    "colab": {
     "base_uri": "https://localhost:8080/",
     "height": 175
    },
    "executionInfo": {
     "elapsed": 89,
     "status": "ok",
     "timestamp": 1741750962467,
     "user": {
      "displayName": "Carlson Thai",
      "userId": "09141101884345333781"
     },
     "user_tz": 420
    },
    "id": "e2XLmDSpNZ0k",
    "outputId": "a03d6144-55fa-4401-f1f0-2e9a7dc287b5"
   },
   "outputs": [
    {
     "data": {
      "text/html": [
       "<div>\n",
       "<style scoped>\n",
       "    .dataframe tbody tr th:only-of-type {\n",
       "        vertical-align: middle;\n",
       "    }\n",
       "\n",
       "    .dataframe tbody tr th {\n",
       "        vertical-align: top;\n",
       "    }\n",
       "\n",
       "    .dataframe thead th {\n",
       "        text-align: right;\n",
       "    }\n",
       "</style>\n",
       "<table border=\"1\" class=\"dataframe\">\n",
       "  <thead>\n",
       "    <tr style=\"text-align: right;\">\n",
       "      <th></th>\n",
       "      <th>Feature</th>\n",
       "      <th>Importance</th>\n",
       "    </tr>\n",
       "  </thead>\n",
       "  <tbody>\n",
       "    <tr>\n",
       "      <th>0</th>\n",
       "      <td>Total_Episodes</td>\n",
       "      <td>0.634871</td>\n",
       "    </tr>\n",
       "    <tr>\n",
       "      <th>1</th>\n",
       "      <td>Episode_Duration_Minutes</td>\n",
       "      <td>0.342805</td>\n",
       "    </tr>\n",
       "    <tr>\n",
       "      <th>3</th>\n",
       "      <td>Show_Media_Type_mixed</td>\n",
       "      <td>0.014285</td>\n",
       "    </tr>\n",
       "    <tr>\n",
       "      <th>2</th>\n",
       "      <td>Is_Explicit_True</td>\n",
       "      <td>0.008038</td>\n",
       "    </tr>\n",
       "  </tbody>\n",
       "</table>\n",
       "</div>"
      ],
      "text/plain": [
       "                    Feature  Importance\n",
       "0            Total_Episodes    0.634871\n",
       "1  Episode_Duration_Minutes    0.342805\n",
       "3     Show_Media_Type_mixed    0.014285\n",
       "2          Is_Explicit_True    0.008038"
      ]
     },
     "execution_count": 128,
     "metadata": {},
     "output_type": "execute_result"
    }
   ],
   "source": [
    "# Let's quickly check the feature importance, or how important each feature is\n",
    "# to the model's prediction\n",
    "\n",
    "# Create a DataFrame for feature importance of the\n",
    "# Random Forest Classifier\n",
    "feature_importance = pd.DataFrame({\n",
    "    'Feature': X_train.columns, # Get the names of the columns\n",
    "    'Importance': cl.feature_importances_ # Use the built-in attribute to get the score for how important each feature is\n",
    "})\n",
    "\n",
    "# Use .sort_values() to sort the features by importance\n",
    "feature_importance = feature_importance.sort_values(by='Importance', ascending=False)\n",
    "\n",
    "feature_importance"
   ]
  },
  {
   "cell_type": "markdown",
   "metadata": {
    "id": "d0EfN_OAaa8m"
   },
   "source": [
    "##### Step 9: Visualize Feature Importance within the model"
   ]
  },
  {
   "cell_type": "code",
   "execution_count": 130,
   "metadata": {
    "colab": {
     "base_uri": "https://localhost:8080/",
     "height": 565
    },
    "executionInfo": {
     "elapsed": 340,
     "status": "ok",
     "timestamp": 1741750962806,
     "user": {
      "displayName": "Carlson Thai",
      "userId": "09141101884345333781"
     },
     "user_tz": 420
    },
    "id": "yYwTXaWjanfL",
    "outputId": "11ece3a2-68c8-4a45-928f-94308f722825"
   },
   "outputs": [
    {
     "data": {
      "text/plain": [
       "<seaborn.axisgrid.FacetGrid at 0x16a23ab35f0>"
      ]
     },
     "execution_count": 130,
     "metadata": {},
     "output_type": "execute_result"
    },
    {
     "data": {
      "text/plain": [
       "Text(0.5, 1.0, 'Feature Importance in the Spotify Top 50 Random Forest Classifer Model')"
      ]
     },
     "execution_count": 130,
     "metadata": {},
     "output_type": "execute_result"
    },
    {
     "data": {
      "image/png": "[encoded data removed]",
      "text/plain": [
       "<Figure size 1011.11x500 with 1 Axes>"
      ]
     },
     "metadata": {},
     "output_type": "display_data"
    }
   ],
   "source": [
    "# Create a catplot to show Feature Importance by feature, or variable\n",
    "sns.catplot(x='Feature', y='Importance', kind='bar', color='lightgreen', aspect=2, data=feature_importance)\n",
    "plt.title('Feature Importance in the Spotify Top 50 Random Forest Classifer Model')"
   ]
  },
  {
   "cell_type": "markdown",
   "metadata": {
    "id": "j4o0t4ywPmwD"
   },
   "source": [
    "### Key Managerial Takeaway"
   ]
  },
  {
   "cell_type": "markdown",
   "metadata": {
    "id": "SCLTgUnjPo93"
   },
   "source": [
    "As the above graph underscores, by far the most important feature in terms of staying the Top 50 is Total_Episodes. There are no shortcuts to the top. Successful shows build a quality library, a strong brand and a loyal auidence."
   ]
  }
 ],
 "metadata": {
  "colab": {
   "provenance": [
    {
     "file_id": "1xrVmfiFl_k211JALbf3u0PwYwi6jcx2s",
     "timestamp": 1741640795823
    }
   ]
  },
  "kernelspec": {
   "display_name": "Python [conda env:base] *",
   "language": "python",
   "name": "conda-base-py"
  },
  "language_info": {
   "codemirror_mode": {
    "name": "ipython",
    "version": 3
   },
   "file_extension": ".py",
   "mimetype": "text/x-python",
   "name": "python",
   "nbconvert_exporter": "python",
   "pygments_lexer": "ipython3",
   "version": "3.12.2"
  }
 },
 "nbformat": 4,
 "nbformat_minor": 4
}
